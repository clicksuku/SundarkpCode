{
 "cells": [
  {
   "cell_type": "code",
   "execution_count": 38,
   "id": "d9957f86",
   "metadata": {},
   "outputs": [],
   "source": [
    "import os\n",
    "import json\n",
    "from dotenv import load_dotenv\n",
    "\n",
    "import pandas as pd\n",
    "import tqdm\n",
    "\n",
    "from openai import OpenAI"
   ]
  },
  {
   "cell_type": "code",
   "execution_count": 2,
   "id": "17bd2033",
   "metadata": {},
   "outputs": [],
   "source": [
    "load_dotenv()\n",
    "\n",
    "OPENAI_API_KEY=os.getenv(\"OPENAI_API_KEY\")\n",
    "OPENAI_BASE_URL=os.getenv(\"OPENAI_BASE_URL\")"
   ]
  },
  {
   "cell_type": "code",
   "execution_count": 6,
   "id": "1e81b6e8",
   "metadata": {},
   "outputs": [],
   "source": [
    "documents_url=\"cards_decline_codes.json\""
   ]
  },
  {
   "cell_type": "code",
   "execution_count": 18,
   "id": "00686b3b",
   "metadata": {},
   "outputs": [],
   "source": [
    "import hashlib\n",
    "\n",
    "def generate_document_id(doc):\n",
    "    # combined = f\"{doc['course']}-{doc['question']}\"\n",
    "    combined = f\"{doc['code']}-{doc['Reason'][:10]}-{doc['Description'][:10]}\"\n",
    "    hash_object = hashlib.md5(combined.encode())\n",
    "    hash_hex = hash_object.hexdigest()\n",
    "    document_id = hash_hex[:8]\n",
    "    return document_id"
   ]
  },
  {
   "cell_type": "code",
   "execution_count": 64,
   "id": "0b7348d4",
   "metadata": {},
   "outputs": [],
   "source": [
    "documents = []"
   ]
  },
  {
   "cell_type": "code",
   "execution_count": 65,
   "id": "e862f723",
   "metadata": {},
   "outputs": [],
   "source": [
    "with open(documents_url, 'r') as f:\n",
    "        documents = json.load(f)"
   ]
  },
  {
   "cell_type": "code",
   "execution_count": 66,
   "id": "d7a59873",
   "metadata": {},
   "outputs": [],
   "source": [
    "for doc in documents:\n",
    "    doc['id']=generate_document_id(doc)"
   ]
  },
  {
   "cell_type": "code",
   "execution_count": 68,
   "id": "088647fd",
   "metadata": {},
   "outputs": [],
   "source": [
    "with open(documents_url, 'w') as f_out:\n",
    "    json.dump(documents, f_out, indent=2)"
   ]
  },
  {
   "cell_type": "code",
   "execution_count": 32,
   "id": "fa96a234",
   "metadata": {},
   "outputs": [],
   "source": [
    "prompt_template = \"\"\"\n",
    "You emulate a Payments Simulator which understands Credit Card decline codes and errors. \n",
    "You understand the decline codes and special decline conditions and limits and fault errors from the \n",
    "popular schemes such as VISA, Mastercard, Amex, Discover, JCB, UnionPay, Maestro, Electron, etc.\n",
    "\n",
    "Formulate 5 description for a given Decline Code and Reason. \n",
    "The record should contain a clear description of the decline code and reason.\n",
    "All the descriptions should be clear and concise.\n",
    "All the 5 descriptions should be distinct. \n",
    "\n",
    "The record:\n",
    "\n",
    "Decline Code: {code}\n",
    "Reason: {Reason}\n",
    "Description: {Description}\n",
    "\n",
    "Provide the output in parsable JSON without using code blocks:\n",
    "\n",
    "[\"Description1\", \"Description2\", ..., \"Description5\"]\n",
    "\"\"\".strip()"
   ]
  },
  {
   "cell_type": "code",
   "execution_count": 33,
   "id": "6cf68894",
   "metadata": {},
   "outputs": [],
   "source": [
    "def generate_questions(doc):\n",
    "    prompt = prompt_template.format(**doc)\n",
    "\n",
    "    response = client.chat.completions.create(\n",
    "        model='gpt-4o',\n",
    "        messages=[{\"role\": \"user\", \"content\": prompt}]\n",
    "    )\n",
    "\n",
    "    json_response = response.choices[0].message.content\n",
    "    return json_response"
   ]
  },
  {
   "cell_type": "code",
   "execution_count": 34,
   "id": "7872f70e",
   "metadata": {},
   "outputs": [],
   "source": [
    "from tqdm.auto import tqdm"
   ]
  },
  {
   "cell_type": "code",
   "execution_count": 35,
   "id": "1e6af348",
   "metadata": {},
   "outputs": [
    {
     "data": {
      "text/plain": [
       "{'code': '01',\n",
       " 'Reason': 'Refer to issuer - The issuing bank prevented the transaction without a specific reason',\n",
       " 'Description': 'The issuing bank prevented the transaction.',\n",
       " 'id': '8edfbb76'}"
      ]
     },
     "execution_count": 35,
     "metadata": {},
     "output_type": "execute_result"
    }
   ],
   "source": [
    "documents[0]"
   ]
  },
  {
   "cell_type": "code",
   "execution_count": 39,
   "id": "1d6eae43",
   "metadata": {},
   "outputs": [],
   "source": [
    "client = OpenAI(\n",
    "    api_key=OPENAI_API_KEY,  # this is also the default, it can be omitted\n",
    "    base_url=OPENAI_BASE_URL\n",
    "    )"
   ]
  },
  {
   "cell_type": "code",
   "execution_count": 41,
   "id": "20c11f21",
   "metadata": {},
   "outputs": [
    {
     "name": "stderr",
     "output_type": "stream",
     "text": [
      "100%|█████████████████████████████████████████████████████████████████████████████████████████████| 67/67 [02:41<00:00,  2.41s/it]\n"
     ]
    }
   ],
   "source": [
    "for doc in tqdm.tqdm(documents): \n",
    "    doc_id = doc['id']\n",
    "    if doc_id in results:\n",
    "        continue\n",
    "\n",
    "    questions = generate_questions(doc)\n",
    "    results[doc_id] = questions"
   ]
  },
  {
   "cell_type": "code",
   "execution_count": 44,
   "id": "047cf976",
   "metadata": {},
   "outputs": [
    {
     "data": {
      "text/plain": [
       "{'8edfbb76': '[\\n  \"The transaction was blocked by the issuing bank without a detailed explanation.\",\\n  \"The issuer has declined the transaction request without specifying a reason.\",\\n  \"The cardholder\\'s bank stopped the transaction but did not provide any specific details.\",\\n  \"The transaction was halted by the issuer, requesting that the cardholder contact their bank for more information.\",\\n  \"The cardholder\\'s bank intercepted the transaction without giving a particular cause, advising contacting the issuer.\"\\n]',\n",
       " '707822ce': '[\\n  \"The transaction was blocked by the customer\\'s bank for further review.\",\\n  \"The issuer has declined the transaction and requires further action.\",\\n  \"Authorization failed; please contact your bank to resolve the issue.\",\\n  \"Your bank needs to be contacted for transaction approval.\",\\n  \"Transaction denied by bank; further verification needed.\"\\n]',\n",
       " '815bbc64': '[\"The transaction was declined because the merchant information cannot be verified or is incorrect.\", \"The payment attempt failed due to the merchant being either not recognized or having invalid details in the system.\", \"This decline code indicates the merchant account is not valid or has discrepancies that prevent the transaction from processing.\", \"The merchant associated with this transaction is not recognized, leading to a decline of the payment.\", \"Invalid merchant details were detected, causing the transaction to be rejected.\"]',\n",
       " '7d0bab4b': '[\\n  \"The transaction is declined, and the bank requests the merchant to keep the card due to it being overdrawn or expired.\",\\n  \"The issuing bank has rejected the transaction and has asked the merchant to retain the physical card because it is overdrawn or expired.\",\\n  \"Decline initiated by the bank; merchant is advised to confiscate the card to prevent further transactions as the card is either overdrawn or expired.\",\\n  \"The card issuer has declined the transaction and instructs the merchant to take the card, indicating a non-fraud issue like an expired or overdrawn card.\",\\n  \"Bank declines transaction and alerts merchant to hold card, not due to fraud, but because the card may be overdrawn or has expired.\"\\n]',\n",
       " '89d93e2c': '[\\n  \"The transaction was declined by the bank with instructions to the merchant not to honor the card.\",\\n  \"The issuing bank instructed the merchant not to accept the card for this transaction.\",\\n  \"The card issuer prevented the transaction and advised the merchant against honoring the card.\",\\n  \"The bank\\'s response was a refusal to authorize the transaction, instructing the merchant not to proceed.\",\\n  \"Card acceptance was denied by the bank, which told the merchant not to honor its use.\"\\n]',\n",
       " 'dd438990': '[\\n    \"The transaction was unsuccessful due to an unspecified error from the issuing bank.\",\\n    \"An unknown issue occurred with the transaction that the issuing bank could not identify.\",\\n    \"The transaction failed because the issuing bank encountered an unspecified problem.\",\\n    \"The bank processing this transaction reported an error without detailing the specific cause.\",\\n    \"An undetermined error from the issuing bank led to the transaction not being processed.\"\\n]',\n",
       " '347e8267': '[\\n  \"Description1: The transaction has been declined as the card is marked as fraudulent and should not be used.\",\\n  \"Description2: The issuing bank has identified the card as suspicious, resulting in a transaction denial.\",\\n  \"Description3: Due to fraud alerts associated with this card, the transaction was blocked by the bank.\",\\n  \"Description4: The card has been reported for fraudulent use, prompting the bank to refuse this payment.\",\\n  \"Description5: This card is suspected of unauthorized activity, leading to a decline in the transaction attempt.\"\\n]',\n",
       " 'e687da44': '[\\n    \"The transaction was declined as the card has been reported for fraudulent activity, and the issuer requests retrieval of the card.\",\\n    \"Decline due to suspicion of fraud: the card issuer advises collecting the card from the cardholder.\",\\n    \"Card has been marked for fraud: the issuer requires the card to be picked up immediately.\",\\n    \"The card is considered fraudulent by the issuer, leading to a decline and a request to take the card.\",\\n    \"Issuing bank has identified the card as compromised; transaction denied with instructions to confiscate the card.\"\\n]',\n",
       " '86af3cbc': '[\\n    \"The card has been identified as compromised; retrieve the card from the user.\",\\n    \"Card flagged for suspicious activity; cardholder should not use it further.\",\\n    \"The card is reported for fraudulent transactions; confiscate immediately.\",\\n    \"Retrieve the card from the holder due to potential fraudulent behavior.\",\\n    \"Card marked as fraudulent; it should be confiscated from the cardholder.\"\\n]',\n",
       " 'e8294cff': '[\\n  \"Description1: The transaction is approved only for a portion of the total amount due to insufficient available credit or funds as determined by the bank.\",\\n  \"Description2: The issuer has authorized a part of the transaction amount, blocking the remainder possibly because of a credit limit constraint.\",\\n  \"Description3: The payment is partially processed with the remaining amount declined, likely due to hitting the credit or account limit.\",\\n  \"Description4: Only a fraction of the payment request is approved by the bank, with the rest being denied, often because of limited funds.\",\\n  \"Description5: The card issuer approves a segment of the transaction value but holds back approval for the rest, possibly due to balance limitations.\"\\n]',\n",
       " '52a4690a': '[\\n  \"The transaction you\\'re trying to perform is not recognized as a valid type.\",\\n  \"This transaction type cannot be processed and is deemed invalid.\",\\n  \"The system does not support the type of transaction you attempted.\",\\n  \"The attempted transaction type is not allowed or recognized by the issuer.\",\\n  \"Your transaction was declined as the specified type is invalid for processing.\"\\n]',\n",
       " 'd3038aac': '[\\n  \"The transaction was declined due to an incorrect amount being submitted.\",\\n  \"The payment could not be processed as the amount specified was invalid.\",\\n  \"Your transaction has been rejected because the entered amount is not valid.\",\\n  \"The request was unsuccessful since the transaction amount was incorrect.\",\\n  \"The specified amount for this transaction was deemed invalid, leading to a decline.\"\\n]',\n",
       " '27b50250': '[\\n  \"The entered card number is not valid.\",\\n  \"Invalid card number: please check and re-enter.\",\\n  \"The card number provided is incorrect.\",\\n  \"Card number does not match any valid account.\",\\n  \"The account number entered is invalid.\"\\n]',\n",
       " '79d85d68': '[\\n  \"The initial digit of the card number points to an invalid issuing bank.\",\\n  \"The card number starts with a digit that does not correspond to any known bank.\",\\n  \"The first digit of the card number is incorrect, indicating a non-existent issuing bank.\",\\n  \"An error was detected in the first digit of the card number, which should identify the issuing bank.\",\\n  \"The first numeral of the card\\'s number sequence incorrectly identifies a bank that does not exist.\"\\n]',\n",
       " '301814f8': '[\\n  \"Transaction failed due to an unspecified error; please try again.\",\\n  \"An unknown issue has disrupted the transaction; reattempt is recommended.\",\\n  \"Unexpected error encountered, prompting a need to re-enter the transaction.\",\\n  \"The transaction couldn\\'t be processed due to an unidentified error; please retry.\",\\n  \"An unknown system error has occurred, requiring the transaction to be re-entered.\"\\n]',\n",
       " '12a0f421': '[\"Transaction attempted but not processed; no action was taken by the issuer.\", \"The payment request did not trigger any response or action from the card issuer.\", \"The card issuer received the query but chose not to proceed with any transaction action.\", \"Attempted transaction was ignored or not acted upon by the issuer.\", \"Payment process initiated, but the issuer did not engage in any processing action.\"]',\n",
       " '5e8ebc9f': '[\\n    \"The system could not find a matching record for the provided account details, resulting in a transaction decline.\",\\n    \"The transaction was declined because the account information could not be matched with existing records.\",\\n    \"A record for the transaction could not be located in the system\\'s database, leading to a decline.\",\\n    \"The payment was declined as the system was unable to find a corresponding account record.\",\\n    \"A missing account record in the file caused the transaction to be declined.\"\\n]',\n",
       " 'b99acfad': '[\\n    \"The transaction could not be processed because the required file is temporarily inaccessible.\",\\n    \"File needed for transaction verification is currently unavailable, leading to a transaction denial.\",\\n    \"The system was unable to access the necessary file, causing the transaction to be declined.\",\\n    \"Due to a temporary file access issue, the transaction request has been denied.\",\\n    \"Transaction declined because essential file services are momentarily out of reach.\"\\n]',\n",
       " '8a6489af': '[\\n    \"The transaction could not be processed due to an incorrect data format in the request.\",\\n    \"A format error occurred, indicating the information sent was improperly structured.\",\\n    \"The payment attempt failed due to a formatting issue with the provided data.\",\\n    \"The transaction was declined because the data format did not adhere to the required standards.\",\\n    \"A processing error was encountered as the input data was not in the expected format.\"\\n]',\n",
       " '11586e4d': '[\\n    \"The transaction has been declined because the card was marked as lost by its owner and needs to be recovered.\",\\n    \"This decline code indicates that the card has been reported as lost, and the issuer has blocked all transactions.\",\\n    \"Transaction denied as the card has been identified as lost by the cardholder.\",\\n    \"The card issuer has refused the transaction due to the card being reported lost by its owner.\",\\n    \"The cardholder has alerted the bank about a lost card, causing this transaction to be rejected.\"\\n]',\n",
       " 'bd18ec87': '[\\n    \"The card has been flagged as stolen by the owner, resulting in a transaction denial from the issuer.\",\\n    \"Transaction declined because the card is reported stolen; retrieval of the card is advised.\",\\n    \"The issuer blocked the transaction due to the card being reported as stolen and marked for pick-up.\",\\n    \"Cardholder reported card as stolen; the transaction cannot be processed and the card should be confiscated.\",\\n    \"The attempted transaction failed because the card was reported stolen, preventing further use.\"\\n]',\n",
       " '7dd28a5a': '[\\n  \"The transaction has been denied due to the account exceeding its available credit limit or balance.\",\\n  \"The purchase cannot be completed because sufficient funds are not available or the credit limit has been surpassed.\",\\n  \"This card transaction is blocked as the account balance is insufficient or the credit limit has already been exceeded.\",\\n  \"The card issuer has declined the transaction since it would exceed the allowed credit limit or the account balance is too low.\",\\n  \"Transaction failed because the permissible credit limit is breached or the funds in the account are insufficient.\"\\n]',\n",
       " '951ab063': '[\\n  \"The transaction was declined because the associated account is not a current account.\",\\n  \"The payment cannot be processed as the cardholder does not have an active current account.\",\\n  \"This decline indicates that the customer does not have a current account linked to their card.\",\\n  \"The card issuer has rejected the transaction due to the absence of a current account for this card.\",\\n  \"The decline happened because the financial institution does not recognize a current account for this cardholder.\"\\n]',\n",
       " '48bda17b': '[\\n    \"The transaction was declined because the card associated with the account does not have a linked savings account.\",\\n    \"Transaction failed due to the absence of a savings account associated with the provided card details.\",\\n    \"The credit card transaction cannot be processed as there is no savings account linked to the cardholder\\'s account.\",\\n    \"The payment attempt was unsuccessful because the card does not correspond to any existing savings account.\",\\n    \"The decline is due to the lack of a savings account connection to the card being used for the transaction.\"\\n]',\n",
       " 'efc15766': '[\\n    \"The card has expired as the expiry date is in the past.\",\\n    \"Transaction declined due to card expiration.\",\\n    \"The card cannot be used because its expiration date has lapsed.\",\\n    \"The card\\'s expiration date has been reached and is no longer active.\",\\n    \"Payment cannot be processed as the card is expired.\"\\n]',\n",
       " '7d638914': '[\\n  \"The transaction was declined because the entered PIN does not match the card\\'s expected PIN.\",\\n  \"Your PIN entry was incorrect, leading to the card transaction being declined.\",\\n  \"The PIN you provided does not match the one on file for this card, resulting in a transaction decline.\",\\n  \"Transaction blocked: the Personal Identification Number entered is not correct.\",\\n  \"The card issuer declined this transaction due to an incorrect Personal Identification Number being entered.\"\\n]',\n",
       " '934f62fa': '[\\n    \"Description1: This decline code indicates that the attempted transaction is not allowed for the type of card being used.\",\\n    \"Description2: The transaction is being blocked because the card\\'s permissions do not allow this specific type of usage.\",\\n    \"Description3: This code signifies that the card issuer does not permit this kind of transaction to be processed with the card.\",\\n    \"Description4: The attempted transaction cannot proceed because it is not permitted by the card\\'s set restrictions.\",\\n    \"Description5: This error means that the card is not authorized for this type of transaction, as dictated by the issuer.\"\\n]',\n",
       " 'e05007eb': '[\\n  \"The terminal\\'s settings may not allow this type of transaction, leading to this error.\",\\n  \"This error occurs if the terminal is not authorized to process the requested transaction type.\",\\n  \"A merchant\\'s terminal may trigger this error if it\\'s restricted from performing the transaction.\",\\n  \"The terminal configuration may not support this transaction, resulting in a decline code 58.\",\\n  \"Transaction not permitted at terminal indicates the terminal lacks permission for this transaction.\"\\n]',\n",
       " '8323d586': '[\\n  \"Description1: The transaction was declined due to allegations of fraudulent activity on the card.\",\\n  \"Description2: The card issuer has flagged the transaction as potentially fraudulent, resulting in a decline.\",\\n  \"Description3: Suspected fraud has triggered a decline for this transaction, as assessed by the card\\'s fraud detection systems.\",\\n  \"Description4: The transaction was rejected because it matched patterns consistent with fraudulent behavior.\",\\n  \"Description5: Due to a risk of fraud, the card provider declined the transaction to protect the account.\"\\n]',\n",
       " '92ba6c72': '[\\n    \"The transaction was declined because the requested amount surpasses the card’s approved spending limit.\",\\n    \"The payment could not be processed as it exceeds the maximum authorized amount set for the card.\",\\n    \"The transaction amount is greater than the cardholder’s permitted limit, resulting in a decline.\",\\n    \"Decline due to transaction request surpassing the capped amount allowed for this card account.\",\\n    \"The purchase has been refused as the charge exceeds the established approval limit for the card.\"\\n]',\n",
       " '21daf4a8': '[\\n    \"Attempted transaction with a card type unsupported by the system, such as American Express or Discover.\",\\n    \"Tried to use a card for an online purchase that cannot be used for online transactions.\",\\n    \"The service code on the card does not permit the current transaction attempt, such as a card not supporting e-commerce.\",\\n    \"Transaction failed due to a service code incompatibility with the card issuer, preventing processing of specific card brands.\",\\n    \"Card service restrictions prevent the transaction, possibly due to limitations on conducting online or e-commerce payments.\"\\n]',\n",
       " '76f8d5af': '[\\n  \"The provided security code (CVV/CVC/CID) does not match the card issuer\\'s records, indicating a potential input error or unauthorized attempt.\",\\n  \"Transaction declined due to mismatched security code: the CVV, CVC, or CID entered is incorrect.\",\\n  \"The security code entered (CVV/CVC/CID) failed to verify, leading to a decline for security reasons.\",\\n  \"A discrepancy in the security code (CVV/CVC/CID) provided has resulted in the transaction being blocked.\",\\n  \"The input for the card\\'s security code does not align with what is on file, triggering a security violation decline.\"\\n]',\n",
       " 'ed372a04': '[\\n    \"The transaction has been declined because it does not meet the Anti-Money Laundering regulations.\",\\n    \"Your payment was rejected as it failed to satisfy the required Anti-Money Laundering criteria.\",\\n    \"The card transaction was unsuccessful due to non-compliance with Anti-Money Laundering requirements.\",\\n    \"Transaction declined: The payment didn\\'t adhere to Anti-Money Laundering guidelines.\",\\n    \"Payment could not be processed as it did not align with Anti-Money Laundering standards.\"\\n]',\n",
       " 'cd60db61': '[\\n    \"The transaction has been declined because it surpasses the daily withdrawal cap set by the card issuer.\",\\n    \"The attempted transaction exceeds the withdrawal limit established for this account, resulting in a decline.\",\\n    \"This card cannot process the transaction as it goes over the permitted withdrawal limit.\",\\n    \"The cardholder\\'s withdrawal restrictions have been exceeded, leading to a declined transaction.\",\\n    \"Transaction denied due to exceeding the maximum allowed withdrawal limit for this credit card.\"\\n]',\n",
       " '33d6f798': '[\\n  \"The transaction has been declined because the PIN data is missing and is required for authorization.\",\\n  \"This card transaction requires a PIN, which was not provided, resulting in a declined authorization.\",\\n  \"The transaction failed as it necessitates a PIN entry, which was not included in the payment request.\",\\n  \"Authorization could not be completed due to the absence of mandatory PIN data for this transaction.\",\\n  \"The payment was declined because a PIN was expected to be entered but was absent in the transaction attempt.\"\\n]',\n",
       " '0ba5070a': '[\\n    \"Description1: The transaction was declined because the cardholder did not update their PIN as required.\",\\n    \"Description2: The credit card was denied due to failure to change the PIN after multiple prompts.\",\\n    \"Description3: The issuer rejected the transaction since the cardholder\\'s PIN remains unchanged.\",\\n    \"Description4: The transaction couldn\\'t be completed because the cardholder hasn\\'t set a new PIN.\",\\n    \"Description5: Decline due to the cardholder\\'s non-compliance with the mandatory PIN update policy.\"\\n]',\n",
       " 'a248e7e2': '[\\n  \"The maximum number of incorrect PIN entries has been reached.\",\\n  \"Too many failed PIN entry attempts have occurred.\",\\n  \"The card has been blocked due to excessive incorrect PIN attempts.\",\\n  \"The allowable limit for incorrect PIN entries has been exceeded.\",\\n  \"Access denied after reaching the limit of incorrect PIN attempts.\"\\n]',\n",
       " '5f85034a': '[\\n  \"The specified destination account for the transaction is either invalid or does not exist.\",\\n  \"The \\'To Account\\' provided for this payment is not recognized or is unavailable.\",\\n  \"Transaction failed due to an invalid or nonexistent destination account number.\",\\n  \"Payment cannot be processed because the specified recipient account is invalid or missing.\",\\n  \"The receiving account entered is either incorrect or does not exist in the system.\"\\n]',\n",
       " '8f43e8f7': '[\"The \\'From Account\\' is invalid or does not exist, leading to transaction denial.\", \"Transaction declined due to an incorrect or missing source account.\", \"Failure in processing due to a nonexistent or incorrect \\'From Account\\'.\", \"\\'From Account\\' specified is invalid or unable to be found, causing a transaction error.\", \"The transaction couldn\\'t be processed because the \\'From Account\\' is either incorrect or does not exist.\"]',\n",
       " '68bf373b': '[\"The card has been blocked due to it being used for the first time after issuance.\", \"This card is blocked because it has not been activated for its first transaction.\", \"The initial use of this card has been blocked, as it hasn\\'t been authorized for activation.\", \"Blocked transaction: the card hasn\\'t been verified through first use procedures.\", \"The card is blocked until it completes an activation or first-use authorization process.\"]',\n",
       " 'd4ce5031': '[\\n    \"The transaction has already been reversed, so further reversal attempts are not necessary.\",\\n    \"Reversal request declined as the transaction was previously reversed.\",\\n    \"This transaction cannot be reversed again because it has already been processed as reversed.\",\\n    \"The reversal operation is redundant; the transaction was already reversed.\",\\n    \"The system indicates that the transaction reversal has already occurred prior to this request.\"\\n]',\n",
       " '99e33a24': '[\\n    \"The card verification value or cryptographic verification failed, resulting in a transaction decline.\",\\n    \"Security check failed due to negative outcome in CAM, dCVV, iCVV, or CVV validation.\",\\n    \"Transaction refused because card\\'s security verification parameters returned invalid results.\",\\n    \"Decline due to unsuccessful verification of card authentication or security codes.\",\\n    \"Card security check elements like CAM, dCVV, iCVV, or CVV did not pass, causing the transaction to be declined.\"\\n]',\n",
       " '6bedf38a': '[\\n  \"The transaction failed because the card issuer couldn\\'t pinpoint any specific issue.\",\\n  \"The card was declined without a specific reason provided by the issuer.\",\\n  \"The issuer\\'s system did not detect any particular error, yet the payment was unsuccessful.\",\\n  \"Despite no apparent reason, the issuer blocked the transaction from proceeding.\",\\n  \"The transaction could not be completed, though the issuer did not specify an exact cause of the decline.\"\\n]',\n",
       " 'c3a46419': '[\\n  \"The transaction was declined because the system could not validate the entered PIN.\",\\n  \"Verification of the PIN failed, resulting in the transaction being declined.\",\\n  \"The entered PIN could not be confirmed, leading to a declined transaction.\",\\n  \"The transaction was not approved due to the inability to authenticate the PIN.\",\\n  \"The PIN provided could not be verified, causing the transaction to be rejected.\"\\n]',\n",
       " 'eda61acc': '[\\n    \"Description1: The transaction was declined because the card issuer does not allow cash back on purchases.\",\\n    \"Description2: This decline indicates that the requested withdrawal exceeds the allowed transaction type, as cash back is not permitted.\",\\n    \"Description3: The transaction failed since only purchase transactions are permitted, and no cash back is allowed.\",\\n    \"Description4: Decline Code 87 means the cardholder attempted a cash back request, which is restricted on this card.\",\\n    \"Description5: The attempted transaction cannot be completed because the card policy prohibits cash back with purchases.\"\\n]',\n",
       " '33120bcb': '[\\n  \"The transaction could not be completed due to an error in the cryptographic processing.\",\\n  \"A failure occurred in the encryption or decryption process, preventing the transaction from being approved.\",\\n  \"The system detected issues with the cryptographic key, resulting in a transaction failure.\",\\n  \"An integrity check error in the cryptographic system caused this transaction to be declined.\",\\n  \"The cryptographic security measures failed, leading to a denial of the transaction.\"\\n]',\n",
       " 'ebf04a73': '[\\n    \"The transaction was declined because the PIN entered is invalid. Please retry with the correct PIN.\",\\n    \"Declined due to an incorrect PIN entry. Try entering your PIN again.\",\\n    \"The payment attempt failed as the PIN provided was not accepted. Re-enter your PIN correctly.\",\\n    \"PIN entry was unsuccessful, resulting in a decline. Please attempt the transaction again with the correct PIN.\",\\n    \"Transaction declined because the entered PIN doesn\\'t match the required format. Please retry with the correct PIN.\"\\n]',\n",
       " 'ef038f2b': '[\\n    \"Description1: The transaction cannot be completed because the payment system is undergoing a scheduled cutoff process.\",\\n    \"Description2: The card issuer is currently processing a cutoff and is unable to authorize transactions at this time.\",\\n    \"Description3: A cutoff process is taking place, preventing the approval of the transaction request.\",\\n    \"Description4: Due to ongoing cutoff activities, the transaction request cannot be fulfilled right now.\",\\n    \"Description5: The transaction is declined because the system is in the middle of a cutoff procedure.\"\\n]',\n",
       " 'fe1759d6': '[\"The payment authorization could not be processed due to the issuer or network being temporarily unreachable.\", \"The transaction could not proceed because the card issuer\\'s systems are currently offline or unable to connect.\", \"Payment authorization was halted as the card issuer or intermediary network cannot be contacted at this moment.\", \"The issuer\\'s or network\\'s service is currently unreachable, disrupting the payment authorization process.\", \"The transaction is unsuccessful because the issuer or network connection is unavailable at the current time.\"]',\n",
       " '2879cce9': '[\\n  \"The transaction could not be completed because the payment network could not forward the request to the card issuer.\",\\n  \"The processing pathway to the card issuer is currently unavailable, causing the transaction to fail.\",\\n  \"The transaction has been declined due to a failure in reaching the card issuer\\'s system for approval.\",\\n  \"A routing issue has prevented the transaction from being forwarded to the card issuer for processing.\",\\n  \"The payment request is unable to be processed because the connection to the card issuer could not be established.\"\\n]',\n",
       " '6dd58003': '[\\n    \"The transaction is declined because there is a legal issue associated with the account, which has restricted its use.\",\\n    \"This decline indicates that the cardholder\\'s account is subject to legal restrictions, preventing transaction completion.\",\\n    \"A legal violation linked to the cardholder\\'s account has led to the transaction being denied.\",\\n    \"The account associated with this card cannot process transactions due to a detected legal violation.\",\\n    \"A legal compliance issue with the cardholder\\'s account has resulted in the transaction being blocked.\"\\n]',\n",
       " 'f981ddcb': '[\\n    \"The system has identified this transaction as a duplicate of a previous one.\",\\n    \"This transaction appears to be processed more than once.\",\\n    \"Duplicate entry has been detected for this transaction attempt.\",\\n    \"The same transaction request has been submitted multiple times.\",\\n    \"An identical transaction was already processed, indicating a duplicate.\"\\n]',\n",
       " 'e3b06d93': '[\\n  \"The transaction could not be completed due to a technical problem with the payment system.\",\\n  \"Payment processing failed because of an internal error within the system.\",\\n  \"A system malfunction has caused this transaction to be declined temporarily.\",\\n  \"There is an unexpected system issue affecting the processing of your payment.\",\\n  \"A processing error in the system has led to the decline of this payment request.\"\\n]',\n",
       " '0b7701f4': '[\\n    \"Description1: The card verification value provided does not match the information on file with the issuer.\",\\n    \"Description2: The CVV number entered is incorrect or does not match what the issuer has on record.\",\\n    \"Description3: The security code submitted is invalid, resulting in a denial of the transaction.\",\\n    \"Description4: The entered card verification code is deemed incorrect by the card issuer.\",\\n    \"Description5: The CVV given does not match the secure code held by the card issuer.\"\\n]',\n",
       " 'd967a081': '[\\n  \"The transaction was declined because further customer authentication is necessary to proceed.\",\\n  \"Your card issuer requires additional verification for this transaction, causing the decline.\",\\n  \"This transaction cannot be completed until the cardholder provides more authentication details.\",\\n  \"The payment was not authorized as extra security checks by the cardholder are pending.\",\\n  \"This decline indicates that the transaction needs more customer authentication to be approved.\"\\n]',\n",
       " 'f3a457ed': '[\\n  \"The scheduled recurring transaction was terminated as per the customer\\'s directive.\",\\n  \"The customer requested cessation of the automatic payment, leading to a decline.\",\\n  \"The automatic charge was halted following a stop request by the account holder.\",\\n  \"A cancellation request from the customer resulted in the decline of this recurring charge.\",\\n  \"Due to the customer\\'s instruction, the recurring payment was declined and stopped.\"\\n]',\n",
       " '27448ea4': '[\\n    \"The customer requested to halt the ongoing recurring payment, resulting in a decline.\",\\n    \"Recurring payment was declined because the customer instructed to cease this charge.\",\\n    \"Payment was stopped as per the customer\\'s request to discontinue recurring charges.\",\\n    \"The repeated transaction was not processed due to a cancellation request from the customer.\",\\n    \"Customer-initiated stop on the recurring transaction led to the payment being declined.\"\\n]',\n",
       " '217aedb4': '[\\n    \"There was a malfunction during the verification process, likely due to issues with the card\\'s chip or magnetic strip.\",\\n    \"The terminal couldn\\'t successfully read the card, possibly caused by a defect in the chip or magnetic stripe.\",\\n    \"An error occurred while attempting to verify the card type, potentially due to a fault in the embedded chip or magnetic strip.\",\\n    \"The card\\'s verification failed, possibly because of a problem with the chip or magnetic strip\\'s functionality.\",\\n    \"The card could not be verified correctly, likely owing to a malfunction in its chip or magnetic stripe.\"\\n]',\n",
       " '4d48060b': '[\\n  \"This decline code indicates a failure to establish a connection with the bank, possibly due to a power or service disruption.\",\\n  \"An inability to connect to the bank, often caused by network or service outages, is denoted by this code.\",\\n  \"This error signifies that the transaction could not be processed due to connectivity issues with the bank, likely from a service interruption.\",\\n  \"A code indicating connection trouble with the bank, commonly stemming from power or network service failures.\",\\n  \"This decline represents failure in reaching the bank\\'s systems, generally resulting from external connectivity problems like outages.\"\\n]',\n",
       " '874f74c7': '[\\n  \"The transaction was declined due to a failure in establishing a connection with the bank, possibly due to service interruptions.\",\\n  \"A disruption in communication lines with the bank has resulted in a failed transaction attempt.\",\\n  \"The payment could not be processed because of a temporary inability to reach the bank server, potentially due to power outages.\",\\n  \"An error occurred in linking with the bank, leading to a decline in the transaction, likely caused by network issues.\",\\n  \"Service or power disruptions prevented a successful connection to the bank, resulting in a transaction failure.\"\\n]',\n",
       " '85e1c889': '[\\n    \"A technical issue preventing the transaction from reaching the bank, often due to outages.\",\\n    \"Service disruption is hindering the communication pathway to the bank.\",\\n    \"The transaction failed to process as the bank\\'s connection is currently down.\",\\n    \"Connection to the bank was unsuccessful, potentially due to service or power issues.\",\\n    \"Temporary connection error with the bank, frequently caused by external outages.\"\\n]',\n",
       " '62cb7407': '[\\n  \"Transaction approved; funds have been successfully authorized.\",\\n  \"Payment processed successfully with no issues detected.\",\\n  \"Request completed; the transaction has been accepted.\",\\n  \"Authorization successful; the transaction is approved.\",\\n  \"Payment has been approved and processed without any problems.\"\\n]',\n",
       " 'b135f22c': '[\\n  \"The transaction has been declined and requires the cardholder to present valid identification.\",\\n  \"Approval is contingent upon the cardholder showing ID for verification purposes.\",\\n  \"The card issuer requests the cardholder\\'s ID to complete the transaction.\",\\n  \"The transaction is declined until the cardholder\\'s identity is confirmed with an ID.\",\\n  \"To proceed with the transaction, the cardholder must provide identification as requested by the issuer.\"\\n]',\n",
       " '6bbf96e7': '[\\n  \"The transaction could not be processed because the authorization or issuer\\'s system is temporarily unavailable.\",\\n  \"Payment declined as the authorization system or the issuer\\'s network is currently down.\",\\n  \"The card issuer\\'s systems are not responding, resulting in the transaction being declined.\",\\n  \"Transaction failed due to a temporary outage in the issuer\\'s authorization system.\",\\n  \"Authorization failed because the issuer\\'s processing systems are not operational at the moment.\"\\n]',\n",
       " '62dc72fd': '[\\n  \"The transaction has been denied because the card was reported as lost or stolen to the card issuer.\",\\n  \"Card issuer has declined the transaction due to a lost or stolen card report, preventing unauthorized use.\",\\n  \"The cardholder\\'s account is flagged for lost or stolen status, leading to a decline of the transaction attempt.\",\\n  \"Due to a lost or stolen notification on this card, the issuer has blocked the transaction for security reasons.\",\\n  \"The transaction is not authorized since the card is marked as lost or stolen by the issuing bank.\"\\n]',\n",
       " 'fdf5f8a3': '[\\n  \"The payment was declined due to risk assessment indicating potential fraud on platforms like PayPal or Google Checkout.\",\\n  \"Security algorithms on platforms such as PayPal or Google Checkout flagged the transaction as potentially fraudulent, resulting in a denial.\",\\n  \"The attempted transaction was rejected by payment processors due to high fraud risk as identified by PayPal or Google Checkout.\",\\n  \"This decline indicates that PayPal or Google Checkout\\'s risk evaluation recognized the transaction as having a high chance of fraud.\",\\n  \"The payment was not authorized because fraud detection systems on services like PayPal or Google Checkout detected high risk.\"\\n]',\n",
       " '3bc8c72c': '[\\n  \"The card issuer has identified potential fraudulent activity and has rejected the transaction.\",\\n  \"This transaction was declined due to suspicion of fraudulent behavior by the card issuer.\",\\n  \"The transaction could not be processed as the card issuer suspects possible fraud.\",\\n  \"A security alert has prompted the card issuer to refuse the transaction on suspicion of fraud.\",\\n  \"Due to suspected fraudulent usage, the card issuer has blocked the transaction from proceeding.\"\\n]'}"
      ]
     },
     "execution_count": 44,
     "metadata": {},
     "output_type": "execute_result"
    }
   ],
   "source": [
    "results"
   ]
  },
  {
   "cell_type": "code",
   "execution_count": 48,
   "id": "f4390060",
   "metadata": {},
   "outputs": [],
   "source": [
    "parsed_results = {}\n",
    "\n",
    "for doc_id, json_questions in results.items():\n",
    "    parsed_results[doc_id] = json.loads(json_questions)"
   ]
  },
  {
   "cell_type": "code",
   "execution_count": 49,
   "id": "ee1bfa3f",
   "metadata": {},
   "outputs": [],
   "source": [
    "doc_index = {d['id']: d for d in documents}"
   ]
  },
  {
   "cell_type": "code",
   "execution_count": 52,
   "id": "d22908e7",
   "metadata": {},
   "outputs": [],
   "source": [
    "final_results = []\n",
    "\n",
    "for doc_id, descriptions in parsed_resulst.items():\n",
    "    code = doc_index[doc_id]['code']\n",
    "    reason = doc_index[doc_id]['Reason']\n",
    "    for desc in descriptions:\n",
    "        final_results.append((code, reason, desc, doc_id))"
   ]
  },
  {
   "cell_type": "code",
   "execution_count": 57,
   "id": "efdb0441",
   "metadata": {},
   "outputs": [],
   "source": [
    "df = pd.DataFrame(final_results, columns=['code', 'Reason', 'Description', 'doc_id'])"
   ]
  },
  {
   "cell_type": "code",
   "execution_count": 58,
   "id": "c6b722d6",
   "metadata": {},
   "outputs": [],
   "source": [
    "df.to_csv('ground-truth-data.csv', index=False)"
   ]
  },
  {
   "cell_type": "code",
   "execution_count": 69,
   "id": "0c40be08",
   "metadata": {},
   "outputs": [],
   "source": [
    "import json\n",
    "\n",
    "with open(documents_url, 'rt') as f_in:\n",
    "    documents = json.load(f_in)"
   ]
  },
  {
   "cell_type": "code",
   "execution_count": 70,
   "id": "ae59f897",
   "metadata": {},
   "outputs": [
    {
     "data": {
      "text/plain": [
       "{'code': '01',\n",
       " 'Reason': 'Refer to issuer - The issuing bank prevented the transaction without a specific reason',\n",
       " 'Description': 'The issuing bank prevented the transaction.',\n",
       " 'id': '8edfbb76'}"
      ]
     },
     "execution_count": 70,
     "metadata": {},
     "output_type": "execute_result"
    }
   ],
   "source": [
    "documents[0]"
   ]
  },
  {
   "cell_type": "code",
   "execution_count": 95,
   "id": "85f229df",
   "metadata": {},
   "outputs": [],
   "source": [
    "from qdrant_client import QdrantClient, models\n",
    "from langchain_community.document_loaders import PyPDFDirectoryLoader\n",
    "from langchain.text_splitter import RecursiveCharacterTextSplitter"
   ]
  },
  {
   "cell_type": "code",
   "execution_count": 96,
   "id": "305b7dbf",
   "metadata": {},
   "outputs": [],
   "source": [
    "model_handle = \"BAAI/bge-small-en-v1.5\"\n",
    "EMBEDDING_DIMENSIONALITY = 384\n",
    "client = QdrantClient(\"http://localhost:6333/\")\n",
    "collection_name = \"payments-eval-rag\""
   ]
  },
  {
   "cell_type": "code",
   "execution_count": 119,
   "id": "bab2517a",
   "metadata": {},
   "outputs": [],
   "source": [
    "def process_documents():\n",
    "    loader = PyPDFDirectoryLoader(\"../_pdfs\")\n",
    "    docs = loader.load()\n",
    "    txt_splitters = RecursiveCharacterTextSplitter(\n",
    "            chunk_size=200, \n",
    "            chunk_overlap=50,\n",
    "            separators=[\"\\n\\n\", \"\\n\", \".\", \"?\", \"!\", \" \", \"\"],\n",
    "        )\n",
    "\n",
    "    return txt_splitters.split_documents(docs)"
   ]
  },
  {
   "cell_type": "code",
   "execution_count": 120,
   "id": "3a90aaf3",
   "metadata": {},
   "outputs": [],
   "source": [
    "def check_collection_exists():\n",
    "    return client.collection_exists(collection_name=collection_name)"
   ]
  },
  {
   "cell_type": "code",
   "execution_count": 121,
   "id": "719503a5",
   "metadata": {},
   "outputs": [],
   "source": [
    "def insert_into_qdrant(data:list[str]):\n",
    "    points = []\n",
    "    id = 0\n",
    "\n",
    "    for datum in data:\n",
    "        point = models.PointStruct(\n",
    "            id=id,\n",
    "            vector=models.Document(text=datum, model=model_handle),\n",
    "            payload={\n",
    "                \"text\": datum,\n",
    "            } #save all needed metadata fields\n",
    "        )\n",
    "        points.append(point)\n",
    "        id += 1\n",
    "\n",
    "    print(points[0])\n",
    "    # Create the collection with specified vector parameters\n",
    "    client.create_collection(\n",
    "        collection_name=collection_name,\n",
    "        vectors_config=models.VectorParams(\n",
    "            size=EMBEDDING_DIMENSIONALITY,  # Dimensionality of the vectors\n",
    "            distance=models.Distance.COSINE  # Distance metric for similarity search\n",
    "        )\n",
    "    )\n",
    "\n",
    "    client.upsert(\n",
    "        collection_name=collection_name,\n",
    "        points=points,\n",
    "    )"
   ]
  },
  {
   "cell_type": "code",
   "execution_count": 122,
   "id": "a985e9e2",
   "metadata": {},
   "outputs": [],
   "source": [
    "def prepare_data():\n",
    "    if check_collection_exists():\n",
    "        print(\"Collection exists\")\n",
    "        return\n",
    "    chunks = process_documents() #Created document chunks\n",
    "    chunk_texts =  list(map(lambda d:d.page_content, chunks))\n",
    "    insert_into_qdrant(chunk_texts)"
   ]
  },
  {
   "cell_type": "code",
   "execution_count": 123,
   "id": "0770de0c",
   "metadata": {},
   "outputs": [
    {
     "name": "stderr",
     "output_type": "stream",
     "text": [
      "Ignoring wrong pointing object 6 0 (offset 0)\n",
      "Ignoring wrong pointing object 8 0 (offset 0)\n",
      "Ignoring wrong pointing object 10 0 (offset 0)\n",
      "Ignoring wrong pointing object 13 0 (offset 0)\n",
      "Ignoring wrong pointing object 15 0 (offset 0)\n",
      "Ignoring wrong pointing object 17 0 (offset 0)\n",
      "Ignoring wrong pointing object 33 0 (offset 0)\n",
      "Ignoring wrong pointing object 44 0 (offset 0)\n",
      "Ignoring wrong pointing object 53 0 (offset 0)\n"
     ]
    },
    {
     "name": "stdout",
     "output_type": "stream",
     "text": [
      "id=0 vector=Document(text='A declined payment causes complications for everyone involved. The customer suddenly\\nwonders what went wrong with their card or account, while the business is unsure whether', model='BAAI/bge-small-en-v1.5', options=None) payload={'text': 'A declined payment causes complications for everyone involved. The customer suddenly\\nwonders what went wrong with their card or account, while the business is unsure whether'}\n"
     ]
    }
   ],
   "source": [
    "prepare_data()"
   ]
  },
  {
   "cell_type": "code",
   "execution_count": null,
   "id": "23892d9f",
   "metadata": {},
   "outputs": [],
   "source": []
  }
 ],
 "metadata": {
  "kernelspec": {
   "display_name": "Python 3 (ipykernel)",
   "language": "python",
   "name": "python3"
  },
  "language_info": {
   "codemirror_mode": {
    "name": "ipython",
    "version": 3
   },
   "file_extension": ".py",
   "mimetype": "text/x-python",
   "name": "python",
   "nbconvert_exporter": "python",
   "pygments_lexer": "ipython3",
   "version": "3.12.0"
  }
 },
 "nbformat": 4,
 "nbformat_minor": 5
}
