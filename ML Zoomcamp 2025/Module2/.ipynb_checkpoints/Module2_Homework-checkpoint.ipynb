{
 "cells": [
  {
   "cell_type": "code",
   "execution_count": 2,
   "id": "8c20e204",
   "metadata": {},
   "outputs": [],
   "source": [
    "import pandas as pd"
   ]
  },
  {
   "cell_type": "code",
   "execution_count": 3,
   "id": "25e8487d",
   "metadata": {},
   "outputs": [],
   "source": [
    "df = pd.read_csv('car_fuel_efficiency.csv')"
   ]
  },
  {
   "cell_type": "code",
   "execution_count": 4,
   "id": "7a6c4266",
   "metadata": {},
   "outputs": [
    {
     "data": {
      "text/html": [
       "<div>\n",
       "<style scoped>\n",
       "    .dataframe tbody tr th:only-of-type {\n",
       "        vertical-align: middle;\n",
       "    }\n",
       "\n",
       "    .dataframe tbody tr th {\n",
       "        vertical-align: top;\n",
       "    }\n",
       "\n",
       "    .dataframe thead th {\n",
       "        text-align: right;\n",
       "    }\n",
       "</style>\n",
       "<table border=\"1\" class=\"dataframe\">\n",
       "  <thead>\n",
       "    <tr style=\"text-align: right;\">\n",
       "      <th></th>\n",
       "      <th>engine_displacement</th>\n",
       "      <th>num_cylinders</th>\n",
       "      <th>horsepower</th>\n",
       "      <th>vehicle_weight</th>\n",
       "      <th>acceleration</th>\n",
       "      <th>model_year</th>\n",
       "      <th>origin</th>\n",
       "      <th>fuel_type</th>\n",
       "      <th>drivetrain</th>\n",
       "      <th>num_doors</th>\n",
       "      <th>fuel_efficiency_mpg</th>\n",
       "    </tr>\n",
       "  </thead>\n",
       "  <tbody>\n",
       "    <tr>\n",
       "      <th>0</th>\n",
       "      <td>170</td>\n",
       "      <td>3.0</td>\n",
       "      <td>159.0</td>\n",
       "      <td>3413.433759</td>\n",
       "      <td>17.7</td>\n",
       "      <td>2003</td>\n",
       "      <td>Europe</td>\n",
       "      <td>Gasoline</td>\n",
       "      <td>All-wheel drive</td>\n",
       "      <td>0.0</td>\n",
       "      <td>13.231729</td>\n",
       "    </tr>\n",
       "    <tr>\n",
       "      <th>1</th>\n",
       "      <td>130</td>\n",
       "      <td>5.0</td>\n",
       "      <td>97.0</td>\n",
       "      <td>3149.664934</td>\n",
       "      <td>17.8</td>\n",
       "      <td>2007</td>\n",
       "      <td>USA</td>\n",
       "      <td>Gasoline</td>\n",
       "      <td>Front-wheel drive</td>\n",
       "      <td>0.0</td>\n",
       "      <td>13.688217</td>\n",
       "    </tr>\n",
       "    <tr>\n",
       "      <th>2</th>\n",
       "      <td>170</td>\n",
       "      <td>NaN</td>\n",
       "      <td>78.0</td>\n",
       "      <td>3079.038997</td>\n",
       "      <td>15.1</td>\n",
       "      <td>2018</td>\n",
       "      <td>Europe</td>\n",
       "      <td>Gasoline</td>\n",
       "      <td>Front-wheel drive</td>\n",
       "      <td>0.0</td>\n",
       "      <td>14.246341</td>\n",
       "    </tr>\n",
       "    <tr>\n",
       "      <th>3</th>\n",
       "      <td>220</td>\n",
       "      <td>4.0</td>\n",
       "      <td>NaN</td>\n",
       "      <td>2542.392402</td>\n",
       "      <td>20.2</td>\n",
       "      <td>2009</td>\n",
       "      <td>USA</td>\n",
       "      <td>Diesel</td>\n",
       "      <td>All-wheel drive</td>\n",
       "      <td>2.0</td>\n",
       "      <td>16.912736</td>\n",
       "    </tr>\n",
       "    <tr>\n",
       "      <th>4</th>\n",
       "      <td>210</td>\n",
       "      <td>1.0</td>\n",
       "      <td>140.0</td>\n",
       "      <td>3460.870990</td>\n",
       "      <td>14.4</td>\n",
       "      <td>2009</td>\n",
       "      <td>Europe</td>\n",
       "      <td>Gasoline</td>\n",
       "      <td>All-wheel drive</td>\n",
       "      <td>2.0</td>\n",
       "      <td>12.488369</td>\n",
       "    </tr>\n",
       "  </tbody>\n",
       "</table>\n",
       "</div>"
      ],
      "text/plain": [
       "   engine_displacement  num_cylinders  horsepower  vehicle_weight  \\\n",
       "0                  170            3.0       159.0     3413.433759   \n",
       "1                  130            5.0        97.0     3149.664934   \n",
       "2                  170            NaN        78.0     3079.038997   \n",
       "3                  220            4.0         NaN     2542.392402   \n",
       "4                  210            1.0       140.0     3460.870990   \n",
       "\n",
       "   acceleration  model_year  origin fuel_type         drivetrain  num_doors  \\\n",
       "0          17.7        2003  Europe  Gasoline    All-wheel drive        0.0   \n",
       "1          17.8        2007     USA  Gasoline  Front-wheel drive        0.0   \n",
       "2          15.1        2018  Europe  Gasoline  Front-wheel drive        0.0   \n",
       "3          20.2        2009     USA    Diesel    All-wheel drive        2.0   \n",
       "4          14.4        2009  Europe  Gasoline    All-wheel drive        2.0   \n",
       "\n",
       "   fuel_efficiency_mpg  \n",
       "0            13.231729  \n",
       "1            13.688217  \n",
       "2            14.246341  \n",
       "3            16.912736  \n",
       "4            12.488369  "
      ]
     },
     "execution_count": 4,
     "metadata": {},
     "output_type": "execute_result"
    }
   ],
   "source": [
    "df.head()"
   ]
  },
  {
   "cell_type": "code",
   "execution_count": 6,
   "id": "976573cf",
   "metadata": {},
   "outputs": [],
   "source": [
    "import numpy as np\n",
    "\n",
    "import seaborn as sns\n",
    "from matplotlib import pyplot as plt"
   ]
  },
  {
   "cell_type": "code",
   "execution_count": 7,
   "id": "cfb4c40a",
   "metadata": {},
   "outputs": [
    {
     "name": "stdout",
     "output_type": "stream",
     "text": [
      "Index(['num_cylinders', 'horsepower', 'acceleration', 'num_doors'], dtype='object')\n"
     ]
    }
   ],
   "source": [
    "print(df.columns[df.isna().any()])"
   ]
  },
  {
   "cell_type": "code",
   "execution_count": 9,
   "id": "dd842663",
   "metadata": {},
   "outputs": [
    {
     "data": {
      "text/plain": [
       "149.0"
      ]
     },
     "execution_count": 9,
     "metadata": {},
     "output_type": "execute_result"
    }
   ],
   "source": [
    "df['horsepower'].median()"
   ]
  },
  {
   "cell_type": "code",
   "execution_count": 1,
   "id": "f7c2b327",
   "metadata": {},
   "outputs": [],
   "source": [
    "data = 'https://raw.githubusercontent.com/alexeygrigorev/mlbookcamp-code/master/chapter-02-car-price/data.csv'"
   ]
  },
  {
   "cell_type": "code",
   "execution_count": 2,
   "id": "5db66368",
   "metadata": {},
   "outputs": [
    {
     "name": "stdout",
     "output_type": "stream",
     "text": [
      "Prepended http:// to 'data'\n",
      "--2025-10-11 19:35:00--  http://data/\n",
      "Resolving data (data)... failed: nodename nor servname provided, or not known.\n",
      "wget: unable to resolve host address ‘data’\n"
     ]
    }
   ],
   "source": []
  },
  {
   "cell_type": "code",
   "execution_count": 3,
   "id": "aad4808c",
   "metadata": {},
   "outputs": [],
   "source": [
    "%config IPCompleter.use_jedi = False"
   ]
  },
  {
   "cell_type": "code",
   "execution_count": 4,
   "id": "bd325f28",
   "metadata": {},
   "outputs": [
    {
     "name": "stdout",
     "output_type": "stream",
     "text": [
      "Requirement already satisfied: jedi in /Library/Frameworks/Python.framework/Versions/3.12/lib/python3.12/site-packages (0.19.2)\n",
      "Requirement already satisfied: parso<0.9.0,>=0.8.4 in /Library/Frameworks/Python.framework/Versions/3.12/lib/python3.12/site-packages (from jedi) (0.8.4)\n"
     ]
    }
   ],
   "source": [
    "!pip install --upgrade jedi"
   ]
  },
  {
   "cell_type": "code",
   "execution_count": 6,
   "id": "6caaaf5b",
   "metadata": {},
   "outputs": [
    {
     "name": "stdout",
     "output_type": "stream",
     "text": [
      "Requirement already satisfied: jupyter_contrib_nbextensions in /Library/Frameworks/Python.framework/Versions/3.12/lib/python3.12/site-packages (0.7.0)\n",
      "Requirement already satisfied: ipython_genutils in /Library/Frameworks/Python.framework/Versions/3.12/lib/python3.12/site-packages (from jupyter_contrib_nbextensions) (0.2.0)\n",
      "Requirement already satisfied: jupyter_contrib_core>=0.3.3 in /Library/Frameworks/Python.framework/Versions/3.12/lib/python3.12/site-packages (from jupyter_contrib_nbextensions) (0.4.2)\n",
      "Requirement already satisfied: jupyter_core in /Library/Frameworks/Python.framework/Versions/3.12/lib/python3.12/site-packages (from jupyter_contrib_nbextensions) (5.8.1)\n",
      "Requirement already satisfied: jupyter_highlight_selected_word>=0.1.1 in /Library/Frameworks/Python.framework/Versions/3.12/lib/python3.12/site-packages (from jupyter_contrib_nbextensions) (0.2.0)\n",
      "Requirement already satisfied: jupyter_nbextensions_configurator>=0.4.0 in /Library/Frameworks/Python.framework/Versions/3.12/lib/python3.12/site-packages (from jupyter_contrib_nbextensions) (0.6.4)\n",
      "Requirement already satisfied: nbconvert>=6.0 in /Library/Frameworks/Python.framework/Versions/3.12/lib/python3.12/site-packages (from jupyter_contrib_nbextensions) (7.16.6)\n",
      "Requirement already satisfied: notebook>=6.0 in /Library/Frameworks/Python.framework/Versions/3.12/lib/python3.12/site-packages (from jupyter_contrib_nbextensions) (6.5.7)\n",
      "Requirement already satisfied: tornado in /Library/Frameworks/Python.framework/Versions/3.12/lib/python3.12/site-packages (from jupyter_contrib_nbextensions) (6.5.1)\n",
      "Requirement already satisfied: traitlets>=4.1 in /Library/Frameworks/Python.framework/Versions/3.12/lib/python3.12/site-packages (from jupyter_contrib_nbextensions) (5.14.3)\n",
      "Requirement already satisfied: lxml in /Library/Frameworks/Python.framework/Versions/3.12/lib/python3.12/site-packages (from jupyter_contrib_nbextensions) (5.3.0)\n",
      "Requirement already satisfied: setuptools in /Library/Frameworks/Python.framework/Versions/3.12/lib/python3.12/site-packages (from jupyter_contrib_core>=0.3.3->jupyter_contrib_nbextensions) (80.9.0)\n",
      "Requirement already satisfied: jupyter-server in /Library/Frameworks/Python.framework/Versions/3.12/lib/python3.12/site-packages (from jupyter_nbextensions_configurator>=0.4.0->jupyter_contrib_nbextensions) (1.24.0)\n",
      "Requirement already satisfied: pyyaml in /Library/Frameworks/Python.framework/Versions/3.12/lib/python3.12/site-packages (from jupyter_nbextensions_configurator>=0.4.0->jupyter_contrib_nbextensions) (6.0.2)\n",
      "Requirement already satisfied: beautifulsoup4 in /Library/Frameworks/Python.framework/Versions/3.12/lib/python3.12/site-packages (from nbconvert>=6.0->jupyter_contrib_nbextensions) (4.13.4)\n",
      "Requirement already satisfied: bleach!=5.0.0 in /Library/Frameworks/Python.framework/Versions/3.12/lib/python3.12/site-packages (from bleach[css]!=5.0.0->nbconvert>=6.0->jupyter_contrib_nbextensions) (6.2.0)\n",
      "Requirement already satisfied: defusedxml in /Library/Frameworks/Python.framework/Versions/3.12/lib/python3.12/site-packages (from nbconvert>=6.0->jupyter_contrib_nbextensions) (0.7.1)\n",
      "Requirement already satisfied: jinja2>=3.0 in /Library/Frameworks/Python.framework/Versions/3.12/lib/python3.12/site-packages (from nbconvert>=6.0->jupyter_contrib_nbextensions) (3.1.6)\n",
      "Requirement already satisfied: jupyterlab-pygments in /Library/Frameworks/Python.framework/Versions/3.12/lib/python3.12/site-packages (from nbconvert>=6.0->jupyter_contrib_nbextensions) (0.3.0)\n",
      "Requirement already satisfied: markupsafe>=2.0 in /Library/Frameworks/Python.framework/Versions/3.12/lib/python3.12/site-packages (from nbconvert>=6.0->jupyter_contrib_nbextensions) (3.0.2)\n",
      "Requirement already satisfied: mistune<4,>=2.0.3 in /Library/Frameworks/Python.framework/Versions/3.12/lib/python3.12/site-packages (from nbconvert>=6.0->jupyter_contrib_nbextensions) (3.1.3)\n",
      "Requirement already satisfied: nbclient>=0.5.0 in /Library/Frameworks/Python.framework/Versions/3.12/lib/python3.12/site-packages (from nbconvert>=6.0->jupyter_contrib_nbextensions) (0.10.2)\n",
      "Requirement already satisfied: nbformat>=5.7 in /Library/Frameworks/Python.framework/Versions/3.12/lib/python3.12/site-packages (from nbconvert>=6.0->jupyter_contrib_nbextensions) (5.10.4)\n",
      "Requirement already satisfied: packaging in /Library/Frameworks/Python.framework/Versions/3.12/lib/python3.12/site-packages (from nbconvert>=6.0->jupyter_contrib_nbextensions) (25.0)\n",
      "Requirement already satisfied: pandocfilters>=1.4.1 in /Library/Frameworks/Python.framework/Versions/3.12/lib/python3.12/site-packages (from nbconvert>=6.0->jupyter_contrib_nbextensions) (1.5.1)\n",
      "Requirement already satisfied: pygments>=2.4.1 in /Library/Frameworks/Python.framework/Versions/3.12/lib/python3.12/site-packages (from nbconvert>=6.0->jupyter_contrib_nbextensions) (2.19.2)\n",
      "Requirement already satisfied: webencodings in /Library/Frameworks/Python.framework/Versions/3.12/lib/python3.12/site-packages (from bleach!=5.0.0->bleach[css]!=5.0.0->nbconvert>=6.0->jupyter_contrib_nbextensions) (0.5.1)\n",
      "Requirement already satisfied: tinycss2<1.5,>=1.1.0 in /Library/Frameworks/Python.framework/Versions/3.12/lib/python3.12/site-packages (from bleach[css]!=5.0.0->nbconvert>=6.0->jupyter_contrib_nbextensions) (1.4.0)\n",
      "Requirement already satisfied: platformdirs>=2.5 in /Library/Frameworks/Python.framework/Versions/3.12/lib/python3.12/site-packages (from jupyter_core->jupyter_contrib_nbextensions) (4.3.8)\n",
      "Requirement already satisfied: jupyter-client>=6.1.12 in /Library/Frameworks/Python.framework/Versions/3.12/lib/python3.12/site-packages (from nbclient>=0.5.0->nbconvert>=6.0->jupyter_contrib_nbextensions) (7.4.9)\n",
      "Requirement already satisfied: entrypoints in /Library/Frameworks/Python.framework/Versions/3.12/lib/python3.12/site-packages (from jupyter-client>=6.1.12->nbclient>=0.5.0->nbconvert>=6.0->jupyter_contrib_nbextensions) (0.4)\n",
      "Requirement already satisfied: nest-asyncio>=1.5.4 in /Library/Frameworks/Python.framework/Versions/3.12/lib/python3.12/site-packages (from jupyter-client>=6.1.12->nbclient>=0.5.0->nbconvert>=6.0->jupyter_contrib_nbextensions) (1.6.0)\n",
      "Requirement already satisfied: python-dateutil>=2.8.2 in /Library/Frameworks/Python.framework/Versions/3.12/lib/python3.12/site-packages (from jupyter-client>=6.1.12->nbclient>=0.5.0->nbconvert>=6.0->jupyter_contrib_nbextensions) (2.9.0.post0)\n",
      "Requirement already satisfied: pyzmq>=23.0 in /Library/Frameworks/Python.framework/Versions/3.12/lib/python3.12/site-packages (from jupyter-client>=6.1.12->nbclient>=0.5.0->nbconvert>=6.0->jupyter_contrib_nbextensions) (27.0.1)\n",
      "Requirement already satisfied: fastjsonschema>=2.15 in /Library/Frameworks/Python.framework/Versions/3.12/lib/python3.12/site-packages (from nbformat>=5.7->nbconvert>=6.0->jupyter_contrib_nbextensions) (2.21.1)\n",
      "Requirement already satisfied: jsonschema>=2.6 in /Library/Frameworks/Python.framework/Versions/3.12/lib/python3.12/site-packages (from nbformat>=5.7->nbconvert>=6.0->jupyter_contrib_nbextensions) (4.25.0)\n",
      "Requirement already satisfied: attrs>=22.2.0 in /Library/Frameworks/Python.framework/Versions/3.12/lib/python3.12/site-packages (from jsonschema>=2.6->nbformat>=5.7->nbconvert>=6.0->jupyter_contrib_nbextensions) (25.3.0)\n",
      "Requirement already satisfied: jsonschema-specifications>=2023.03.6 in /Library/Frameworks/Python.framework/Versions/3.12/lib/python3.12/site-packages (from jsonschema>=2.6->nbformat>=5.7->nbconvert>=6.0->jupyter_contrib_nbextensions) (2025.4.1)\n",
      "Requirement already satisfied: referencing>=0.28.4 in /Library/Frameworks/Python.framework/Versions/3.12/lib/python3.12/site-packages (from jsonschema>=2.6->nbformat>=5.7->nbconvert>=6.0->jupyter_contrib_nbextensions) (0.36.2)\n",
      "Requirement already satisfied: rpds-py>=0.7.1 in /Library/Frameworks/Python.framework/Versions/3.12/lib/python3.12/site-packages (from jsonschema>=2.6->nbformat>=5.7->nbconvert>=6.0->jupyter_contrib_nbextensions) (0.26.0)\n",
      "Requirement already satisfied: argon2-cffi in /Library/Frameworks/Python.framework/Versions/3.12/lib/python3.12/site-packages (from notebook>=6.0->jupyter_contrib_nbextensions) (25.1.0)\n",
      "Requirement already satisfied: ipykernel in /Library/Frameworks/Python.framework/Versions/3.12/lib/python3.12/site-packages (from notebook>=6.0->jupyter_contrib_nbextensions) (6.29.5)\n",
      "Requirement already satisfied: Send2Trash>=1.8.0 in /Library/Frameworks/Python.framework/Versions/3.12/lib/python3.12/site-packages (from notebook>=6.0->jupyter_contrib_nbextensions) (1.8.3)\n",
      "Requirement already satisfied: terminado>=0.8.3 in /Library/Frameworks/Python.framework/Versions/3.12/lib/python3.12/site-packages (from notebook>=6.0->jupyter_contrib_nbextensions) (0.18.1)\n",
      "Requirement already satisfied: prometheus-client in /Library/Frameworks/Python.framework/Versions/3.12/lib/python3.12/site-packages (from notebook>=6.0->jupyter_contrib_nbextensions) (0.22.1)\n",
      "Requirement already satisfied: nbclassic>=0.4.7 in /Library/Frameworks/Python.framework/Versions/3.12/lib/python3.12/site-packages (from notebook>=6.0->jupyter_contrib_nbextensions) (1.3.1)\n",
      "Requirement already satisfied: notebook-shim>=0.2.3 in /Library/Frameworks/Python.framework/Versions/3.12/lib/python3.12/site-packages (from nbclassic>=0.4.7->notebook>=6.0->jupyter_contrib_nbextensions) (0.2.4)\n"
     ]
    },
    {
     "name": "stdout",
     "output_type": "stream",
     "text": [
      "Collecting anyio<4,>=3.1.0 (from jupyter-server->jupyter_nbextensions_configurator>=0.4.0->jupyter_contrib_nbextensions)\n",
      "  Using cached anyio-3.7.1-py3-none-any.whl.metadata (4.7 kB)\n",
      "Requirement already satisfied: websocket-client in /Library/Frameworks/Python.framework/Versions/3.12/lib/python3.12/site-packages (from jupyter-server->jupyter_nbextensions_configurator>=0.4.0->jupyter_contrib_nbextensions) (1.8.0)\n",
      "Requirement already satisfied: idna>=2.8 in /Library/Frameworks/Python.framework/Versions/3.12/lib/python3.12/site-packages (from anyio<4,>=3.1.0->jupyter-server->jupyter_nbextensions_configurator>=0.4.0->jupyter_contrib_nbextensions) (3.10)\n",
      "Requirement already satisfied: sniffio>=1.1 in /Library/Frameworks/Python.framework/Versions/3.12/lib/python3.12/site-packages (from anyio<4,>=3.1.0->jupyter-server->jupyter_nbextensions_configurator>=0.4.0->jupyter_contrib_nbextensions) (1.3.1)\n",
      "Requirement already satisfied: six>=1.5 in /Library/Frameworks/Python.framework/Versions/3.12/lib/python3.12/site-packages (from python-dateutil>=2.8.2->jupyter-client>=6.1.12->nbclient>=0.5.0->nbconvert>=6.0->jupyter_contrib_nbextensions) (1.17.0)\n",
      "Requirement already satisfied: typing-extensions>=4.4.0 in /Library/Frameworks/Python.framework/Versions/3.12/lib/python3.12/site-packages (from referencing>=0.28.4->jsonschema>=2.6->nbformat>=5.7->nbconvert>=6.0->jupyter_contrib_nbextensions) (4.14.1)\n",
      "Requirement already satisfied: ptyprocess in /Library/Frameworks/Python.framework/Versions/3.12/lib/python3.12/site-packages (from terminado>=0.8.3->notebook>=6.0->jupyter_contrib_nbextensions) (0.7.0)\n",
      "Requirement already satisfied: argon2-cffi-bindings in /Library/Frameworks/Python.framework/Versions/3.12/lib/python3.12/site-packages (from argon2-cffi->notebook>=6.0->jupyter_contrib_nbextensions) (25.1.0)\n",
      "Requirement already satisfied: cffi>=1.0.1 in /Library/Frameworks/Python.framework/Versions/3.12/lib/python3.12/site-packages (from argon2-cffi-bindings->argon2-cffi->notebook>=6.0->jupyter_contrib_nbextensions) (1.17.1)\n",
      "Requirement already satisfied: pycparser in /Library/Frameworks/Python.framework/Versions/3.12/lib/python3.12/site-packages (from cffi>=1.0.1->argon2-cffi-bindings->argon2-cffi->notebook>=6.0->jupyter_contrib_nbextensions) (2.22)\n",
      "Requirement already satisfied: soupsieve>1.2 in /Library/Frameworks/Python.framework/Versions/3.12/lib/python3.12/site-packages (from beautifulsoup4->nbconvert>=6.0->jupyter_contrib_nbextensions) (2.7)\n",
      "Requirement already satisfied: appnope in /Library/Frameworks/Python.framework/Versions/3.12/lib/python3.12/site-packages (from ipykernel->notebook>=6.0->jupyter_contrib_nbextensions) (0.1.4)\n",
      "Requirement already satisfied: comm>=0.1.1 in /Library/Frameworks/Python.framework/Versions/3.12/lib/python3.12/site-packages (from ipykernel->notebook>=6.0->jupyter_contrib_nbextensions) (0.2.3)\n",
      "Requirement already satisfied: debugpy>=1.6.5 in /Library/Frameworks/Python.framework/Versions/3.12/lib/python3.12/site-packages (from ipykernel->notebook>=6.0->jupyter_contrib_nbextensions) (1.8.15)\n",
      "Requirement already satisfied: ipython>=7.23.1 in /Library/Frameworks/Python.framework/Versions/3.12/lib/python3.12/site-packages (from ipykernel->notebook>=6.0->jupyter_contrib_nbextensions) (9.4.0)\n",
      "Requirement already satisfied: matplotlib-inline>=0.1 in /Library/Frameworks/Python.framework/Versions/3.12/lib/python3.12/site-packages (from ipykernel->notebook>=6.0->jupyter_contrib_nbextensions) (0.1.7)\n",
      "Requirement already satisfied: psutil in /Library/Frameworks/Python.framework/Versions/3.12/lib/python3.12/site-packages (from ipykernel->notebook>=6.0->jupyter_contrib_nbextensions) (7.0.0)\n",
      "Requirement already satisfied: decorator in /Library/Frameworks/Python.framework/Versions/3.12/lib/python3.12/site-packages (from ipython>=7.23.1->ipykernel->notebook>=6.0->jupyter_contrib_nbextensions) (5.2.1)\n",
      "Requirement already satisfied: ipython-pygments-lexers in /Library/Frameworks/Python.framework/Versions/3.12/lib/python3.12/site-packages (from ipython>=7.23.1->ipykernel->notebook>=6.0->jupyter_contrib_nbextensions) (1.1.1)\n",
      "Requirement already satisfied: jedi>=0.16 in /Library/Frameworks/Python.framework/Versions/3.12/lib/python3.12/site-packages (from ipython>=7.23.1->ipykernel->notebook>=6.0->jupyter_contrib_nbextensions) (0.19.2)\n",
      "Requirement already satisfied: pexpect>4.3 in /Library/Frameworks/Python.framework/Versions/3.12/lib/python3.12/site-packages (from ipython>=7.23.1->ipykernel->notebook>=6.0->jupyter_contrib_nbextensions) (4.9.0)\n",
      "Requirement already satisfied: prompt_toolkit<3.1.0,>=3.0.41 in /Library/Frameworks/Python.framework/Versions/3.12/lib/python3.12/site-packages (from ipython>=7.23.1->ipykernel->notebook>=6.0->jupyter_contrib_nbextensions) (3.0.51)\n",
      "Requirement already satisfied: stack_data in /Library/Frameworks/Python.framework/Versions/3.12/lib/python3.12/site-packages (from ipython>=7.23.1->ipykernel->notebook>=6.0->jupyter_contrib_nbextensions) (0.6.3)\n",
      "Requirement already satisfied: wcwidth in /Library/Frameworks/Python.framework/Versions/3.12/lib/python3.12/site-packages (from prompt_toolkit<3.1.0,>=3.0.41->ipython>=7.23.1->ipykernel->notebook>=6.0->jupyter_contrib_nbextensions) (0.2.13)\n",
      "Requirement already satisfied: parso<0.9.0,>=0.8.4 in /Library/Frameworks/Python.framework/Versions/3.12/lib/python3.12/site-packages (from jedi>=0.16->ipython>=7.23.1->ipykernel->notebook>=6.0->jupyter_contrib_nbextensions) (0.8.4)\n",
      "Requirement already satisfied: executing>=1.2.0 in /Library/Frameworks/Python.framework/Versions/3.12/lib/python3.12/site-packages (from stack_data->ipython>=7.23.1->ipykernel->notebook>=6.0->jupyter_contrib_nbextensions) (2.2.0)\n",
      "Requirement already satisfied: asttokens>=2.1.0 in /Library/Frameworks/Python.framework/Versions/3.12/lib/python3.12/site-packages (from stack_data->ipython>=7.23.1->ipykernel->notebook>=6.0->jupyter_contrib_nbextensions) (3.0.0)\n",
      "Requirement already satisfied: pure-eval in /Library/Frameworks/Python.framework/Versions/3.12/lib/python3.12/site-packages (from stack_data->ipython>=7.23.1->ipykernel->notebook>=6.0->jupyter_contrib_nbextensions) (0.2.3)\n",
      "Using cached anyio-3.7.1-py3-none-any.whl (80 kB)\n",
      "Installing collected packages: anyio\n",
      "  Attempting uninstall: anyio\n",
      "    Found existing installation: anyio 4.11.0\n",
      "    Uninstalling anyio-4.11.0:\n",
      "      Successfully uninstalled anyio-4.11.0\n",
      "\u001b[31mERROR: pip's dependency resolver does not currently take into account all the packages that are installed. This behaviour is the source of the following dependency conflicts.\n",
      "mcp 1.12.0 requires anyio>=4.5, but you have anyio 3.7.1 which is incompatible.\n",
      "sse-starlette 2.4.1 requires anyio>=4.7.0, but you have anyio 3.7.1 which is incompatible.\u001b[0m\u001b[31m\n",
      "\u001b[0mSuccessfully installed anyio-3.7.1\n",
      "/Library/Frameworks/Python.framework/Versions/3.12/lib/python3.12/site-packages/jupyter_contrib_core/application.py:12: UserWarning: pkg_resources is deprecated as an API. See https://setuptools.pypa.io/en/latest/pkg_resources.html. The pkg_resources package is slated for removal as early as 2025-11-30. Refrain from using this package or pin to Setuptools<81.\n",
      "  import pkg_resources\n",
      "\u001b[32m[I 19:36:55 InstallContribNbextensionsApp]\u001b[m jupyter contrib nbextension install --user\n",
      "\u001b[32m[I 19:36:55 InstallContribNbextensionsApp]\u001b[m Installing jupyter_contrib_nbextensions nbextension files to jupyter data directory\n",
      "\u001b[32m[I 19:36:55 InstallContribNbextensionsApp]\u001b[m Installing /Library/Frameworks/Python.framework/Versions/3.12/lib/python3.12/site-packages/jupyter_contrib_nbextensions/nbextensions/rubberband -> rubberband\n",
      "\u001b[32m[I 19:36:55 InstallContribNbextensionsApp]\u001b[m Up to date: /Users/sundar/Library/Jupyter/nbextensions/rubberband/icon.png\n",
      "\u001b[32m[I 19:36:55 InstallContribNbextensionsApp]\u001b[m Up to date: /Users/sundar/Library/Jupyter/nbextensions/rubberband/main.css\n",
      "\u001b[32m[I 19:36:55 InstallContribNbextensionsApp]\u001b[m Up to date: /Users/sundar/Library/Jupyter/nbextensions/rubberband/readme.md\n",
      "\u001b[32m[I 19:36:55 InstallContribNbextensionsApp]\u001b[m Up to date: /Users/sundar/Library/Jupyter/nbextensions/rubberband/main.js\n",
      "\u001b[32m[I 19:36:55 InstallContribNbextensionsApp]\u001b[m Up to date: /Users/sundar/Library/Jupyter/nbextensions/rubberband/rubberband.yaml\n",
      "\u001b[32m[I 19:36:55 InstallContribNbextensionsApp]\u001b[m - Validating: \u001b[32mOK\u001b[0m\n",
      "\u001b[32m[I 19:36:55 InstallContribNbextensionsApp]\u001b[m Installing /Library/Frameworks/Python.framework/Versions/3.12/lib/python3.12/site-packages/jupyter_contrib_nbextensions/nbextensions/scroll_down -> scroll_down\n",
      "\u001b[32m[I 19:36:55 InstallContribNbextensionsApp]\u001b[m Up to date: /Users/sundar/Library/Jupyter/nbextensions/scroll_down/icon.png\n",
      "\u001b[32m[I 19:36:55 InstallContribNbextensionsApp]\u001b[m Up to date: /Users/sundar/Library/Jupyter/nbextensions/scroll_down/config.yaml\n",
      "\u001b[32m[I 19:36:55 InstallContribNbextensionsApp]\u001b[m Up to date: /Users/sundar/Library/Jupyter/nbextensions/scroll_down/readme.md\n",
      "\u001b[32m[I 19:36:55 InstallContribNbextensionsApp]\u001b[m Up to date: /Users/sundar/Library/Jupyter/nbextensions/scroll_down/main.js\n",
      "\u001b[32m[I 19:36:55 InstallContribNbextensionsApp]\u001b[m - Validating: \u001b[32mOK\u001b[0m\n",
      "\u001b[32m[I 19:36:55 InstallContribNbextensionsApp]\u001b[m Installing /Library/Frameworks/Python.framework/Versions/3.12/lib/python3.12/site-packages/jupyter_contrib_nbextensions/nbextensions/hinterland -> hinterland\n",
      "\u001b[32m[I 19:36:55 InstallContribNbextensionsApp]\u001b[m Up to date: /Users/sundar/Library/Jupyter/nbextensions/hinterland/hinterland.yaml\n",
      "\u001b[32m[I 19:36:55 InstallContribNbextensionsApp]\u001b[m Up to date: /Users/sundar/Library/Jupyter/nbextensions/hinterland/hinterland.js\n",
      "\u001b[32m[I 19:36:55 InstallContribNbextensionsApp]\u001b[m Up to date: /Users/sundar/Library/Jupyter/nbextensions/hinterland/README.md\n",
      "\u001b[32m[I 19:36:55 InstallContribNbextensionsApp]\u001b[m - Validating: \u001b[32mOK\u001b[0m\n",
      "\u001b[32m[I 19:36:55 InstallContribNbextensionsApp]\u001b[m Installing /Library/Frameworks/Python.framework/Versions/3.12/lib/python3.12/site-packages/jupyter_contrib_nbextensions/nbextensions/snippets -> snippets\n",
      "\u001b[32m[I 19:36:55 InstallContribNbextensionsApp]\u001b[m Up to date: /Users/sundar/Library/Jupyter/nbextensions/snippets/snippets.yaml\n",
      "\u001b[32m[I 19:36:55 InstallContribNbextensionsApp]\u001b[m Up to date: /Users/sundar/Library/Jupyter/nbextensions/snippets/snippets.json\n",
      "\u001b[32m[I 19:36:55 InstallContribNbextensionsApp]\u001b[m Up to date: /Users/sundar/Library/Jupyter/nbextensions/snippets/README.md\n",
      "\u001b[32m[I 19:36:55 InstallContribNbextensionsApp]\u001b[m Up to date: /Users/sundar/Library/Jupyter/nbextensions/snippets/main.js\n",
      "\u001b[32m[I 19:36:55 InstallContribNbextensionsApp]\u001b[m Up to date: /Users/sundar/Library/Jupyter/nbextensions/snippets/snippets-demo.gif\n",
      "\u001b[32m[I 19:36:55 InstallContribNbextensionsApp]\u001b[m - Validating: \u001b[32mOK\u001b[0m\n",
      "\u001b[32m[I 19:36:55 InstallContribNbextensionsApp]\u001b[m Installing /Library/Frameworks/Python.framework/Versions/3.12/lib/python3.12/site-packages/jupyter_contrib_nbextensions/nbextensions/toggle_all_line_numbers -> toggle_all_line_numbers\n",
      "\u001b[32m[I 19:36:55 InstallContribNbextensionsApp]\u001b[m Up to date: /Users/sundar/Library/Jupyter/nbextensions/toggle_all_line_numbers/icon.png\n",
      "\u001b[32m[I 19:36:55 InstallContribNbextensionsApp]\u001b[m Up to date: /Users/sundar/Library/Jupyter/nbextensions/toggle_all_line_numbers/main.yaml\n",
      "\u001b[32m[I 19:36:55 InstallContribNbextensionsApp]\u001b[m Up to date: /Users/sundar/Library/Jupyter/nbextensions/toggle_all_line_numbers/readme.md\n",
      "\u001b[32m[I 19:36:55 InstallContribNbextensionsApp]\u001b[m Up to date: /Users/sundar/Library/Jupyter/nbextensions/toggle_all_line_numbers/main.js\n",
      "\u001b[32m[I 19:36:55 InstallContribNbextensionsApp]\u001b[m - Validating: \u001b[32mOK\u001b[0m\n",
      "\u001b[32m[I 19:36:55 InstallContribNbextensionsApp]\u001b[m Installing /Library/Frameworks/Python.framework/Versions/3.12/lib/python3.12/site-packages/jupyter_contrib_nbextensions/nbextensions/notify -> notify\n",
      "\u001b[32m[I 19:36:55 InstallContribNbextensionsApp]\u001b[m Up to date: /Users/sundar/Library/Jupyter/nbextensions/notify/notify.js\n",
      "\u001b[32m[I 19:36:55 InstallContribNbextensionsApp]\u001b[m Up to date: /Users/sundar/Library/Jupyter/nbextensions/notify/notify.mp3\n",
      "\u001b[32m[I 19:36:55 InstallContribNbextensionsApp]\u001b[m Up to date: /Users/sundar/Library/Jupyter/nbextensions/notify/readme.md\n",
      "\u001b[32m[I 19:36:55 InstallContribNbextensionsApp]\u001b[m Up to date: /Users/sundar/Library/Jupyter/nbextensions/notify/notify.yaml\n",
      "\u001b[32m[I 19:36:55 InstallContribNbextensionsApp]\u001b[m Up to date: /Users/sundar/Library/Jupyter/nbextensions/notify/notification.png\n",
      "\u001b[32m[I 19:36:55 InstallContribNbextensionsApp]\u001b[m - Validating: \u001b[32mOK\u001b[0m\n",
      "\u001b[32m[I 19:36:55 InstallContribNbextensionsApp]\u001b[m Installing /Library/Frameworks/Python.framework/Versions/3.12/lib/python3.12/site-packages/jupyter_contrib_nbextensions/nbextensions/runtools -> runtools\n",
      "\u001b[32m[I 19:36:55 InstallContribNbextensionsApp]\u001b[m Up to date: /Users/sundar/Library/Jupyter/nbextensions/runtools/cellstate.js\n",
      "\u001b[32m[I 19:36:55 InstallContribNbextensionsApp]\u001b[m Up to date: /Users/sundar/Library/Jupyter/nbextensions/runtools/icon.png\n",
      "\u001b[32m[I 19:36:55 InstallContribNbextensionsApp]\u001b[m Up to date: /Users/sundar/Library/Jupyter/nbextensions/runtools/runtools_execute.png\n",
      "\u001b[32m[I 19:36:55 InstallContribNbextensionsApp]\u001b[m Up to date: /Users/sundar/Library/Jupyter/nbextensions/runtools/annotations.odg\n",
      "\u001b[32m[I 19:36:55 InstallContribNbextensionsApp]\u001b[m Up to date: /Users/sundar/Library/Jupyter/nbextensions/runtools/runtools.yaml\n",
      "\u001b[32m[I 19:36:55 InstallContribNbextensionsApp]\u001b[m Up to date: /Users/sundar/Library/Jupyter/nbextensions/runtools/main.css\n",
      "\u001b[32m[I 19:36:55 InstallContribNbextensionsApp]\u001b[m Up to date: /Users/sundar/Library/Jupyter/nbextensions/runtools/runtools_nb.png\n",
      "\u001b[32m[I 19:36:55 InstallContribNbextensionsApp]\u001b[m Up to date: /Users/sundar/Library/Jupyter/nbextensions/runtools/readme.md\n",
      "\u001b[32m[I 19:36:55 InstallContribNbextensionsApp]\u001b[m Up to date: /Users/sundar/Library/Jupyter/nbextensions/runtools/runtools_marker.png\n",
      "\u001b[32m[I 19:36:55 InstallContribNbextensionsApp]\u001b[m Up to date: /Users/sundar/Library/Jupyter/nbextensions/runtools/main.js\n",
      "\u001b[32m[I 19:36:55 InstallContribNbextensionsApp]\u001b[m Up to date: /Users/sundar/Library/Jupyter/nbextensions/runtools/runtools_show_hide.png\n",
      "\u001b[32m[I 19:36:55 InstallContribNbextensionsApp]\u001b[m Up to date: /Users/sundar/Library/Jupyter/nbextensions/runtools/runtools_lock.png\n",
      "\u001b[32m[I 19:36:55 InstallContribNbextensionsApp]\u001b[m Up to date: /Users/sundar/Library/Jupyter/nbextensions/runtools/demo.gif\n",
      "\u001b[32m[I 19:36:55 InstallContribNbextensionsApp]\u001b[m Up to date: /Users/sundar/Library/Jupyter/nbextensions/runtools/gutter.css\n",
      "\u001b[32m[I 19:36:55 InstallContribNbextensionsApp]\u001b[m - Validating: \u001b[32mOK\u001b[0m\n",
      "\u001b[32m[I 19:36:55 InstallContribNbextensionsApp]\u001b[m Installing /Library/Frameworks/Python.framework/Versions/3.12/lib/python3.12/site-packages/jupyter_contrib_nbextensions/nbextensions/tree-filter -> tree-filter\n",
      "\u001b[32m[I 19:36:55 InstallContribNbextensionsApp]\u001b[m Up to date: /Users/sundar/Library/Jupyter/nbextensions/tree-filter/tree-filter.yaml\n",
      "\u001b[32m[I 19:36:55 InstallContribNbextensionsApp]\u001b[m Up to date: /Users/sundar/Library/Jupyter/nbextensions/tree-filter/index.js\n",
      "\u001b[32m[I 19:36:55 InstallContribNbextensionsApp]\u001b[m Up to date: /Users/sundar/Library/Jupyter/nbextensions/tree-filter/readme.md\n",
      "\u001b[32m[I 19:36:55 InstallContribNbextensionsApp]\u001b[m Up to date: /Users/sundar/Library/Jupyter/nbextensions/tree-filter/demo.gif\n",
      "\u001b[32m[I 19:36:55 InstallContribNbextensionsApp]\u001b[m - Validating: \u001b[32mOK\u001b[0m\n",
      "\u001b[32m[I 19:36:55 InstallContribNbextensionsApp]\u001b[m Installing /Library/Frameworks/Python.framework/Versions/3.12/lib/python3.12/site-packages/jupyter_contrib_nbextensions/nbextensions/table_beautifier -> table_beautifier\n",
      "\u001b[32m[I 19:36:55 InstallContribNbextensionsApp]\u001b[m Up to date: /Users/sundar/Library/Jupyter/nbextensions/table_beautifier/main.css\n",
      "\u001b[32m[I 19:36:55 InstallContribNbextensionsApp]\u001b[m Up to date: /Users/sundar/Library/Jupyter/nbextensions/table_beautifier/README.md\n",
      "\u001b[32m[I 19:36:55 InstallContribNbextensionsApp]\u001b[m Up to date: /Users/sundar/Library/Jupyter/nbextensions/table_beautifier/main.js\n",
      "\u001b[32m[I 19:36:55 InstallContribNbextensionsApp]\u001b[m Up to date: /Users/sundar/Library/Jupyter/nbextensions/table_beautifier/table_beautifier.yaml\n",
      "\u001b[32m[I 19:36:55 InstallContribNbextensionsApp]\u001b[m - Validating: \u001b[32mOK\u001b[0m\n",
      "\u001b[32m[I 19:36:55 InstallContribNbextensionsApp]\u001b[m Installing /Library/Frameworks/Python.framework/Versions/3.12/lib/python3.12/site-packages/jupyter_contrib_nbextensions/nbextensions/freeze -> freeze\n",
      "\u001b[32m[I 19:36:55 InstallContribNbextensionsApp]\u001b[m Up to date: /Users/sundar/Library/Jupyter/nbextensions/freeze/icon.png\n",
      "\u001b[32m[I 19:36:55 InstallContribNbextensionsApp]\u001b[m Up to date: /Users/sundar/Library/Jupyter/nbextensions/freeze/config.yaml\n",
      "\u001b[32m[I 19:36:55 InstallContribNbextensionsApp]\u001b[m Up to date: /Users/sundar/Library/Jupyter/nbextensions/freeze/readme.md\n",
      "\u001b[32m[I 19:36:55 InstallContribNbextensionsApp]\u001b[m Up to date: /Users/sundar/Library/Jupyter/nbextensions/freeze/main.js\n",
      "\u001b[32m[I 19:36:55 InstallContribNbextensionsApp]\u001b[m - Validating: \u001b[32mOK\u001b[0m\n",
      "\u001b[32m[I 19:36:55 InstallContribNbextensionsApp]\u001b[m Installing /Library/Frameworks/Python.framework/Versions/3.12/lib/python3.12/site-packages/jupyter_contrib_nbextensions/nbextensions/exercise2 -> exercise2\n",
      "\u001b[32m[I 19:36:55 InstallContribNbextensionsApp]\u001b[m Up to date: /Users/sundar/Library/Jupyter/nbextensions/exercise2/icon.png\n",
      "\u001b[32m[I 19:36:55 InstallContribNbextensionsApp]\u001b[m Up to date: /Users/sundar/Library/Jupyter/nbextensions/exercise2/exercise2.yaml\n",
      "\u001b[32m[I 19:36:55 InstallContribNbextensionsApp]\u001b[m Up to date: /Users/sundar/Library/Jupyter/nbextensions/exercise2/main.css\n",
      "\u001b[32m[I 19:36:55 InstallContribNbextensionsApp]\u001b[m Up to date: /Users/sundar/Library/Jupyter/nbextensions/exercise2/image.gif\n",
      "\u001b[32m[I 19:36:55 InstallContribNbextensionsApp]\u001b[m Up to date: /Users/sundar/Library/Jupyter/nbextensions/exercise2/readme.md\n",
      "\u001b[32m[I 19:36:55 InstallContribNbextensionsApp]\u001b[m Up to date: /Users/sundar/Library/Jupyter/nbextensions/exercise2/main.js\n",
      "\u001b[32m[I 19:36:55 InstallContribNbextensionsApp]\u001b[m - Validating: \u001b[32mOK\u001b[0m\n",
      "\u001b[32m[I 19:36:55 InstallContribNbextensionsApp]\u001b[m Installing /Library/Frameworks/Python.framework/Versions/3.12/lib/python3.12/site-packages/jupyter_contrib_nbextensions/nbextensions/execution_dependencies -> execution_dependencies\n",
      "\u001b[32m[I 19:36:55 InstallContribNbextensionsApp]\u001b[m Up to date: /Users/sundar/Library/Jupyter/nbextensions/execution_dependencies/execution_dependencies.yml\n",
      "\u001b[32m[I 19:36:55 InstallContribNbextensionsApp]\u001b[m Up to date: /Users/sundar/Library/Jupyter/nbextensions/execution_dependencies/README.md\n",
      "\u001b[32m[I 19:36:55 InstallContribNbextensionsApp]\u001b[m Up to date: /Users/sundar/Library/Jupyter/nbextensions/execution_dependencies/execution_dependencies.js\n",
      "\u001b[32m[I 19:36:55 InstallContribNbextensionsApp]\u001b[m - Validating: \u001b[32mOK\u001b[0m\n",
      "\u001b[32m[I 19:36:55 InstallContribNbextensionsApp]\u001b[m Installing /Library/Frameworks/Python.framework/Versions/3.12/lib/python3.12/site-packages/jupyter_contrib_nbextensions/nbextensions/skill -> skill\n",
      "\u001b[32m[I 19:36:55 InstallContribNbextensionsApp]\u001b[m Up to date: /Users/sundar/Library/Jupyter/nbextensions/skill/skill.js\n",
      "\u001b[32m[I 19:36:55 InstallContribNbextensionsApp]\u001b[m Up to date: /Users/sundar/Library/Jupyter/nbextensions/skill/README.md\n",
      "\u001b[32m[I 19:36:55 InstallContribNbextensionsApp]\u001b[m Up to date: /Users/sundar/Library/Jupyter/nbextensions/skill/main.js\n",
      "\u001b[32m[I 19:36:55 InstallContribNbextensionsApp]\u001b[m Up to date: /Users/sundar/Library/Jupyter/nbextensions/skill/skill.yaml\n",
      "\u001b[32m[I 19:36:55 InstallContribNbextensionsApp]\u001b[m - Validating: \u001b[32mOK\u001b[0m\n",
      "\u001b[32m[I 19:36:55 InstallContribNbextensionsApp]\u001b[m Installing /Library/Frameworks/Python.framework/Versions/3.12/lib/python3.12/site-packages/jupyter_contrib_nbextensions/nbextensions/splitcell -> splitcell\n",
      "\u001b[32m[I 19:36:55 InstallContribNbextensionsApp]\u001b[m Up to date: /Users/sundar/Library/Jupyter/nbextensions/splitcell/icon.png\n",
      "\u001b[32m[I 19:36:55 InstallContribNbextensionsApp]\u001b[m Up to date: /Users/sundar/Library/Jupyter/nbextensions/splitcell/readme.md\n",
      "\u001b[32m[I 19:36:55 InstallContribNbextensionsApp]\u001b[m Up to date: /Users/sundar/Library/Jupyter/nbextensions/splitcell/splitcell.yaml\n",
      "\u001b[32m[I 19:36:55 InstallContribNbextensionsApp]\u001b[m Up to date: /Users/sundar/Library/Jupyter/nbextensions/splitcell/splitcell.js\n",
      "\u001b[32m[I 19:36:55 InstallContribNbextensionsApp]\u001b[m - Validating: \u001b[32mOK\u001b[0m\n",
      "\u001b[32m[I 19:36:55 InstallContribNbextensionsApp]\u001b[m Installing /Library/Frameworks/Python.framework/Versions/3.12/lib/python3.12/site-packages/jupyter_contrib_nbextensions/nbextensions/autosavetime -> autosavetime\n",
      "\u001b[32m[I 19:36:55 InstallContribNbextensionsApp]\u001b[m Up to date: /Users/sundar/Library/Jupyter/nbextensions/autosavetime/icon.png\n",
      "\u001b[32m[I 19:36:55 InstallContribNbextensionsApp]\u001b[m Up to date: /Users/sundar/Library/Jupyter/nbextensions/autosavetime/README.md\n",
      "\u001b[32m[I 19:36:55 InstallContribNbextensionsApp]\u001b[m Up to date: /Users/sundar/Library/Jupyter/nbextensions/autosavetime/autosavetime.yaml\n",
      "\u001b[32m[I 19:36:55 InstallContribNbextensionsApp]\u001b[m Up to date: /Users/sundar/Library/Jupyter/nbextensions/autosavetime/main.js\n",
      "\u001b[32m[I 19:36:55 InstallContribNbextensionsApp]\u001b[m - Validating: \u001b[32mOK\u001b[0m\n",
      "\u001b[32m[I 19:36:55 InstallContribNbextensionsApp]\u001b[m Installing /Library/Frameworks/Python.framework/Versions/3.12/lib/python3.12/site-packages/jupyter_contrib_nbextensions/nbextensions/select_keymap -> select_keymap\n",
      "\u001b[32m[I 19:36:55 InstallContribNbextensionsApp]\u001b[m Up to date: /Users/sundar/Library/Jupyter/nbextensions/select_keymap/select_keymap.png\n",
      "\u001b[32m[I 19:36:55 InstallContribNbextensionsApp]\u001b[m Up to date: /Users/sundar/Library/Jupyter/nbextensions/select_keymap/README.md\n",
      "\u001b[32m[I 19:36:55 InstallContribNbextensionsApp]\u001b[m Up to date: /Users/sundar/Library/Jupyter/nbextensions/select_keymap/main.js\n",
      "\u001b[32m[I 19:36:55 InstallContribNbextensionsApp]\u001b[m Up to date: /Users/sundar/Library/Jupyter/nbextensions/select_keymap/select_keymap.yaml\n",
      "\u001b[32m[I 19:36:55 InstallContribNbextensionsApp]\u001b[m - Validating: \u001b[32mOK\u001b[0m\n",
      "\u001b[32m[I 19:36:55 InstallContribNbextensionsApp]\u001b[m Installing /Library/Frameworks/Python.framework/Versions/3.12/lib/python3.12/site-packages/jupyter_contrib_nbextensions/nbextensions/livemdpreview -> livemdpreview\n",
      "\u001b[32m[I 19:36:55 InstallContribNbextensionsApp]\u001b[m Up to date: /Users/sundar/Library/Jupyter/nbextensions/livemdpreview/livemdpreview.yml\n",
      "\u001b[32m[I 19:36:55 InstallContribNbextensionsApp]\u001b[m Up to date: /Users/sundar/Library/Jupyter/nbextensions/livemdpreview/livemdpreview.js\n",
      "\u001b[32m[I 19:36:55 InstallContribNbextensionsApp]\u001b[m - Validating: \u001b[32mOK\u001b[0m\n",
      "\u001b[32m[I 19:36:55 InstallContribNbextensionsApp]\u001b[m Installing /Library/Frameworks/Python.framework/Versions/3.12/lib/python3.12/site-packages/jupyter_contrib_nbextensions/nbextensions/gist_it -> gist_it\n",
      "\u001b[32m[I 19:36:55 InstallContribNbextensionsApp]\u001b[m Up to date: /Users/sundar/Library/Jupyter/nbextensions/gist_it/icon.png\n",
      "\u001b[32m[I 19:36:55 InstallContribNbextensionsApp]\u001b[m Up to date: /Users/sundar/Library/Jupyter/nbextensions/gist_it/gist_it.yaml\n",
      "\u001b[32m[I 19:36:55 InstallContribNbextensionsApp]\u001b[m Up to date: /Users/sundar/Library/Jupyter/nbextensions/gist_it/readme.md\n",
      "\u001b[32m[I 19:36:55 InstallContribNbextensionsApp]\u001b[m Up to date: /Users/sundar/Library/Jupyter/nbextensions/gist_it/main.js\n",
      "\u001b[32m[I 19:36:55 InstallContribNbextensionsApp]\u001b[m - Validating: \u001b[32mOK\u001b[0m\n",
      "\u001b[32m[I 19:36:55 InstallContribNbextensionsApp]\u001b[m Installing /Library/Frameworks/Python.framework/Versions/3.12/lib/python3.12/site-packages/jupyter_contrib_nbextensions/nbextensions/cell_filter -> cell_filter\n",
      "\u001b[32m[I 19:36:55 InstallContribNbextensionsApp]\u001b[m Up to date: /Users/sundar/Library/Jupyter/nbextensions/cell_filter/cell_filter.yml\n",
      "\u001b[32m[I 19:36:55 InstallContribNbextensionsApp]\u001b[m Up to date: /Users/sundar/Library/Jupyter/nbextensions/cell_filter/cell_filter.js\n",
      "\u001b[32m[I 19:36:55 InstallContribNbextensionsApp]\u001b[m Up to date: /Users/sundar/Library/Jupyter/nbextensions/cell_filter/README.md\n",
      "\u001b[32m[I 19:36:55 InstallContribNbextensionsApp]\u001b[m - Validating: \u001b[32mOK\u001b[0m\n",
      "\u001b[32m[I 19:36:55 InstallContribNbextensionsApp]\u001b[m Installing /Library/Frameworks/Python.framework/Versions/3.12/lib/python3.12/site-packages/jupyter_contrib_nbextensions/nbextensions/scratchpad -> scratchpad\n",
      "\u001b[32m[I 19:36:55 InstallContribNbextensionsApp]\u001b[m Up to date: /Users/sundar/Library/Jupyter/nbextensions/scratchpad/LICENSE\n",
      "\u001b[32m[I 19:36:55 InstallContribNbextensionsApp]\u001b[m Up to date: /Users/sundar/Library/Jupyter/nbextensions/scratchpad/scratchpad.yaml\n",
      "\u001b[32m[I 19:36:55 InstallContribNbextensionsApp]\u001b[m Up to date: /Users/sundar/Library/Jupyter/nbextensions/scratchpad/README.md\n",
      "\u001b[32m[I 19:36:55 InstallContribNbextensionsApp]\u001b[m Up to date: /Users/sundar/Library/Jupyter/nbextensions/scratchpad/main.js\n",
      "\u001b[32m[I 19:36:55 InstallContribNbextensionsApp]\u001b[m Up to date: /Users/sundar/Library/Jupyter/nbextensions/scratchpad/scratchpad.css\n",
      "\u001b[32m[I 19:36:55 InstallContribNbextensionsApp]\u001b[m Up to date: /Users/sundar/Library/Jupyter/nbextensions/scratchpad/demo.gif\n",
      "\u001b[32m[I 19:36:55 InstallContribNbextensionsApp]\u001b[m - Validating: \u001b[32mOK\u001b[0m\n",
      "\u001b[32m[I 19:36:55 InstallContribNbextensionsApp]\u001b[m Installing /Library/Frameworks/Python.framework/Versions/3.12/lib/python3.12/site-packages/jupyter_contrib_nbextensions/nbextensions/toc2 -> toc2\n",
      "\u001b[32m[I 19:36:55 InstallContribNbextensionsApp]\u001b[m Up to date: /Users/sundar/Library/Jupyter/nbextensions/toc2/toc2.yaml\n",
      "\u001b[32m[I 19:36:55 InstallContribNbextensionsApp]\u001b[m Up to date: /Users/sundar/Library/Jupyter/nbextensions/toc2/icon.png\n",
      "\u001b[32m[I 19:36:55 InstallContribNbextensionsApp]\u001b[m Up to date: /Users/sundar/Library/Jupyter/nbextensions/toc2/demo_dark.png\n",
      "\u001b[32m[I 19:36:55 InstallContribNbextensionsApp]\u001b[m Up to date: /Users/sundar/Library/Jupyter/nbextensions/toc2/main.css\n",
      "\u001b[32m[I 19:36:55 InstallContribNbextensionsApp]\u001b[m Up to date: /Users/sundar/Library/Jupyter/nbextensions/toc2/README.md\n",
      "\u001b[32m[I 19:36:55 InstallContribNbextensionsApp]\u001b[m Up to date: /Users/sundar/Library/Jupyter/nbextensions/toc2/main.js\n",
      "\u001b[32m[I 19:36:55 InstallContribNbextensionsApp]\u001b[m Up to date: /Users/sundar/Library/Jupyter/nbextensions/toc2/demo3.gif\n",
      "\u001b[32m[I 19:36:55 InstallContribNbextensionsApp]\u001b[m Up to date: /Users/sundar/Library/Jupyter/nbextensions/toc2/demo2.gif\n",
      "\u001b[32m[I 19:36:55 InstallContribNbextensionsApp]\u001b[m Up to date: /Users/sundar/Library/Jupyter/nbextensions/toc2/toc2.js\n",
      "\u001b[32m[I 19:36:55 InstallContribNbextensionsApp]\u001b[m Up to date: /Users/sundar/Library/Jupyter/nbextensions/toc2/demo.gif\n",
      "\u001b[32m[I 19:36:55 InstallContribNbextensionsApp]\u001b[m Up to date: /Users/sundar/Library/Jupyter/nbextensions/toc2/image.png\n",
      "\u001b[32m[I 19:36:55 InstallContribNbextensionsApp]\u001b[m - Validating: \u001b[32mOK\u001b[0m\n",
      "\u001b[32m[I 19:36:55 InstallContribNbextensionsApp]\u001b[m Installing /Library/Frameworks/Python.framework/Versions/3.12/lib/python3.12/site-packages/jupyter_contrib_nbextensions/nbextensions/nbTranslate -> nbTranslate\n",
      "\u001b[32m[I 19:36:55 InstallContribNbextensionsApp]\u001b[m Up to date: /Users/sundar/Library/Jupyter/nbextensions/nbTranslate/nbTranslate.yaml\n",
      "\u001b[32m[I 19:36:55 InstallContribNbextensionsApp]\u001b[m Up to date: /Users/sundar/Library/Jupyter/nbextensions/nbTranslate/nbTranslate.js\n",
      "\u001b[32m[I 19:36:55 InstallContribNbextensionsApp]\u001b[m Up to date: /Users/sundar/Library/Jupyter/nbextensions/nbTranslate/README.md\n",
      "\u001b[32m[I 19:36:55 InstallContribNbextensionsApp]\u001b[m Up to date: /Users/sundar/Library/Jupyter/nbextensions/nbTranslate/main.js\n",
      "\u001b[32m[I 19:36:55 InstallContribNbextensionsApp]\u001b[m Up to date: /Users/sundar/Library/Jupyter/nbextensions/nbTranslate/demo1.gif\n",
      "\u001b[32m[I 19:36:55 InstallContribNbextensionsApp]\u001b[m Up to date: /Users/sundar/Library/Jupyter/nbextensions/nbTranslate/demo2.gif\n",
      "\u001b[32m[I 19:36:55 InstallContribNbextensionsApp]\u001b[m Up to date: /Users/sundar/Library/Jupyter/nbextensions/nbTranslate/languages.js\n",
      "\u001b[32m[I 19:36:55 InstallContribNbextensionsApp]\u001b[m Up to date: /Users/sundar/Library/Jupyter/nbextensions/nbTranslate/mutils.js\n",
      "\u001b[32m[I 19:36:55 InstallContribNbextensionsApp]\u001b[m - Validating: \u001b[32mOK\u001b[0m\n",
      "\u001b[32m[I 19:36:55 InstallContribNbextensionsApp]\u001b[m Installing /Library/Frameworks/Python.framework/Versions/3.12/lib/python3.12/site-packages/jupyter_contrib_nbextensions/nbextensions/equation-numbering -> equation-numbering\n",
      "\u001b[32m[I 19:36:55 InstallContribNbextensionsApp]\u001b[m Up to date: /Users/sundar/Library/Jupyter/nbextensions/equation-numbering/icon.png\n",
      "\u001b[32m[I 19:36:55 InstallContribNbextensionsApp]\u001b[m Up to date: /Users/sundar/Library/Jupyter/nbextensions/equation-numbering/readme.md\n",
      "\u001b[32m[I 19:36:55 InstallContribNbextensionsApp]\u001b[m Up to date: /Users/sundar/Library/Jupyter/nbextensions/equation-numbering/main.js\n",
      "\u001b[32m[I 19:36:55 InstallContribNbextensionsApp]\u001b[m Up to date: /Users/sundar/Library/Jupyter/nbextensions/equation-numbering/info.yaml\n",
      "\u001b[32m[I 19:36:55 InstallContribNbextensionsApp]\u001b[m Up to date: /Users/sundar/Library/Jupyter/nbextensions/equation-numbering/button.png\n",
      "\u001b[32m[I 19:36:55 InstallContribNbextensionsApp]\u001b[m - Validating: \u001b[32mOK\u001b[0m\n",
      "\u001b[32m[I 19:36:55 InstallContribNbextensionsApp]\u001b[m Installing /Library/Frameworks/Python.framework/Versions/3.12/lib/python3.12/site-packages/jupyter_contrib_nbextensions/nbextensions/navigation-hotkeys -> navigation-hotkeys\n",
      "\u001b[32m[I 19:36:55 InstallContribNbextensionsApp]\u001b[m Up to date: /Users/sundar/Library/Jupyter/nbextensions/navigation-hotkeys/icon.png\n",
      "\u001b[32m[I 19:36:55 InstallContribNbextensionsApp]\u001b[m Up to date: /Users/sundar/Library/Jupyter/nbextensions/navigation-hotkeys/readme.md\n",
      "\u001b[32m[I 19:36:55 InstallContribNbextensionsApp]\u001b[m Up to date: /Users/sundar/Library/Jupyter/nbextensions/navigation-hotkeys/main.js\n",
      "\u001b[32m[I 19:36:55 InstallContribNbextensionsApp]\u001b[m Up to date: /Users/sundar/Library/Jupyter/nbextensions/navigation-hotkeys/hotkeys.yaml\n",
      "\u001b[32m[I 19:36:55 InstallContribNbextensionsApp]\u001b[m - Validating: \u001b[32mOK\u001b[0m\n",
      "\u001b[32m[I 19:36:55 InstallContribNbextensionsApp]\u001b[m Installing /Library/Frameworks/Python.framework/Versions/3.12/lib/python3.12/site-packages/jupyter_contrib_nbextensions/nbextensions/snippets_menu -> snippets_menu\n",
      "\u001b[32m[I 19:36:55 InstallContribNbextensionsApp]\u001b[m Up to date: /Users/sundar/Library/Jupyter/nbextensions/snippets_menu/snippets_menu.css\n",
      "\u001b[32m[I 19:36:55 InstallContribNbextensionsApp]\u001b[m Up to date: /Users/sundar/Library/Jupyter/nbextensions/snippets_menu/snippets_submenu_python.js\n",
      "\u001b[32m[I 19:36:55 InstallContribNbextensionsApp]\u001b[m Up to date: /Users/sundar/Library/Jupyter/nbextensions/snippets_menu/config.yaml\n",
      "\u001b[32m[I 19:36:55 InstallContribNbextensionsApp]\u001b[m Up to date: /Users/sundar/Library/Jupyter/nbextensions/snippets_menu/readme.md\n",
      "\u001b[32m[I 19:36:55 InstallContribNbextensionsApp]\u001b[m Up to date: /Users/sundar/Library/Jupyter/nbextensions/snippets_menu/main.js\n",
      "\u001b[32m[I 19:36:55 InstallContribNbextensionsApp]\u001b[m Up to date: /Users/sundar/Library/Jupyter/nbextensions/snippets_menu/snippets_submenu_markdown.js\n",
      "\u001b[32m[I 19:36:55 InstallContribNbextensionsApp]\u001b[m Up to date: /Users/sundar/Library/Jupyter/nbextensions/snippets_menu/thumbnail.png\n",
      "\u001b[32m[I 19:36:55 InstallContribNbextensionsApp]\u001b[m Up to date: /Users/sundar/Library/Jupyter/nbextensions/snippets_menu/screenshot1.png\n",
      "\u001b[32m[I 19:36:55 InstallContribNbextensionsApp]\u001b[m Up to date: /Users/sundar/Library/Jupyter/nbextensions/snippets_menu/screenshot2.png\n",
      "\u001b[32m[I 19:36:55 InstallContribNbextensionsApp]\u001b[m Up to date: /Users/sundar/Library/Jupyter/nbextensions/snippets_menu/screenshot3.png\n",
      "\u001b[32m[I 19:36:55 InstallContribNbextensionsApp]\u001b[m Up to date: /Users/sundar/Library/Jupyter/nbextensions/snippets_menu/examples_for_custom.js\n",
      "\u001b[32m[I 19:36:55 InstallContribNbextensionsApp]\u001b[m Up to date: /Users/sundar/Library/Jupyter/nbextensions/snippets_menu/snippets_submenus_python/numpy_ufuncs.js\n",
      "\u001b[32m[I 19:36:55 InstallContribNbextensionsApp]\u001b[m Up to date: /Users/sundar/Library/Jupyter/nbextensions/snippets_menu/snippets_submenus_python/numba.js\n",
      "\u001b[32m[I 19:36:55 InstallContribNbextensionsApp]\u001b[m Up to date: /Users/sundar/Library/Jupyter/nbextensions/snippets_menu/snippets_submenus_python/sympy_assumptions.js\n",
      "\u001b[32m[I 19:36:55 InstallContribNbextensionsApp]\u001b[m Up to date: /Users/sundar/Library/Jupyter/nbextensions/snippets_menu/snippets_submenus_python/sympy.js\n",
      "\u001b[32m[I 19:36:55 InstallContribNbextensionsApp]\u001b[m Up to date: /Users/sundar/Library/Jupyter/nbextensions/snippets_menu/snippets_submenus_python/numpy.js\n",
      "\u001b[32m[I 19:36:55 InstallContribNbextensionsApp]\u001b[m Up to date: /Users/sundar/Library/Jupyter/nbextensions/snippets_menu/snippets_submenus_python/astropy.js\n",
      "\u001b[32m[I 19:36:55 InstallContribNbextensionsApp]\u001b[m Up to date: /Users/sundar/Library/Jupyter/nbextensions/snippets_menu/snippets_submenus_python/pandas.js\n",
      "\u001b[32m[I 19:36:55 InstallContribNbextensionsApp]\u001b[m Up to date: /Users/sundar/Library/Jupyter/nbextensions/snippets_menu/snippets_submenus_python/numpy_polynomial.js\n",
      "\u001b[32m[I 19:36:55 InstallContribNbextensionsApp]\u001b[m Up to date: /Users/sundar/Library/Jupyter/nbextensions/snippets_menu/snippets_submenus_python/scipy_constants.js\n",
      "\u001b[32m[I 19:36:55 InstallContribNbextensionsApp]\u001b[m Up to date: /Users/sundar/Library/Jupyter/nbextensions/snippets_menu/snippets_submenus_python/matplotlib.js\n",
      "\u001b[32m[I 19:36:55 InstallContribNbextensionsApp]\u001b[m Up to date: /Users/sundar/Library/Jupyter/nbextensions/snippets_menu/snippets_submenus_python/sympy_functions.js\n",
      "\u001b[32m[I 19:36:55 InstallContribNbextensionsApp]\u001b[m Up to date: /Users/sundar/Library/Jupyter/nbextensions/snippets_menu/snippets_submenus_python/h5py.js\n",
      "\u001b[32m[I 19:36:55 InstallContribNbextensionsApp]\u001b[m Up to date: /Users/sundar/Library/Jupyter/nbextensions/snippets_menu/snippets_submenus_python/scipy_special.js\n",
      "\u001b[32m[I 19:36:55 InstallContribNbextensionsApp]\u001b[m Up to date: /Users/sundar/Library/Jupyter/nbextensions/snippets_menu/snippets_submenus_python/python_regex.js\n",
      "\u001b[32m[I 19:36:55 InstallContribNbextensionsApp]\u001b[m Up to date: /Users/sundar/Library/Jupyter/nbextensions/snippets_menu/snippets_submenus_python/python.js\n",
      "\u001b[32m[I 19:36:55 InstallContribNbextensionsApp]\u001b[m Up to date: /Users/sundar/Library/Jupyter/nbextensions/snippets_menu/snippets_submenus_python/scipy.js\n",
      "\u001b[32m[I 19:36:55 InstallContribNbextensionsApp]\u001b[m - Validating: \u001b[32mOK\u001b[0m\n",
      "\u001b[32m[I 19:36:55 InstallContribNbextensionsApp]\u001b[m Installing /Library/Frameworks/Python.framework/Versions/3.12/lib/python3.12/site-packages/jupyter_contrib_nbextensions/nbextensions/printview -> printview\n",
      "\u001b[32m[I 19:36:55 InstallContribNbextensionsApp]\u001b[m Up to date: /Users/sundar/Library/Jupyter/nbextensions/printview/icon.png\n",
      "\u001b[32m[I 19:36:55 InstallContribNbextensionsApp]\u001b[m Up to date: /Users/sundar/Library/Jupyter/nbextensions/printview/printview-button.png\n",
      "\u001b[32m[I 19:36:55 InstallContribNbextensionsApp]\u001b[m Up to date: /Users/sundar/Library/Jupyter/nbextensions/printview/readme.md\n",
      "\u001b[32m[I 19:36:55 InstallContribNbextensionsApp]\u001b[m Up to date: /Users/sundar/Library/Jupyter/nbextensions/printview/main.js\n",
      "\u001b[32m[I 19:36:55 InstallContribNbextensionsApp]\u001b[m Up to date: /Users/sundar/Library/Jupyter/nbextensions/printview/printview.yaml\n",
      "\u001b[32m[I 19:36:55 InstallContribNbextensionsApp]\u001b[m - Validating: \u001b[32mOK\u001b[0m\n",
      "\u001b[32m[I 19:36:55 InstallContribNbextensionsApp]\u001b[m Installing /Library/Frameworks/Python.framework/Versions/3.12/lib/python3.12/site-packages/jupyter_contrib_nbextensions/nbextensions/export_embedded -> export_embedded\n",
      "\u001b[32m[I 19:36:55 InstallContribNbextensionsApp]\u001b[m Up to date: /Users/sundar/Library/Jupyter/nbextensions/export_embedded/export_embedded.yaml\n",
      "\u001b[32m[I 19:36:55 InstallContribNbextensionsApp]\u001b[m Up to date: /Users/sundar/Library/Jupyter/nbextensions/export_embedded/icon.png\n",
      "\u001b[32m[I 19:36:55 InstallContribNbextensionsApp]\u001b[m Up to date: /Users/sundar/Library/Jupyter/nbextensions/export_embedded/readme.md\n",
      "\u001b[32m[I 19:36:55 InstallContribNbextensionsApp]\u001b[m Up to date: /Users/sundar/Library/Jupyter/nbextensions/export_embedded/main.js\n",
      "\u001b[32m[I 19:36:55 InstallContribNbextensionsApp]\u001b[m - Validating: \u001b[32mOK\u001b[0m\n",
      "\u001b[32m[I 19:36:55 InstallContribNbextensionsApp]\u001b[m Installing /Library/Frameworks/Python.framework/Versions/3.12/lib/python3.12/site-packages/jupyter_contrib_nbextensions/nbextensions/autoscroll -> autoscroll\n",
      "\u001b[32m[I 19:36:55 InstallContribNbextensionsApp]\u001b[m Up to date: /Users/sundar/Library/Jupyter/nbextensions/autoscroll/icon.png\n",
      "\u001b[32m[I 19:36:55 InstallContribNbextensionsApp]\u001b[m Up to date: /Users/sundar/Library/Jupyter/nbextensions/autoscroll/autoscroll.yaml\n",
      "\u001b[32m[I 19:36:55 InstallContribNbextensionsApp]\u001b[m Up to date: /Users/sundar/Library/Jupyter/nbextensions/autoscroll/README.md\n",
      "\u001b[32m[I 19:36:55 InstallContribNbextensionsApp]\u001b[m Up to date: /Users/sundar/Library/Jupyter/nbextensions/autoscroll/main.js\n",
      "\u001b[32m[I 19:36:55 InstallContribNbextensionsApp]\u001b[m - Validating: \u001b[32mOK\u001b[0m\n",
      "\u001b[32m[I 19:36:55 InstallContribNbextensionsApp]\u001b[m Installing /Library/Frameworks/Python.framework/Versions/3.12/lib/python3.12/site-packages/jupyter_contrib_nbextensions/nbextensions/hide_input -> hide_input\n",
      "\u001b[32m[I 19:36:55 InstallContribNbextensionsApp]\u001b[m Up to date: /Users/sundar/Library/Jupyter/nbextensions/hide_input/icon.png\n",
      "\u001b[32m[I 19:36:55 InstallContribNbextensionsApp]\u001b[m Up to date: /Users/sundar/Library/Jupyter/nbextensions/hide_input/readme.md\n",
      "\u001b[32m[I 19:36:55 InstallContribNbextensionsApp]\u001b[m Up to date: /Users/sundar/Library/Jupyter/nbextensions/hide_input/main.js\n",
      "\u001b[32m[I 19:36:55 InstallContribNbextensionsApp]\u001b[m Up to date: /Users/sundar/Library/Jupyter/nbextensions/hide_input/hide-input.yaml\n",
      "\u001b[32m[I 19:36:55 InstallContribNbextensionsApp]\u001b[m - Validating: \u001b[32mOK\u001b[0m\n",
      "\u001b[32m[I 19:36:55 InstallContribNbextensionsApp]\u001b[m Installing /Library/Frameworks/Python.framework/Versions/3.12/lib/python3.12/site-packages/jupyter_contrib_nbextensions/nbextensions/hide_input_all -> hide_input_all\n",
      "\u001b[32m[I 19:36:55 InstallContribNbextensionsApp]\u001b[m Up to date: /Users/sundar/Library/Jupyter/nbextensions/hide_input_all/icon.png\n",
      "\u001b[32m[I 19:36:55 InstallContribNbextensionsApp]\u001b[m Up to date: /Users/sundar/Library/Jupyter/nbextensions/hide_input_all/hide_input_all.yaml\n",
      "\u001b[32m[I 19:36:55 InstallContribNbextensionsApp]\u001b[m Up to date: /Users/sundar/Library/Jupyter/nbextensions/hide_input_all/hide_input_all_show.png\n",
      "\u001b[32m[I 19:36:55 InstallContribNbextensionsApp]\u001b[m Up to date: /Users/sundar/Library/Jupyter/nbextensions/hide_input_all/readme.md\n",
      "\u001b[32m[I 19:36:55 InstallContribNbextensionsApp]\u001b[m Up to date: /Users/sundar/Library/Jupyter/nbextensions/hide_input_all/main.js\n",
      "\u001b[32m[I 19:36:55 InstallContribNbextensionsApp]\u001b[m Up to date: /Users/sundar/Library/Jupyter/nbextensions/hide_input_all/hide_input_all_hide.png\n",
      "\u001b[32m[I 19:36:55 InstallContribNbextensionsApp]\u001b[m - Validating: \u001b[32mOK\u001b[0m\n",
      "\u001b[32m[I 19:36:55 InstallContribNbextensionsApp]\u001b[m Installing /Library/Frameworks/Python.framework/Versions/3.12/lib/python3.12/site-packages/jupyter_contrib_nbextensions/nbextensions/keyboard_shortcut_editor -> keyboard_shortcut_editor\n",
      "\u001b[32m[I 19:36:55 InstallContribNbextensionsApp]\u001b[m Up to date: /Users/sundar/Library/Jupyter/nbextensions/keyboard_shortcut_editor/keyboard_shortcut_editor.yaml\n",
      "\u001b[32m[I 19:36:55 InstallContribNbextensionsApp]\u001b[m Up to date: /Users/sundar/Library/Jupyter/nbextensions/keyboard_shortcut_editor/icon.png\n",
      "\u001b[32m[I 19:36:55 InstallContribNbextensionsApp]\u001b[m Up to date: /Users/sundar/Library/Jupyter/nbextensions/keyboard_shortcut_editor/readme_comma.png\n",
      "\u001b[32m[I 19:36:55 InstallContribNbextensionsApp]\u001b[m Up to date: /Users/sundar/Library/Jupyter/nbextensions/keyboard_shortcut_editor/readme_shortcut_editor_blank.png\n",
      "\u001b[32m[I 19:36:55 InstallContribNbextensionsApp]\u001b[m Up to date: /Users/sundar/Library/Jupyter/nbextensions/keyboard_shortcut_editor/readme_shortcut_editor_success.png\n",
      "\u001b[32m[I 19:36:55 InstallContribNbextensionsApp]\u001b[m Up to date: /Users/sundar/Library/Jupyter/nbextensions/keyboard_shortcut_editor/main.css\n",
      "\u001b[32m[I 19:36:55 InstallContribNbextensionsApp]\u001b[m Up to date: /Users/sundar/Library/Jupyter/nbextensions/keyboard_shortcut_editor/README.md\n",
      "\u001b[32m[I 19:36:55 InstallContribNbextensionsApp]\u001b[m Up to date: /Users/sundar/Library/Jupyter/nbextensions/keyboard_shortcut_editor/readme_reset_disabled.png\n",
      "\u001b[32m[I 19:36:55 InstallContribNbextensionsApp]\u001b[m Up to date: /Users/sundar/Library/Jupyter/nbextensions/keyboard_shortcut_editor/readme_add_new_link.png\n",
      "\u001b[32m[I 19:36:55 InstallContribNbextensionsApp]\u001b[m Up to date: /Users/sundar/Library/Jupyter/nbextensions/keyboard_shortcut_editor/main.js\n",
      "\u001b[32m[I 19:36:55 InstallContribNbextensionsApp]\u001b[m Up to date: /Users/sundar/Library/Jupyter/nbextensions/keyboard_shortcut_editor/readme_dropdown.png\n",
      "\u001b[32m[I 19:36:55 InstallContribNbextensionsApp]\u001b[m Up to date: /Users/sundar/Library/Jupyter/nbextensions/keyboard_shortcut_editor/quickhelp_shim.js\n",
      "\u001b[32m[I 19:36:55 InstallContribNbextensionsApp]\u001b[m Up to date: /Users/sundar/Library/Jupyter/nbextensions/keyboard_shortcut_editor/readme_add_new_select_action.png\n",
      "\u001b[32m[I 19:36:55 InstallContribNbextensionsApp]\u001b[m Up to date: /Users/sundar/Library/Jupyter/nbextensions/keyboard_shortcut_editor/kse_components.js\n",
      "\u001b[32m[I 19:36:55 InstallContribNbextensionsApp]\u001b[m Up to date: /Users/sundar/Library/Jupyter/nbextensions/keyboard_shortcut_editor/readme_undefined_key.png\n",
      "\u001b[32m[I 19:36:55 InstallContribNbextensionsApp]\u001b[m Up to date: /Users/sundar/Library/Jupyter/nbextensions/keyboard_shortcut_editor/readme_conflict.png\n",
      "\u001b[32m[I 19:36:55 InstallContribNbextensionsApp]\u001b[m Up to date: /Users/sundar/Library/Jupyter/nbextensions/keyboard_shortcut_editor/readme_menu_item.png\n",
      "\u001b[32m[I 19:36:55 InstallContribNbextensionsApp]\u001b[m - Validating: \u001b[32mOK\u001b[0m\n",
      "\u001b[32m[I 19:36:55 InstallContribNbextensionsApp]\u001b[m Installing /Library/Frameworks/Python.framework/Versions/3.12/lib/python3.12/site-packages/jupyter_contrib_nbextensions/nbextensions/help_panel -> help_panel\n",
      "\u001b[32m[I 19:36:55 InstallContribNbextensionsApp]\u001b[m Up to date: /Users/sundar/Library/Jupyter/nbextensions/help_panel/icon.png\n",
      "\u001b[32m[I 19:36:55 InstallContribNbextensionsApp]\u001b[m Up to date: /Users/sundar/Library/Jupyter/nbextensions/help_panel/help_panel_ext.png\n",
      "\u001b[32m[I 19:36:55 InstallContribNbextensionsApp]\u001b[m Up to date: /Users/sundar/Library/Jupyter/nbextensions/help_panel/readme.md\n",
      "\u001b[32m[I 19:36:55 InstallContribNbextensionsApp]\u001b[m Up to date: /Users/sundar/Library/Jupyter/nbextensions/help_panel/help_panel_ext_fullscreen.png\n",
      "\u001b[32m[I 19:36:55 InstallContribNbextensionsApp]\u001b[m Up to date: /Users/sundar/Library/Jupyter/nbextensions/help_panel/help_panel.yaml\n",
      "\u001b[32m[I 19:36:55 InstallContribNbextensionsApp]\u001b[m Up to date: /Users/sundar/Library/Jupyter/nbextensions/help_panel/help_panel.css\n",
      "\u001b[32m[I 19:36:55 InstallContribNbextensionsApp]\u001b[m Up to date: /Users/sundar/Library/Jupyter/nbextensions/help_panel/help_panel.js\n",
      "\u001b[32m[I 19:36:55 InstallContribNbextensionsApp]\u001b[m Up to date: /Users/sundar/Library/Jupyter/nbextensions/help_panel/img/handle-v.png\n",
      "\u001b[32m[I 19:36:55 InstallContribNbextensionsApp]\u001b[m - Validating: \u001b[32mOK\u001b[0m\n",
      "\u001b[32m[I 19:36:55 InstallContribNbextensionsApp]\u001b[m Installing /Library/Frameworks/Python.framework/Versions/3.12/lib/python3.12/site-packages/jupyter_contrib_nbextensions/nbextensions/move_selected_cells -> move_selected_cells\n",
      "\u001b[32m[I 19:36:55 InstallContribNbextensionsApp]\u001b[m Up to date: /Users/sundar/Library/Jupyter/nbextensions/move_selected_cells/README.md\n",
      "\u001b[32m[I 19:36:55 InstallContribNbextensionsApp]\u001b[m Up to date: /Users/sundar/Library/Jupyter/nbextensions/move_selected_cells/main.js\n",
      "\u001b[32m[I 19:36:55 InstallContribNbextensionsApp]\u001b[m Up to date: /Users/sundar/Library/Jupyter/nbextensions/move_selected_cells/move_selected_cells.yaml\n",
      "\u001b[32m[I 19:36:55 InstallContribNbextensionsApp]\u001b[m - Validating: \u001b[32mOK\u001b[0m\n",
      "\u001b[32m[I 19:36:55 InstallContribNbextensionsApp]\u001b[m Installing /Library/Frameworks/Python.framework/Versions/3.12/lib/python3.12/site-packages/jupyter_contrib_nbextensions/nbextensions/zenmode -> zenmode\n",
      "\u001b[32m[I 19:36:55 InstallContribNbextensionsApp]\u001b[m Up to date: /Users/sundar/Library/Jupyter/nbextensions/zenmode/main.css\n",
      "\u001b[32m[I 19:36:55 InstallContribNbextensionsApp]\u001b[m Up to date: /Users/sundar/Library/Jupyter/nbextensions/zenmode/README.md\n",
      "\u001b[32m[I 19:36:55 InstallContribNbextensionsApp]\u001b[m Up to date: /Users/sundar/Library/Jupyter/nbextensions/zenmode/main.js\n",
      "\u001b[32m[I 19:36:55 InstallContribNbextensionsApp]\u001b[m Up to date: /Users/sundar/Library/Jupyter/nbextensions/zenmode/zenmode.yaml\n",
      "\u001b[32m[I 19:36:55 InstallContribNbextensionsApp]\u001b[m Up to date: /Users/sundar/Library/Jupyter/nbextensions/zenmode/images/back12.jpg\n",
      "\u001b[32m[I 19:36:55 InstallContribNbextensionsApp]\u001b[m Up to date: /Users/sundar/Library/Jupyter/nbextensions/zenmode/images/back11.jpg\n",
      "\u001b[32m[I 19:36:55 InstallContribNbextensionsApp]\u001b[m Up to date: /Users/sundar/Library/Jupyter/nbextensions/zenmode/images/back2.jpg\n",
      "\u001b[32m[I 19:36:55 InstallContribNbextensionsApp]\u001b[m Up to date: /Users/sundar/Library/Jupyter/nbextensions/zenmode/images/back3.jpg\n",
      "\u001b[32m[I 19:36:55 InstallContribNbextensionsApp]\u001b[m Up to date: /Users/sundar/Library/Jupyter/nbextensions/zenmode/images/back1.jpg\n",
      "\u001b[32m[I 19:36:55 InstallContribNbextensionsApp]\u001b[m Up to date: /Users/sundar/Library/Jupyter/nbextensions/zenmode/images/ipynblogo1.png\n",
      "\u001b[32m[I 19:36:55 InstallContribNbextensionsApp]\u001b[m Up to date: /Users/sundar/Library/Jupyter/nbextensions/zenmode/images/ipynblogo0.png\n",
      "\u001b[32m[I 19:36:55 InstallContribNbextensionsApp]\u001b[m Up to date: /Users/sundar/Library/Jupyter/nbextensions/zenmode/images/back21.jpg\n",
      "\u001b[32m[I 19:36:55 InstallContribNbextensionsApp]\u001b[m Up to date: /Users/sundar/Library/Jupyter/nbextensions/zenmode/images/back22.jpg\n",
      "\u001b[32m[I 19:36:55 InstallContribNbextensionsApp]\u001b[m - Validating: \u001b[32mOK\u001b[0m\n",
      "\u001b[32m[I 19:36:55 InstallContribNbextensionsApp]\u001b[m Installing /Library/Frameworks/Python.framework/Versions/3.12/lib/python3.12/site-packages/jupyter_contrib_nbextensions/nbextensions/skip-traceback -> skip-traceback\n",
      "\u001b[32m[I 19:36:55 InstallContribNbextensionsApp]\u001b[m Up to date: /Users/sundar/Library/Jupyter/nbextensions/skip-traceback/icon.png\n",
      "\u001b[32m[I 19:36:55 InstallContribNbextensionsApp]\u001b[m Up to date: /Users/sundar/Library/Jupyter/nbextensions/skip-traceback/traceback.png\n",
      "\u001b[32m[I 19:36:55 InstallContribNbextensionsApp]\u001b[m Up to date: /Users/sundar/Library/Jupyter/nbextensions/skip-traceback/readme.md\n",
      "\u001b[32m[I 19:36:55 InstallContribNbextensionsApp]\u001b[m Up to date: /Users/sundar/Library/Jupyter/nbextensions/skip-traceback/main.js\n",
      "\u001b[32m[I 19:36:55 InstallContribNbextensionsApp]\u001b[m Up to date: /Users/sundar/Library/Jupyter/nbextensions/skip-traceback/skip-traceback.yaml\n",
      "\u001b[32m[I 19:36:55 InstallContribNbextensionsApp]\u001b[m Up to date: /Users/sundar/Library/Jupyter/nbextensions/skip-traceback/skip-traceback.png\n",
      "\u001b[32m[I 19:36:55 InstallContribNbextensionsApp]\u001b[m - Validating: \u001b[32mOK\u001b[0m\n",
      "\u001b[32m[I 19:36:55 InstallContribNbextensionsApp]\u001b[m Installing /Library/Frameworks/Python.framework/Versions/3.12/lib/python3.12/site-packages/jupyter_contrib_nbextensions/nbextensions/python-markdown -> python-markdown\n",
      "\u001b[32m[I 19:36:55 InstallContribNbextensionsApp]\u001b[m Up to date: /Users/sundar/Library/Jupyter/nbextensions/python-markdown/untrusted.png\n",
      "\u001b[32m[I 19:36:55 InstallContribNbextensionsApp]\u001b[m Up to date: /Users/sundar/Library/Jupyter/nbextensions/python-markdown/python-markdown-pre.png\n",
      "\u001b[32m[I 19:36:55 InstallContribNbextensionsApp]\u001b[m Up to date: /Users/sundar/Library/Jupyter/nbextensions/python-markdown/main.css\n",
      "\u001b[32m[I 19:36:55 InstallContribNbextensionsApp]\u001b[m Up to date: /Users/sundar/Library/Jupyter/nbextensions/python-markdown/readme.md\n",
      "\u001b[32m[I 19:36:55 InstallContribNbextensionsApp]\u001b[m Up to date: /Users/sundar/Library/Jupyter/nbextensions/python-markdown/main.js\n",
      "\u001b[32m[I 19:36:55 InstallContribNbextensionsApp]\u001b[m Up to date: /Users/sundar/Library/Jupyter/nbextensions/python-markdown/python-markdown.png\n",
      "\u001b[32m[I 19:36:55 InstallContribNbextensionsApp]\u001b[m Up to date: /Users/sundar/Library/Jupyter/nbextensions/python-markdown/trusted.png\n",
      "\u001b[32m[I 19:36:55 InstallContribNbextensionsApp]\u001b[m Up to date: /Users/sundar/Library/Jupyter/nbextensions/python-markdown/python-markdown.yaml\n",
      "\u001b[32m[I 19:36:55 InstallContribNbextensionsApp]\u001b[m Up to date: /Users/sundar/Library/Jupyter/nbextensions/python-markdown/python-markdown-post.png\n",
      "\u001b[32m[I 19:36:55 InstallContribNbextensionsApp]\u001b[m - Validating: \u001b[32mOK\u001b[0m\n",
      "\u001b[32m[I 19:36:55 InstallContribNbextensionsApp]\u001b[m Installing /Library/Frameworks/Python.framework/Versions/3.12/lib/python3.12/site-packages/jupyter_contrib_nbextensions/nbextensions/codefolding -> codefolding\n",
      "\u001b[32m[I 19:36:55 InstallContribNbextensionsApp]\u001b[m Up to date: /Users/sundar/Library/Jupyter/nbextensions/codefolding/codefolding_editor.yaml\n",
      "\u001b[32m[I 19:36:55 InstallContribNbextensionsApp]\u001b[m Up to date: /Users/sundar/Library/Jupyter/nbextensions/codefolding/icon.png\n",
      "\u001b[32m[I 19:36:55 InstallContribNbextensionsApp]\u001b[m Up to date: /Users/sundar/Library/Jupyter/nbextensions/codefolding/codefolding_firstline_folded.png\n",
      "\u001b[32m[I 19:36:55 InstallContribNbextensionsApp]\u001b[m Up to date: /Users/sundar/Library/Jupyter/nbextensions/codefolding/codefolding_indent_folded_2.png\n",
      "\u001b[32m[I 19:36:55 InstallContribNbextensionsApp]\u001b[m Up to date: /Users/sundar/Library/Jupyter/nbextensions/codefolding/codefolding_indent_folded_1.png\n",
      "\u001b[32m[I 19:36:55 InstallContribNbextensionsApp]\u001b[m Up to date: /Users/sundar/Library/Jupyter/nbextensions/codefolding/edit.js\n",
      "\u001b[32m[I 19:36:55 InstallContribNbextensionsApp]\u001b[m Up to date: /Users/sundar/Library/Jupyter/nbextensions/codefolding/magic-fold.js\n",
      "\u001b[32m[I 19:36:55 InstallContribNbextensionsApp]\u001b[m Up to date: /Users/sundar/Library/Jupyter/nbextensions/codefolding/firstline-fold.js\n",
      "\u001b[32m[I 19:36:55 InstallContribNbextensionsApp]\u001b[m Up to date: /Users/sundar/Library/Jupyter/nbextensions/codefolding/codefolding_firstline_unfolded.png\n",
      "\u001b[32m[I 19:36:55 InstallContribNbextensionsApp]\u001b[m Up to date: /Users/sundar/Library/Jupyter/nbextensions/codefolding/readme.md\n",
      "\u001b[32m[I 19:36:55 InstallContribNbextensionsApp]\u001b[m Up to date: /Users/sundar/Library/Jupyter/nbextensions/codefolding/main.js\n",
      "\u001b[32m[I 19:36:55 InstallContribNbextensionsApp]\u001b[m Up to date: /Users/sundar/Library/Jupyter/nbextensions/codefolding/magic-unfolded.png\n",
      "\u001b[32m[I 19:36:55 InstallContribNbextensionsApp]\u001b[m Up to date: /Users/sundar/Library/Jupyter/nbextensions/codefolding/foldgutter.css\n",
      "\u001b[32m[I 19:36:55 InstallContribNbextensionsApp]\u001b[m Up to date: /Users/sundar/Library/Jupyter/nbextensions/codefolding/magic-folded.png\n",
      "\u001b[32m[I 19:36:55 InstallContribNbextensionsApp]\u001b[m Up to date: /Users/sundar/Library/Jupyter/nbextensions/codefolding/codefolding.yaml\n",
      "\u001b[32m[I 19:36:55 InstallContribNbextensionsApp]\u001b[m Up to date: /Users/sundar/Library/Jupyter/nbextensions/codefolding/codefolding_editor.png\n",
      "\u001b[32m[I 19:36:55 InstallContribNbextensionsApp]\u001b[m Up to date: /Users/sundar/Library/Jupyter/nbextensions/codefolding/codefolding_indent_unfolded.png\n",
      "\u001b[32m[I 19:36:55 InstallContribNbextensionsApp]\u001b[m Up to date: /Users/sundar/Library/Jupyter/nbextensions/codefolding/blockcomment-fold.js\n",
      "\u001b[32m[I 19:36:55 InstallContribNbextensionsApp]\u001b[m - Validating: \u001b[32mOK\u001b[0m\n",
      "\u001b[32m[I 19:36:55 InstallContribNbextensionsApp]\u001b[m Installing /Library/Frameworks/Python.framework/Versions/3.12/lib/python3.12/site-packages/jupyter_contrib_nbextensions/nbextensions/codefolding -> codefolding\n",
      "\u001b[32m[I 19:36:55 InstallContribNbextensionsApp]\u001b[m Up to date: /Users/sundar/Library/Jupyter/nbextensions/codefolding/codefolding_editor.yaml\n",
      "\u001b[32m[I 19:36:55 InstallContribNbextensionsApp]\u001b[m Up to date: /Users/sundar/Library/Jupyter/nbextensions/codefolding/icon.png\n",
      "\u001b[32m[I 19:36:55 InstallContribNbextensionsApp]\u001b[m Up to date: /Users/sundar/Library/Jupyter/nbextensions/codefolding/codefolding_firstline_folded.png\n",
      "\u001b[32m[I 19:36:55 InstallContribNbextensionsApp]\u001b[m Up to date: /Users/sundar/Library/Jupyter/nbextensions/codefolding/codefolding_indent_folded_2.png\n",
      "\u001b[32m[I 19:36:55 InstallContribNbextensionsApp]\u001b[m Up to date: /Users/sundar/Library/Jupyter/nbextensions/codefolding/codefolding_indent_folded_1.png\n",
      "\u001b[32m[I 19:36:55 InstallContribNbextensionsApp]\u001b[m Up to date: /Users/sundar/Library/Jupyter/nbextensions/codefolding/edit.js\n",
      "\u001b[32m[I 19:36:55 InstallContribNbextensionsApp]\u001b[m Up to date: /Users/sundar/Library/Jupyter/nbextensions/codefolding/magic-fold.js\n",
      "\u001b[32m[I 19:36:55 InstallContribNbextensionsApp]\u001b[m Up to date: /Users/sundar/Library/Jupyter/nbextensions/codefolding/firstline-fold.js\n",
      "\u001b[32m[I 19:36:55 InstallContribNbextensionsApp]\u001b[m Up to date: /Users/sundar/Library/Jupyter/nbextensions/codefolding/codefolding_firstline_unfolded.png\n",
      "\u001b[32m[I 19:36:55 InstallContribNbextensionsApp]\u001b[m Up to date: /Users/sundar/Library/Jupyter/nbextensions/codefolding/readme.md\n",
      "\u001b[32m[I 19:36:55 InstallContribNbextensionsApp]\u001b[m Up to date: /Users/sundar/Library/Jupyter/nbextensions/codefolding/main.js\n",
      "\u001b[32m[I 19:36:55 InstallContribNbextensionsApp]\u001b[m Up to date: /Users/sundar/Library/Jupyter/nbextensions/codefolding/magic-unfolded.png\n",
      "\u001b[32m[I 19:36:55 InstallContribNbextensionsApp]\u001b[m Up to date: /Users/sundar/Library/Jupyter/nbextensions/codefolding/foldgutter.css\n",
      "\u001b[32m[I 19:36:55 InstallContribNbextensionsApp]\u001b[m Up to date: /Users/sundar/Library/Jupyter/nbextensions/codefolding/magic-folded.png\n",
      "\u001b[32m[I 19:36:55 InstallContribNbextensionsApp]\u001b[m Up to date: /Users/sundar/Library/Jupyter/nbextensions/codefolding/codefolding.yaml\n",
      "\u001b[32m[I 19:36:55 InstallContribNbextensionsApp]\u001b[m Up to date: /Users/sundar/Library/Jupyter/nbextensions/codefolding/codefolding_editor.png\n",
      "\u001b[32m[I 19:36:55 InstallContribNbextensionsApp]\u001b[m Up to date: /Users/sundar/Library/Jupyter/nbextensions/codefolding/codefolding_indent_unfolded.png\n",
      "\u001b[32m[I 19:36:55 InstallContribNbextensionsApp]\u001b[m Up to date: /Users/sundar/Library/Jupyter/nbextensions/codefolding/blockcomment-fold.js\n",
      "\u001b[32m[I 19:36:55 InstallContribNbextensionsApp]\u001b[m - Validating: \u001b[32mOK\u001b[0m\n",
      "\u001b[32m[I 19:36:55 InstallContribNbextensionsApp]\u001b[m Installing /Library/Frameworks/Python.framework/Versions/3.12/lib/python3.12/site-packages/jupyter_contrib_nbextensions/nbextensions/collapsible_headings -> collapsible_headings\n",
      "\u001b[32m[I 19:36:55 InstallContribNbextensionsApp]\u001b[m Up to date: /Users/sundar/Library/Jupyter/nbextensions/collapsible_headings/icon.png\n",
      "\u001b[32m[I 19:36:55 InstallContribNbextensionsApp]\u001b[m Up to date: /Users/sundar/Library/Jupyter/nbextensions/collapsible_headings/screenshot.png\n",
      "\u001b[32m[I 19:36:55 InstallContribNbextensionsApp]\u001b[m Up to date: /Users/sundar/Library/Jupyter/nbextensions/collapsible_headings/main.css\n",
      "\u001b[32m[I 19:36:55 InstallContribNbextensionsApp]\u001b[m Up to date: /Users/sundar/Library/Jupyter/nbextensions/collapsible_headings/readme.md\n",
      "\u001b[32m[I 19:36:55 InstallContribNbextensionsApp]\u001b[m Up to date: /Users/sundar/Library/Jupyter/nbextensions/collapsible_headings/main.js\n",
      "\u001b[32m[I 19:36:55 InstallContribNbextensionsApp]\u001b[m Up to date: /Users/sundar/Library/Jupyter/nbextensions/collapsible_headings/collapsible_headings.yaml\n",
      "\u001b[32m[I 19:36:55 InstallContribNbextensionsApp]\u001b[m - Validating: \u001b[32mOK\u001b[0m\n",
      "\u001b[32m[I 19:36:55 InstallContribNbextensionsApp]\u001b[m Installing /Library/Frameworks/Python.framework/Versions/3.12/lib/python3.12/site-packages/jupyter_contrib_nbextensions/nbextensions/exercise -> exercise\n",
      "\u001b[32m[I 19:36:55 InstallContribNbextensionsApp]\u001b[m Up to date: /Users/sundar/Library/Jupyter/nbextensions/exercise/icon.png\n",
      "\u001b[32m[I 19:36:55 InstallContribNbextensionsApp]\u001b[m Up to date: /Users/sundar/Library/Jupyter/nbextensions/exercise/history.md\n",
      "\u001b[32m[I 19:36:55 InstallContribNbextensionsApp]\u001b[m Up to date: /Users/sundar/Library/Jupyter/nbextensions/exercise/main.css\n",
      "\u001b[32m[I 19:36:55 InstallContribNbextensionsApp]\u001b[m Up to date: /Users/sundar/Library/Jupyter/nbextensions/exercise/image.gif\n",
      "\u001b[32m[I 19:36:55 InstallContribNbextensionsApp]\u001b[m Up to date: /Users/sundar/Library/Jupyter/nbextensions/exercise/readme.md\n",
      "\u001b[32m[I 19:36:55 InstallContribNbextensionsApp]\u001b[m Up to date: /Users/sundar/Library/Jupyter/nbextensions/exercise/main.js\n",
      "\u001b[32m[I 19:36:55 InstallContribNbextensionsApp]\u001b[m Up to date: /Users/sundar/Library/Jupyter/nbextensions/exercise/exercise.yaml\n",
      "\u001b[32m[I 19:36:55 InstallContribNbextensionsApp]\u001b[m - Validating: \u001b[32mOK\u001b[0m\n",
      "\u001b[32m[I 19:36:55 InstallContribNbextensionsApp]\u001b[m Installing /Library/Frameworks/Python.framework/Versions/3.12/lib/python3.12/site-packages/jupyter_contrib_nbextensions/nbextensions/codemirror_mode_extensions -> codemirror_mode_extensions\n",
      "\u001b[32m[I 19:36:55 InstallContribNbextensionsApp]\u001b[m Up to date: /Users/sundar/Library/Jupyter/nbextensions/codemirror_mode_extensions/codemirror_mode_extensions.yaml\n",
      "\u001b[32m[I 19:36:55 InstallContribNbextensionsApp]\u001b[m Up to date: /Users/sundar/Library/Jupyter/nbextensions/codemirror_mode_extensions/main.js\n",
      "\u001b[32m[I 19:36:55 InstallContribNbextensionsApp]\u001b[m - Validating: \u001b[32mOK\u001b[0m\n",
      "\u001b[32m[I 19:36:55 InstallContribNbextensionsApp]\u001b[m Installing /Library/Frameworks/Python.framework/Versions/3.12/lib/python3.12/site-packages/jupyter_contrib_nbextensions/nbextensions/ruler -> ruler\n",
      "\u001b[32m[I 19:36:55 InstallContribNbextensionsApp]\u001b[m Up to date: /Users/sundar/Library/Jupyter/nbextensions/ruler/icon.png\n",
      "\u001b[32m[I 19:36:55 InstallContribNbextensionsApp]\u001b[m Up to date: /Users/sundar/Library/Jupyter/nbextensions/ruler/edit.js\n",
      "\u001b[32m[I 19:36:55 InstallContribNbextensionsApp]\u001b[m Up to date: /Users/sundar/Library/Jupyter/nbextensions/ruler/ruler_editor.yaml\n",
      "\u001b[32m[I 19:36:55 InstallContribNbextensionsApp]\u001b[m Up to date: /Users/sundar/Library/Jupyter/nbextensions/ruler/readme.md\n",
      "\u001b[32m[I 19:36:55 InstallContribNbextensionsApp]\u001b[m Up to date: /Users/sundar/Library/Jupyter/nbextensions/ruler/main.js\n",
      "\u001b[32m[I 19:36:55 InstallContribNbextensionsApp]\u001b[m Up to date: /Users/sundar/Library/Jupyter/nbextensions/ruler/ruler.yaml\n",
      "\u001b[32m[I 19:36:55 InstallContribNbextensionsApp]\u001b[m - Validating: \u001b[32mOK\u001b[0m\n",
      "\u001b[32m[I 19:36:55 InstallContribNbextensionsApp]\u001b[m Installing /Library/Frameworks/Python.framework/Versions/3.12/lib/python3.12/site-packages/jupyter_contrib_nbextensions/nbextensions/ruler -> ruler\n",
      "\u001b[32m[I 19:36:55 InstallContribNbextensionsApp]\u001b[m Up to date: /Users/sundar/Library/Jupyter/nbextensions/ruler/icon.png\n",
      "\u001b[32m[I 19:36:55 InstallContribNbextensionsApp]\u001b[m Up to date: /Users/sundar/Library/Jupyter/nbextensions/ruler/edit.js\n",
      "\u001b[32m[I 19:36:55 InstallContribNbextensionsApp]\u001b[m Up to date: /Users/sundar/Library/Jupyter/nbextensions/ruler/ruler_editor.yaml\n",
      "\u001b[32m[I 19:36:55 InstallContribNbextensionsApp]\u001b[m Up to date: /Users/sundar/Library/Jupyter/nbextensions/ruler/readme.md\n",
      "\u001b[32m[I 19:36:55 InstallContribNbextensionsApp]\u001b[m Up to date: /Users/sundar/Library/Jupyter/nbextensions/ruler/main.js\n",
      "\u001b[32m[I 19:36:55 InstallContribNbextensionsApp]\u001b[m Up to date: /Users/sundar/Library/Jupyter/nbextensions/ruler/ruler.yaml\n",
      "\u001b[32m[I 19:36:55 InstallContribNbextensionsApp]\u001b[m - Validating: \u001b[32mOK\u001b[0m\n",
      "\u001b[32m[I 19:36:55 InstallContribNbextensionsApp]\u001b[m Installing /Library/Frameworks/Python.framework/Versions/3.12/lib/python3.12/site-packages/jupyter_contrib_nbextensions/nbextensions/contrib_nbextensions_help_item -> contrib_nbextensions_help_item\n",
      "\u001b[32m[I 19:36:55 InstallContribNbextensionsApp]\u001b[m Up to date: /Users/sundar/Library/Jupyter/nbextensions/contrib_nbextensions_help_item/README.md\n",
      "\u001b[32m[I 19:36:55 InstallContribNbextensionsApp]\u001b[m Up to date: /Users/sundar/Library/Jupyter/nbextensions/contrib_nbextensions_help_item/main.js\n",
      "\u001b[32m[I 19:36:55 InstallContribNbextensionsApp]\u001b[m Up to date: /Users/sundar/Library/Jupyter/nbextensions/contrib_nbextensions_help_item/contrib_nbextensions_help_item.yaml\n",
      "\u001b[32m[I 19:36:55 InstallContribNbextensionsApp]\u001b[m - Validating: \u001b[32mOK\u001b[0m\n",
      "\u001b[32m[I 19:36:55 InstallContribNbextensionsApp]\u001b[m Installing /Library/Frameworks/Python.framework/Versions/3.12/lib/python3.12/site-packages/jupyter_contrib_nbextensions/nbextensions/datestamper -> datestamper\n",
      "\u001b[32m[I 19:36:55 InstallContribNbextensionsApp]\u001b[m Up to date: /Users/sundar/Library/Jupyter/nbextensions/datestamper/icon.png\n",
      "\u001b[32m[I 19:36:55 InstallContribNbextensionsApp]\u001b[m Up to date: /Users/sundar/Library/Jupyter/nbextensions/datestamper/main.yaml\n",
      "\u001b[32m[I 19:36:55 InstallContribNbextensionsApp]\u001b[m Up to date: /Users/sundar/Library/Jupyter/nbextensions/datestamper/readme.md\n",
      "\u001b[32m[I 19:36:55 InstallContribNbextensionsApp]\u001b[m Up to date: /Users/sundar/Library/Jupyter/nbextensions/datestamper/main.js\n",
      "\u001b[32m[I 19:36:55 InstallContribNbextensionsApp]\u001b[m - Validating: \u001b[32mOK\u001b[0m\n",
      "\u001b[32m[I 19:36:55 InstallContribNbextensionsApp]\u001b[m Installing /Library/Frameworks/Python.framework/Versions/3.12/lib/python3.12/site-packages/jupyter_contrib_nbextensions/nbextensions/go_to_current_running_cell -> go_to_current_running_cell\n",
      "\u001b[32m[I 19:36:55 InstallContribNbextensionsApp]\u001b[m Up to date: /Users/sundar/Library/Jupyter/nbextensions/go_to_current_running_cell/jump_to_cell.gif\n",
      "\u001b[32m[I 19:36:55 InstallContribNbextensionsApp]\u001b[m Up to date: /Users/sundar/Library/Jupyter/nbextensions/go_to_current_running_cell/README.md\n",
      "\u001b[32m[I 19:36:55 InstallContribNbextensionsApp]\u001b[m Up to date: /Users/sundar/Library/Jupyter/nbextensions/go_to_current_running_cell/main.js\n",
      "\u001b[32m[I 19:36:55 InstallContribNbextensionsApp]\u001b[m Up to date: /Users/sundar/Library/Jupyter/nbextensions/go_to_current_running_cell/go_to_current_running_cell.yaml\n",
      "\u001b[32m[I 19:36:55 InstallContribNbextensionsApp]\u001b[m Up to date: /Users/sundar/Library/Jupyter/nbextensions/go_to_current_running_cell/auto_focus.gif\n",
      "\u001b[32m[I 19:36:55 InstallContribNbextensionsApp]\u001b[m Up to date: /Users/sundar/Library/Jupyter/nbextensions/go_to_current_running_cell/eye.png\n",
      "\u001b[32m[I 19:36:55 InstallContribNbextensionsApp]\u001b[m Up to date: /Users/sundar/Library/Jupyter/nbextensions/go_to_current_running_cell/anchor.png\n",
      "\u001b[32m[I 19:36:55 InstallContribNbextensionsApp]\u001b[m - Validating: \u001b[32mOK\u001b[0m\n",
      "\u001b[32m[I 19:36:55 InstallContribNbextensionsApp]\u001b[m Installing /Library/Frameworks/Python.framework/Versions/3.12/lib/python3.12/site-packages/jupyter_contrib_nbextensions/nbextensions/init_cell -> init_cell\n",
      "\u001b[32m[I 19:36:55 InstallContribNbextensionsApp]\u001b[m Up to date: /Users/sundar/Library/Jupyter/nbextensions/init_cell/init_cell.yaml\n",
      "\u001b[32m[I 19:36:55 InstallContribNbextensionsApp]\u001b[m Up to date: /Users/sundar/Library/Jupyter/nbextensions/init_cell/icon.png\n",
      "\u001b[32m[I 19:36:55 InstallContribNbextensionsApp]\u001b[m Up to date: /Users/sundar/Library/Jupyter/nbextensions/init_cell/README.md\n",
      "\u001b[32m[I 19:36:55 InstallContribNbextensionsApp]\u001b[m Up to date: /Users/sundar/Library/Jupyter/nbextensions/init_cell/main.js\n",
      "\u001b[32m[I 19:36:55 InstallContribNbextensionsApp]\u001b[m Up to date: /Users/sundar/Library/Jupyter/nbextensions/init_cell/cell_toolbar_menu.png\n",
      "\u001b[32m[I 19:36:55 InstallContribNbextensionsApp]\u001b[m - Validating: \u001b[32mOK\u001b[0m\n",
      "\u001b[32m[I 19:36:55 InstallContribNbextensionsApp]\u001b[m Installing /Library/Frameworks/Python.framework/Versions/3.12/lib/python3.12/site-packages/jupyter_contrib_nbextensions/nbextensions/limit_output -> limit_output\n",
      "\u001b[32m[I 19:36:55 InstallContribNbextensionsApp]\u001b[m Up to date: /Users/sundar/Library/Jupyter/nbextensions/limit_output/icon.png\n",
      "\u001b[32m[I 19:36:55 InstallContribNbextensionsApp]\u001b[m Up to date: /Users/sundar/Library/Jupyter/nbextensions/limit_output/readme.md\n",
      "\u001b[32m[I 19:36:55 InstallContribNbextensionsApp]\u001b[m Up to date: /Users/sundar/Library/Jupyter/nbextensions/limit_output/main.js\n",
      "\u001b[32m[I 19:36:55 InstallContribNbextensionsApp]\u001b[m Up to date: /Users/sundar/Library/Jupyter/nbextensions/limit_output/limit-output.yaml\n",
      "\u001b[32m[I 19:36:55 InstallContribNbextensionsApp]\u001b[m - Validating: \u001b[32mOK\u001b[0m\n",
      "\u001b[32m[I 19:36:55 InstallContribNbextensionsApp]\u001b[m Installing /Library/Frameworks/Python.framework/Versions/3.12/lib/python3.12/site-packages/jupyter_contrib_nbextensions/nbextensions/qtconsole -> qtconsole\n",
      "\u001b[32m[I 19:36:55 InstallContribNbextensionsApp]\u001b[m Up to date: /Users/sundar/Library/Jupyter/nbextensions/qtconsole/qtconsole.js\n",
      "\u001b[32m[I 19:36:55 InstallContribNbextensionsApp]\u001b[m Up to date: /Users/sundar/Library/Jupyter/nbextensions/qtconsole/qtconsole.yaml\n",
      "\u001b[32m[I 19:36:55 InstallContribNbextensionsApp]\u001b[m Up to date: /Users/sundar/Library/Jupyter/nbextensions/qtconsole/README.md\n",
      "\u001b[32m[I 19:36:55 InstallContribNbextensionsApp]\u001b[m - Validating: \u001b[32mOK\u001b[0m\n",
      "\u001b[32m[I 19:36:55 InstallContribNbextensionsApp]\u001b[m Installing /Library/Frameworks/Python.framework/Versions/3.12/lib/python3.12/site-packages/jupyter_contrib_nbextensions/nbextensions/addbefore -> addbefore\n",
      "\u001b[32m[I 19:36:55 InstallContribNbextensionsApp]\u001b[m Up to date: /Users/sundar/Library/Jupyter/nbextensions/addbefore/icon.png\n",
      "\u001b[32m[I 19:36:55 InstallContribNbextensionsApp]\u001b[m Up to date: /Users/sundar/Library/Jupyter/nbextensions/addbefore/readme.md\n",
      "\u001b[32m[I 19:36:55 InstallContribNbextensionsApp]\u001b[m Up to date: /Users/sundar/Library/Jupyter/nbextensions/addbefore/main.js\n",
      "\u001b[32m[I 19:36:55 InstallContribNbextensionsApp]\u001b[m Up to date: /Users/sundar/Library/Jupyter/nbextensions/addbefore/addbefore.yaml\n",
      "\u001b[32m[I 19:36:55 InstallContribNbextensionsApp]\u001b[m - Validating: \u001b[32mOK\u001b[0m\n",
      "\u001b[32m[I 19:36:55 InstallContribNbextensionsApp]\u001b[m Installing /Library/Frameworks/Python.framework/Versions/3.12/lib/python3.12/site-packages/jupyter_contrib_nbextensions/nbextensions/highlighter -> highlighter\n",
      "\u001b[32m[I 19:36:55 InstallContribNbextensionsApp]\u001b[m Up to date: /Users/sundar/Library/Jupyter/nbextensions/highlighter/icon.png\n",
      "\u001b[32m[I 19:36:55 InstallContribNbextensionsApp]\u001b[m Up to date: /Users/sundar/Library/Jupyter/nbextensions/highlighter/export_highlights.pdf\n",
      "\u001b[32m[I 19:36:55 InstallContribNbextensionsApp]\u001b[m Up to date: /Users/sundar/Library/Jupyter/nbextensions/highlighter/demo_highlighter.html\n",
      "\u001b[32m[I 19:36:55 InstallContribNbextensionsApp]\u001b[m Up to date: /Users/sundar/Library/Jupyter/nbextensions/highlighter/demo_highlighter.ipynb\n",
      "\u001b[32m[I 19:36:55 InstallContribNbextensionsApp]\u001b[m Up to date: /Users/sundar/Library/Jupyter/nbextensions/highlighter/tst_highlights.ipynb\n",
      "\u001b[32m[I 19:36:55 InstallContribNbextensionsApp]\u001b[m Up to date: /Users/sundar/Library/Jupyter/nbextensions/highlighter/export_highlights.ipynb\n",
      "\u001b[32m[I 19:36:55 InstallContribNbextensionsApp]\u001b[m Up to date: /Users/sundar/Library/Jupyter/nbextensions/highlighter/tst_highlights.html\n",
      "\u001b[32m[I 19:36:55 InstallContribNbextensionsApp]\u001b[m Up to date: /Users/sundar/Library/Jupyter/nbextensions/highlighter/export_highlights.tex\n",
      "\u001b[32m[I 19:36:55 InstallContribNbextensionsApp]\u001b[m Up to date: /Users/sundar/Library/Jupyter/nbextensions/highlighter/image.gif\n",
      "\u001b[32m[I 19:36:55 InstallContribNbextensionsApp]\u001b[m Up to date: /Users/sundar/Library/Jupyter/nbextensions/highlighter/readme.md\n",
      "\u001b[32m[I 19:36:55 InstallContribNbextensionsApp]\u001b[m Up to date: /Users/sundar/Library/Jupyter/nbextensions/highlighter/highlighter.css\n",
      "\u001b[32m[I 19:36:55 InstallContribNbextensionsApp]\u001b[m Up to date: /Users/sundar/Library/Jupyter/nbextensions/highlighter/tst_highlights.pdf\n",
      "\u001b[32m[I 19:36:55 InstallContribNbextensionsApp]\u001b[m Up to date: /Users/sundar/Library/Jupyter/nbextensions/highlighter/export_highlights.html\n",
      "\u001b[32m[I 19:36:55 InstallContribNbextensionsApp]\u001b[m Up to date: /Users/sundar/Library/Jupyter/nbextensions/highlighter/tst_highlights.tex\n",
      "\u001b[32m[I 19:36:55 InstallContribNbextensionsApp]\u001b[m Up to date: /Users/sundar/Library/Jupyter/nbextensions/highlighter/highlighter.yaml\n",
      "\u001b[32m[I 19:36:55 InstallContribNbextensionsApp]\u001b[m Up to date: /Users/sundar/Library/Jupyter/nbextensions/highlighter/highlighter.js\n",
      "\u001b[32m[I 19:36:55 InstallContribNbextensionsApp]\u001b[m - Validating: \u001b[32mOK\u001b[0m\n",
      "\u001b[32m[I 19:36:55 InstallContribNbextensionsApp]\u001b[m Installing /Library/Frameworks/Python.framework/Versions/3.12/lib/python3.12/site-packages/jupyter_contrib_nbextensions/nbextensions/comment-uncomment -> comment-uncomment\n",
      "\u001b[32m[I 19:36:55 InstallContribNbextensionsApp]\u001b[m Up to date: /Users/sundar/Library/Jupyter/nbextensions/comment-uncomment/icon.png\n",
      "\u001b[32m[I 19:36:55 InstallContribNbextensionsApp]\u001b[m Up to date: /Users/sundar/Library/Jupyter/nbextensions/comment-uncomment/readme.md\n",
      "\u001b[32m[I 19:36:55 InstallContribNbextensionsApp]\u001b[m Up to date: /Users/sundar/Library/Jupyter/nbextensions/comment-uncomment/main.js\n",
      "\u001b[32m[I 19:36:55 InstallContribNbextensionsApp]\u001b[m Up to date: /Users/sundar/Library/Jupyter/nbextensions/comment-uncomment/comment-uncomment.yaml\n",
      "\u001b[32m[I 19:36:55 InstallContribNbextensionsApp]\u001b[m - Validating: \u001b[32mOK\u001b[0m\n",
      "\u001b[32m[I 19:36:55 InstallContribNbextensionsApp]\u001b[m Installing /Library/Frameworks/Python.framework/Versions/3.12/lib/python3.12/site-packages/jupyter_contrib_nbextensions/nbextensions/code_font_size -> code_font_size\n",
      "\u001b[32m[I 19:36:55 InstallContribNbextensionsApp]\u001b[m Up to date: /Users/sundar/Library/Jupyter/nbextensions/code_font_size/code_font_size.yaml\n",
      "\u001b[32m[I 19:36:55 InstallContribNbextensionsApp]\u001b[m Up to date: /Users/sundar/Library/Jupyter/nbextensions/code_font_size/code_font_size.js\n",
      "\u001b[32m[I 19:36:55 InstallContribNbextensionsApp]\u001b[m Up to date: /Users/sundar/Library/Jupyter/nbextensions/code_font_size/README.md\n",
      "\u001b[32m[I 19:36:55 InstallContribNbextensionsApp]\u001b[m - Validating: \u001b[32mOK\u001b[0m\n",
      "\u001b[32m[I 19:36:55 InstallContribNbextensionsApp]\u001b[m Installing /Library/Frameworks/Python.framework/Versions/3.12/lib/python3.12/site-packages/jupyter_contrib_nbextensions/nbextensions/varInspector -> varInspector\n"
     ]
    },
    {
     "name": "stdout",
     "output_type": "stream",
     "text": [
      "\u001b[32m[I 19:36:55 InstallContribNbextensionsApp]\u001b[m Up to date: /Users/sundar/Library/Jupyter/nbextensions/varInspector/icon.png\r\n",
      "\u001b[32m[I 19:36:55 InstallContribNbextensionsApp]\u001b[m Up to date: /Users/sundar/Library/Jupyter/nbextensions/varInspector/jquery.tablesorter.min.js\r\n",
      "\u001b[32m[I 19:36:55 InstallContribNbextensionsApp]\u001b[m Up to date: /Users/sundar/Library/Jupyter/nbextensions/varInspector/varInspector.yaml\r\n",
      "\u001b[32m[I 19:36:55 InstallContribNbextensionsApp]\u001b[m Up to date: /Users/sundar/Library/Jupyter/nbextensions/varInspector/main.css\r\n",
      "\u001b[32m[I 19:36:55 InstallContribNbextensionsApp]\u001b[m Up to date: /Users/sundar/Library/Jupyter/nbextensions/varInspector/var_list.py\r\n",
      "\u001b[32m[I 19:36:55 InstallContribNbextensionsApp]\u001b[m Up to date: /Users/sundar/Library/Jupyter/nbextensions/varInspector/README.md\r\n",
      "\u001b[32m[I 19:36:55 InstallContribNbextensionsApp]\u001b[m Up to date: /Users/sundar/Library/Jupyter/nbextensions/varInspector/main.js\r\n",
      "\u001b[32m[I 19:36:55 InstallContribNbextensionsApp]\u001b[m Up to date: /Users/sundar/Library/Jupyter/nbextensions/varInspector/var_list.r\r\n",
      "\u001b[32m[I 19:36:55 InstallContribNbextensionsApp]\u001b[m Up to date: /Users/sundar/Library/Jupyter/nbextensions/varInspector/tablesorter_LICENSE.txt\r\n",
      "\u001b[32m[I 19:36:55 InstallContribNbextensionsApp]\u001b[m Up to date: /Users/sundar/Library/Jupyter/nbextensions/varInspector/demo.gif\r\n",
      "\u001b[32m[I 19:36:55 InstallContribNbextensionsApp]\u001b[m Up to date: /Users/sundar/Library/Jupyter/nbextensions/varInspector/__pycache__/var_list.cpython-312.pyc\r\n",
      "\u001b[32m[I 19:36:55 InstallContribNbextensionsApp]\u001b[m - Validating: \u001b[32mOK\u001b[0m\r\n",
      "\u001b[32m[I 19:36:55 InstallContribNbextensionsApp]\u001b[m Installing /Library/Frameworks/Python.framework/Versions/3.12/lib/python3.12/site-packages/jupyter_contrib_nbextensions/nbextensions/execute_time -> execute_time\r\n",
      "\u001b[32m[I 19:36:55 InstallContribNbextensionsApp]\u001b[m Up to date: /Users/sundar/Library/Jupyter/nbextensions/execute_time/ExecuteTime.js\r\n",
      "\u001b[32m[I 19:36:55 InstallContribNbextensionsApp]\u001b[m Up to date: /Users/sundar/Library/Jupyter/nbextensions/execute_time/icon.png\r\n",
      "\u001b[32m[I 19:36:55 InstallContribNbextensionsApp]\u001b[m Up to date: /Users/sundar/Library/Jupyter/nbextensions/execute_time/execution-timings-box.png\r\n",
      "\u001b[32m[I 19:36:55 InstallContribNbextensionsApp]\u001b[m Up to date: /Users/sundar/Library/Jupyter/nbextensions/execute_time/ExecuteTime.css\r\n",
      "\u001b[32m[I 19:36:55 InstallContribNbextensionsApp]\u001b[m Up to date: /Users/sundar/Library/Jupyter/nbextensions/execute_time/ExecuteTime.yaml\r\n",
      "\u001b[32m[I 19:36:55 InstallContribNbextensionsApp]\u001b[m Up to date: /Users/sundar/Library/Jupyter/nbextensions/execute_time/execution-timings-menu.png\r\n",
      "\u001b[32m[I 19:36:55 InstallContribNbextensionsApp]\u001b[m Up to date: /Users/sundar/Library/Jupyter/nbextensions/execute_time/readme.md\r\n",
      "\u001b[32m[I 19:36:55 InstallContribNbextensionsApp]\u001b[m - Validating: \u001b[32mOK\u001b[0m\r\n",
      "\u001b[32m[I 19:36:55 InstallContribNbextensionsApp]\u001b[m Installing /Library/Frameworks/Python.framework/Versions/3.12/lib/python3.12/site-packages/jupyter_contrib_nbextensions/nbextensions/spellchecker -> spellchecker\r\n",
      "\u001b[32m[I 19:36:55 InstallContribNbextensionsApp]\u001b[m Up to date: /Users/sundar/Library/Jupyter/nbextensions/spellchecker/download_new_dict.py\r\n",
      "\u001b[32m[I 19:36:55 InstallContribNbextensionsApp]\u001b[m Up to date: /Users/sundar/Library/Jupyter/nbextensions/spellchecker/screenshot.png\r\n",
      "\u001b[32m[I 19:36:55 InstallContribNbextensionsApp]\u001b[m Up to date: /Users/sundar/Library/Jupyter/nbextensions/spellchecker/config.yaml\r\n",
      "\u001b[32m[I 19:36:55 InstallContribNbextensionsApp]\u001b[m Up to date: /Users/sundar/Library/Jupyter/nbextensions/spellchecker/main.css\r\n",
      "\u001b[32m[I 19:36:55 InstallContribNbextensionsApp]\u001b[m Up to date: /Users/sundar/Library/Jupyter/nbextensions/spellchecker/README.md\r\n",
      "\u001b[32m[I 19:36:55 InstallContribNbextensionsApp]\u001b[m Up to date: /Users/sundar/Library/Jupyter/nbextensions/spellchecker/main.js\r\n",
      "\u001b[32m[I 19:36:55 InstallContribNbextensionsApp]\u001b[m Up to date: /Users/sundar/Library/Jupyter/nbextensions/spellchecker/typo/typo.js\r\n",
      "\u001b[32m[I 19:36:55 InstallContribNbextensionsApp]\u001b[m Up to date: /Users/sundar/Library/Jupyter/nbextensions/spellchecker/typo/LICENSE.txt\r\n",
      "\u001b[32m[I 19:36:55 InstallContribNbextensionsApp]\u001b[m Up to date: /Users/sundar/Library/Jupyter/nbextensions/spellchecker/__pycache__/download_new_dict.cpython-312.pyc\r\n",
      "\u001b[32m[I 19:36:55 InstallContribNbextensionsApp]\u001b[m - Validating: \u001b[32mOK\u001b[0m\r\n",
      "\u001b[32m[I 19:36:55 InstallContribNbextensionsApp]\u001b[m Installing /Library/Frameworks/Python.framework/Versions/3.12/lib/python3.12/site-packages/jupyter_contrib_nbextensions/nbextensions/code_prettify -> code_prettify\r\n",
      "\u001b[32m[I 19:36:55 InstallContribNbextensionsApp]\u001b[m Up to date: /Users/sundar/Library/Jupyter/nbextensions/code_prettify/demo-py.gif\r\n",
      "\u001b[32m[I 19:36:55 InstallContribNbextensionsApp]\u001b[m Up to date: /Users/sundar/Library/Jupyter/nbextensions/code_prettify/kernel_exec_on_cell.js\r\n",
      "\u001b[32m[I 19:36:55 InstallContribNbextensionsApp]\u001b[m Up to date: /Users/sundar/Library/Jupyter/nbextensions/code_prettify/demo-jv.gif\r\n",
      "\u001b[32m[I 19:36:55 InstallContribNbextensionsApp]\u001b[m Up to date: /Users/sundar/Library/Jupyter/nbextensions/code_prettify/README_2to3.md\r\n",
      "\u001b[32m[I 19:36:55 InstallContribNbextensionsApp]\u001b[m Up to date: /Users/sundar/Library/Jupyter/nbextensions/code_prettify/2to3.yaml\r\n",
      "\u001b[32m[I 19:36:55 InstallContribNbextensionsApp]\u001b[m Up to date: /Users/sundar/Library/Jupyter/nbextensions/code_prettify/README_autopep8.md\r\n",
      "\u001b[32m[I 19:36:55 InstallContribNbextensionsApp]\u001b[m Up to date: /Users/sundar/Library/Jupyter/nbextensions/code_prettify/demo_2to3.gif\r\n",
      "\u001b[32m[I 19:36:55 InstallContribNbextensionsApp]\u001b[m Up to date: /Users/sundar/Library/Jupyter/nbextensions/code_prettify/README_isort.md\r\n",
      "\u001b[32m[I 19:36:55 InstallContribNbextensionsApp]\u001b[m Up to date: /Users/sundar/Library/Jupyter/nbextensions/code_prettify/README_code_prettify.md\r\n",
      "\u001b[32m[I 19:36:55 InstallContribNbextensionsApp]\u001b[m Up to date: /Users/sundar/Library/Jupyter/nbextensions/code_prettify/README.md\r\n",
      "\u001b[32m[I 19:36:55 InstallContribNbextensionsApp]\u001b[m Up to date: /Users/sundar/Library/Jupyter/nbextensions/code_prettify/code_prettify.js\r\n",
      "\u001b[32m[I 19:36:55 InstallContribNbextensionsApp]\u001b[m Up to date: /Users/sundar/Library/Jupyter/nbextensions/code_prettify/autopep8.js\r\n",
      "\u001b[32m[I 19:36:55 InstallContribNbextensionsApp]\u001b[m Up to date: /Users/sundar/Library/Jupyter/nbextensions/code_prettify/demo-R.gif\r\n",
      "\u001b[32m[I 19:36:55 InstallContribNbextensionsApp]\u001b[m Up to date: /Users/sundar/Library/Jupyter/nbextensions/code_prettify/isort.js\r\n",
      "\u001b[32m[I 19:36:55 InstallContribNbextensionsApp]\u001b[m Up to date: /Users/sundar/Library/Jupyter/nbextensions/code_prettify/code_prettify.yaml\r\n",
      "\u001b[32m[I 19:36:55 InstallContribNbextensionsApp]\u001b[m Up to date: /Users/sundar/Library/Jupyter/nbextensions/code_prettify/2to3.js\r\n",
      "\u001b[32m[I 19:36:55 InstallContribNbextensionsApp]\u001b[m Up to date: /Users/sundar/Library/Jupyter/nbextensions/code_prettify/autopep8.yaml\r\n",
      "\u001b[32m[I 19:36:55 InstallContribNbextensionsApp]\u001b[m Up to date: /Users/sundar/Library/Jupyter/nbextensions/code_prettify/isort.yaml\r\n",
      "\u001b[32m[I 19:36:55 InstallContribNbextensionsApp]\u001b[m - Validating: \u001b[32mOK\u001b[0m\r\n",
      "\u001b[32m[I 19:36:55 InstallContribNbextensionsApp]\u001b[m Installing /Library/Frameworks/Python.framework/Versions/3.12/lib/python3.12/site-packages/jupyter_contrib_nbextensions/nbextensions/code_prettify -> code_prettify\r\n",
      "\u001b[32m[I 19:36:55 InstallContribNbextensionsApp]\u001b[m Up to date: /Users/sundar/Library/Jupyter/nbextensions/code_prettify/demo-py.gif\r\n",
      "\u001b[32m[I 19:36:55 InstallContribNbextensionsApp]\u001b[m Up to date: /Users/sundar/Library/Jupyter/nbextensions/code_prettify/kernel_exec_on_cell.js\r\n",
      "\u001b[32m[I 19:36:55 InstallContribNbextensionsApp]\u001b[m Up to date: /Users/sundar/Library/Jupyter/nbextensions/code_prettify/demo-jv.gif\r\n",
      "\u001b[32m[I 19:36:55 InstallContribNbextensionsApp]\u001b[m Up to date: /Users/sundar/Library/Jupyter/nbextensions/code_prettify/README_2to3.md\r\n",
      "\u001b[32m[I 19:36:55 InstallContribNbextensionsApp]\u001b[m Up to date: /Users/sundar/Library/Jupyter/nbextensions/code_prettify/2to3.yaml\r\n",
      "\u001b[32m[I 19:36:55 InstallContribNbextensionsApp]\u001b[m Up to date: /Users/sundar/Library/Jupyter/nbextensions/code_prettify/README_autopep8.md\r\n",
      "\u001b[32m[I 19:36:55 InstallContribNbextensionsApp]\u001b[m Up to date: /Users/sundar/Library/Jupyter/nbextensions/code_prettify/demo_2to3.gif\r\n",
      "\u001b[32m[I 19:36:55 InstallContribNbextensionsApp]\u001b[m Up to date: /Users/sundar/Library/Jupyter/nbextensions/code_prettify/README_isort.md\r\n",
      "\u001b[32m[I 19:36:55 InstallContribNbextensionsApp]\u001b[m Up to date: /Users/sundar/Library/Jupyter/nbextensions/code_prettify/README_code_prettify.md\r\n",
      "\u001b[32m[I 19:36:55 InstallContribNbextensionsApp]\u001b[m Up to date: /Users/sundar/Library/Jupyter/nbextensions/code_prettify/README.md\r\n",
      "\u001b[32m[I 19:36:55 InstallContribNbextensionsApp]\u001b[m Up to date: /Users/sundar/Library/Jupyter/nbextensions/code_prettify/code_prettify.js\r\n",
      "\u001b[32m[I 19:36:55 InstallContribNbextensionsApp]\u001b[m Up to date: /Users/sundar/Library/Jupyter/nbextensions/code_prettify/autopep8.js\r\n",
      "\u001b[32m[I 19:36:55 InstallContribNbextensionsApp]\u001b[m Up to date: /Users/sundar/Library/Jupyter/nbextensions/code_prettify/demo-R.gif\r\n",
      "\u001b[32m[I 19:36:55 InstallContribNbextensionsApp]\u001b[m Up to date: /Users/sundar/Library/Jupyter/nbextensions/code_prettify/isort.js\r\n",
      "\u001b[32m[I 19:36:55 InstallContribNbextensionsApp]\u001b[m Up to date: /Users/sundar/Library/Jupyter/nbextensions/code_prettify/code_prettify.yaml\r\n",
      "\u001b[32m[I 19:36:55 InstallContribNbextensionsApp]\u001b[m Up to date: /Users/sundar/Library/Jupyter/nbextensions/code_prettify/2to3.js\r\n",
      "\u001b[32m[I 19:36:55 InstallContribNbextensionsApp]\u001b[m Up to date: /Users/sundar/Library/Jupyter/nbextensions/code_prettify/autopep8.yaml\r\n",
      "\u001b[32m[I 19:36:55 InstallContribNbextensionsApp]\u001b[m Up to date: /Users/sundar/Library/Jupyter/nbextensions/code_prettify/isort.yaml\r\n",
      "\u001b[32m[I 19:36:55 InstallContribNbextensionsApp]\u001b[m - Validating: \u001b[32mOK\u001b[0m\r\n",
      "\u001b[32m[I 19:36:55 InstallContribNbextensionsApp]\u001b[m Installing /Library/Frameworks/Python.framework/Versions/3.12/lib/python3.12/site-packages/jupyter_contrib_nbextensions/nbextensions/code_prettify -> code_prettify\r\n",
      "\u001b[32m[I 19:36:55 InstallContribNbextensionsApp]\u001b[m Up to date: /Users/sundar/Library/Jupyter/nbextensions/code_prettify/demo-py.gif\r\n",
      "\u001b[32m[I 19:36:55 InstallContribNbextensionsApp]\u001b[m Up to date: /Users/sundar/Library/Jupyter/nbextensions/code_prettify/kernel_exec_on_cell.js\r\n",
      "\u001b[32m[I 19:36:55 InstallContribNbextensionsApp]\u001b[m Up to date: /Users/sundar/Library/Jupyter/nbextensions/code_prettify/demo-jv.gif\r\n",
      "\u001b[32m[I 19:36:55 InstallContribNbextensionsApp]\u001b[m Up to date: /Users/sundar/Library/Jupyter/nbextensions/code_prettify/README_2to3.md\r\n",
      "\u001b[32m[I 19:36:55 InstallContribNbextensionsApp]\u001b[m Up to date: /Users/sundar/Library/Jupyter/nbextensions/code_prettify/2to3.yaml\r\n",
      "\u001b[32m[I 19:36:55 InstallContribNbextensionsApp]\u001b[m Up to date: /Users/sundar/Library/Jupyter/nbextensions/code_prettify/README_autopep8.md\r\n",
      "\u001b[32m[I 19:36:55 InstallContribNbextensionsApp]\u001b[m Up to date: /Users/sundar/Library/Jupyter/nbextensions/code_prettify/demo_2to3.gif\r\n",
      "\u001b[32m[I 19:36:55 InstallContribNbextensionsApp]\u001b[m Up to date: /Users/sundar/Library/Jupyter/nbextensions/code_prettify/README_isort.md\r\n",
      "\u001b[32m[I 19:36:55 InstallContribNbextensionsApp]\u001b[m Up to date: /Users/sundar/Library/Jupyter/nbextensions/code_prettify/README_code_prettify.md\r\n",
      "\u001b[32m[I 19:36:55 InstallContribNbextensionsApp]\u001b[m Up to date: /Users/sundar/Library/Jupyter/nbextensions/code_prettify/README.md\r\n",
      "\u001b[32m[I 19:36:55 InstallContribNbextensionsApp]\u001b[m Up to date: /Users/sundar/Library/Jupyter/nbextensions/code_prettify/code_prettify.js\r\n",
      "\u001b[32m[I 19:36:55 InstallContribNbextensionsApp]\u001b[m Up to date: /Users/sundar/Library/Jupyter/nbextensions/code_prettify/autopep8.js\r\n",
      "\u001b[32m[I 19:36:55 InstallContribNbextensionsApp]\u001b[m Up to date: /Users/sundar/Library/Jupyter/nbextensions/code_prettify/demo-R.gif\r\n",
      "\u001b[32m[I 19:36:55 InstallContribNbextensionsApp]\u001b[m Up to date: /Users/sundar/Library/Jupyter/nbextensions/code_prettify/isort.js\r\n",
      "\u001b[32m[I 19:36:55 InstallContribNbextensionsApp]\u001b[m Up to date: /Users/sundar/Library/Jupyter/nbextensions/code_prettify/code_prettify.yaml\r\n",
      "\u001b[32m[I 19:36:55 InstallContribNbextensionsApp]\u001b[m Up to date: /Users/sundar/Library/Jupyter/nbextensions/code_prettify/2to3.js\r\n",
      "\u001b[32m[I 19:36:55 InstallContribNbextensionsApp]\u001b[m Up to date: /Users/sundar/Library/Jupyter/nbextensions/code_prettify/autopep8.yaml\r\n",
      "\u001b[32m[I 19:36:55 InstallContribNbextensionsApp]\u001b[m Up to date: /Users/sundar/Library/Jupyter/nbextensions/code_prettify/isort.yaml\r\n",
      "\u001b[32m[I 19:36:55 InstallContribNbextensionsApp]\u001b[m - Validating: \u001b[32mOK\u001b[0m\r\n",
      "\u001b[32m[I 19:36:55 InstallContribNbextensionsApp]\u001b[m Installing /Library/Frameworks/Python.framework/Versions/3.12/lib/python3.12/site-packages/jupyter_contrib_nbextensions/nbextensions/code_prettify -> code_prettify\r\n",
      "\u001b[32m[I 19:36:55 InstallContribNbextensionsApp]\u001b[m Up to date: /Users/sundar/Library/Jupyter/nbextensions/code_prettify/demo-py.gif\r\n",
      "\u001b[32m[I 19:36:55 InstallContribNbextensionsApp]\u001b[m Up to date: /Users/sundar/Library/Jupyter/nbextensions/code_prettify/kernel_exec_on_cell.js\r\n",
      "\u001b[32m[I 19:36:55 InstallContribNbextensionsApp]\u001b[m Up to date: /Users/sundar/Library/Jupyter/nbextensions/code_prettify/demo-jv.gif\r\n",
      "\u001b[32m[I 19:36:55 InstallContribNbextensionsApp]\u001b[m Up to date: /Users/sundar/Library/Jupyter/nbextensions/code_prettify/README_2to3.md\r\n",
      "\u001b[32m[I 19:36:55 InstallContribNbextensionsApp]\u001b[m Up to date: /Users/sundar/Library/Jupyter/nbextensions/code_prettify/2to3.yaml\r\n",
      "\u001b[32m[I 19:36:55 InstallContribNbextensionsApp]\u001b[m Up to date: /Users/sundar/Library/Jupyter/nbextensions/code_prettify/README_autopep8.md\r\n",
      "\u001b[32m[I 19:36:55 InstallContribNbextensionsApp]\u001b[m Up to date: /Users/sundar/Library/Jupyter/nbextensions/code_prettify/demo_2to3.gif\r\n",
      "\u001b[32m[I 19:36:55 InstallContribNbextensionsApp]\u001b[m Up to date: /Users/sundar/Library/Jupyter/nbextensions/code_prettify/README_isort.md\r\n",
      "\u001b[32m[I 19:36:55 InstallContribNbextensionsApp]\u001b[m Up to date: /Users/sundar/Library/Jupyter/nbextensions/code_prettify/README_code_prettify.md\r\n",
      "\u001b[32m[I 19:36:55 InstallContribNbextensionsApp]\u001b[m Up to date: /Users/sundar/Library/Jupyter/nbextensions/code_prettify/README.md\r\n",
      "\u001b[32m[I 19:36:55 InstallContribNbextensionsApp]\u001b[m Up to date: /Users/sundar/Library/Jupyter/nbextensions/code_prettify/code_prettify.js\r\n",
      "\u001b[32m[I 19:36:55 InstallContribNbextensionsApp]\u001b[m Up to date: /Users/sundar/Library/Jupyter/nbextensions/code_prettify/autopep8.js\r\n",
      "\u001b[32m[I 19:36:55 InstallContribNbextensionsApp]\u001b[m Up to date: /Users/sundar/Library/Jupyter/nbextensions/code_prettify/demo-R.gif\r\n",
      "\u001b[32m[I 19:36:55 InstallContribNbextensionsApp]\u001b[m Up to date: /Users/sundar/Library/Jupyter/nbextensions/code_prettify/isort.js\r\n",
      "\u001b[32m[I 19:36:55 InstallContribNbextensionsApp]\u001b[m Up to date: /Users/sundar/Library/Jupyter/nbextensions/code_prettify/code_prettify.yaml\r\n",
      "\u001b[32m[I 19:36:55 InstallContribNbextensionsApp]\u001b[m Up to date: /Users/sundar/Library/Jupyter/nbextensions/code_prettify/2to3.js\r\n",
      "\u001b[32m[I 19:36:55 InstallContribNbextensionsApp]\u001b[m Up to date: /Users/sundar/Library/Jupyter/nbextensions/code_prettify/autopep8.yaml\r\n",
      "\u001b[32m[I 19:36:55 InstallContribNbextensionsApp]\u001b[m Up to date: /Users/sundar/Library/Jupyter/nbextensions/code_prettify/isort.yaml\r\n",
      "\u001b[32m[I 19:36:55 InstallContribNbextensionsApp]\u001b[m - Validating: \u001b[32mOK\u001b[0m\r\n",
      "\u001b[32m[I 19:36:55 InstallContribNbextensionsApp]\u001b[m Installing /Library/Frameworks/Python.framework/Versions/3.12/lib/python3.12/site-packages/jupyter_contrib_nbextensions/nbextensions/load_tex_macros -> load_tex_macros\r\n",
      "\u001b[32m[I 19:36:55 InstallContribNbextensionsApp]\u001b[m Up to date: /Users/sundar/Library/Jupyter/nbextensions/load_tex_macros/load_tex_macros.yaml\r\n",
      "\u001b[32m[I 19:36:55 InstallContribNbextensionsApp]\u001b[m Up to date: /Users/sundar/Library/Jupyter/nbextensions/load_tex_macros/icon.png\r\n",
      "\u001b[32m[I 19:36:55 InstallContribNbextensionsApp]\u001b[m Up to date: /Users/sundar/Library/Jupyter/nbextensions/load_tex_macros/readme.md\r\n",
      "\u001b[32m[I 19:36:55 InstallContribNbextensionsApp]\u001b[m Up to date: /Users/sundar/Library/Jupyter/nbextensions/load_tex_macros/main.js\r\n",
      "\u001b[32m[I 19:36:55 InstallContribNbextensionsApp]\u001b[m - Validating: \u001b[32mOK\u001b[0m\r\n",
      "\u001b[32m[I 19:36:55 InstallContribNbextensionsApp]\u001b[m Installing /Library/Frameworks/Python.framework/Versions/3.12/lib/python3.12/site-packages/jupyter_contrib_nbextensions/nbextensions/hide_header -> hide_header\r\n",
      "\u001b[32m[I 19:36:55 InstallContribNbextensionsApp]\u001b[m Up to date: /Users/sundar/Library/Jupyter/nbextensions/hide_header/hide_header.yaml\r\n",
      "\u001b[32m[I 19:36:55 InstallContribNbextensionsApp]\u001b[m Up to date: /Users/sundar/Library/Jupyter/nbextensions/hide_header/README.md\r\n",
      "\u001b[32m[I 19:36:55 InstallContribNbextensionsApp]\u001b[m Up to date: /Users/sundar/Library/Jupyter/nbextensions/hide_header/main.js\r\n",
      "\u001b[32m[I 19:36:55 InstallContribNbextensionsApp]\u001b[m - Validating: \u001b[32mOK\u001b[0m\r\n",
      "\u001b[32m[I 19:36:55 InstallContribNbextensionsApp]\u001b[m Installing /Library/Frameworks/Python.framework/Versions/3.12/lib/python3.12/site-packages/jupyter_highlight_selected_word/static/highlight_selected_word -> highlight_selected_word\r\n",
      "\u001b[32m[I 19:36:55 InstallContribNbextensionsApp]\u001b[m Up to date: /Users/sundar/Library/Jupyter/nbextensions/highlight_selected_word/configurator.yaml\r\n",
      "\u001b[32m[I 19:36:55 InstallContribNbextensionsApp]\u001b[m Up to date: /Users/sundar/Library/Jupyter/nbextensions/highlight_selected_word/README.md\r\n",
      "\u001b[32m[I 19:36:55 InstallContribNbextensionsApp]\u001b[m Up to date: /Users/sundar/Library/Jupyter/nbextensions/highlight_selected_word/main.js\r\n",
      "\u001b[32m[I 19:36:55 InstallContribNbextensionsApp]\u001b[m - Validating: \u001b[32mOK\u001b[0m\r\n",
      "\u001b[32m[I 19:36:55 InstallContribNbextensionsApp]\u001b[m Installing jupyter_contrib_nbextensions items to config in /Users/sundar/.jupyter\r\n",
      "Enabling: jupyter_nbextensions_configurator\r\n",
      "- Writing config: /Users/sundar/.jupyter\r\n",
      "    - Validating...\r\n",
      "      jupyter_nbextensions_configurator 0.6.4 \u001b[32mOK\u001b[0m\r\n",
      "Enabling notebook nbextension nbextensions_configurator/config_menu/main...\r\n",
      "Enabling tree nbextension nbextensions_configurator/tree_tab/main...\r\n",
      "\u001b[32m[I 19:36:55 InstallContribNbextensionsApp]\u001b[m Enabling notebook extension contrib_nbextensions_help_item/main...\r\n",
      "\u001b[32m[I 19:36:55 InstallContribNbextensionsApp]\u001b[m       - Validating: \u001b[32mOK\u001b[0m\r\n",
      "\u001b[32m[I 19:36:55 InstallContribNbextensionsApp]\u001b[m - Editing config: /Users/sundar/.jupyter/jupyter_nbconvert_config.json\r\n",
      "\u001b[32m[I 19:36:55 InstallContribNbextensionsApp]\u001b[m --  Configuring nbconvert template path\r\n",
      "\u001b[32m[I 19:36:55 InstallContribNbextensionsApp]\u001b[m --  Configuring nbconvert preprocessors\r\n",
      "\u001b[32m[I 19:36:55 InstallContribNbextensionsApp]\u001b[m - Writing config: /Users/sundar/.jupyter/jupyter_nbconvert_config.json\r\n",
      "\u001b[32m[I 19:36:55 InstallContribNbextensionsApp]\u001b[m --  Writing updated config file /Users/sundar/.jupyter/jupyter_nbconvert_config.json\r\n"
     ]
    },
    {
     "name": "stdout",
     "output_type": "stream",
     "text": [
      "Enabling notebook extension hinterland/hinterland...\r\n",
      "      - Validating: \u001b[32mOK\u001b[0m\r\n"
     ]
    }
   ],
   "source": [
    "!pip install jupyter_contrib_nbextensions\n",
    "!jupyter contrib nbextension install --user\n",
    "!jupyter nbextension enable hinterland/hinterland"
   ]
  },
  {
   "cell_type": "code",
   "execution_count": 7,
   "id": "e4446943",
   "metadata": {},
   "outputs": [
    {
     "name": "stdout",
     "output_type": "stream",
     "text": [
      "Found existing installation: jedi 0.19.2\n",
      "Uninstalling jedi-0.19.2:\n",
      "  Successfully uninstalled jedi-0.19.2\n"
     ]
    }
   ],
   "source": [
    "!pip uninstall jedi --yes"
   ]
  },
  {
   "cell_type": "code",
   "execution_count": 3,
   "id": "1accb8f5",
   "metadata": {},
   "outputs": [],
   "source": [
    "import pandas as pd\n",
    "import numpy as np"
   ]
  },
  {
   "cell_type": "code",
   "execution_count": 4,
   "id": "78696d9a",
   "metadata": {},
   "outputs": [],
   "source": [
    "df = pd.read_csv('data.csv')"
   ]
  },
  {
   "cell_type": "code",
   "execution_count": 5,
   "id": "ce695327",
   "metadata": {},
   "outputs": [
    {
     "data": {
      "text/html": [
       "<div>\n",
       "<style scoped>\n",
       "    .dataframe tbody tr th:only-of-type {\n",
       "        vertical-align: middle;\n",
       "    }\n",
       "\n",
       "    .dataframe tbody tr th {\n",
       "        vertical-align: top;\n",
       "    }\n",
       "\n",
       "    .dataframe thead th {\n",
       "        text-align: right;\n",
       "    }\n",
       "</style>\n",
       "<table border=\"1\" class=\"dataframe\">\n",
       "  <thead>\n",
       "    <tr style=\"text-align: right;\">\n",
       "      <th></th>\n",
       "      <th>Make</th>\n",
       "      <th>Model</th>\n",
       "      <th>Year</th>\n",
       "      <th>Engine Fuel Type</th>\n",
       "      <th>Engine HP</th>\n",
       "      <th>Engine Cylinders</th>\n",
       "      <th>Transmission Type</th>\n",
       "      <th>Driven_Wheels</th>\n",
       "      <th>Number of Doors</th>\n",
       "      <th>Market Category</th>\n",
       "      <th>Vehicle Size</th>\n",
       "      <th>Vehicle Style</th>\n",
       "      <th>highway MPG</th>\n",
       "      <th>city mpg</th>\n",
       "      <th>Popularity</th>\n",
       "      <th>MSRP</th>\n",
       "    </tr>\n",
       "  </thead>\n",
       "  <tbody>\n",
       "    <tr>\n",
       "      <th>0</th>\n",
       "      <td>BMW</td>\n",
       "      <td>1 Series M</td>\n",
       "      <td>2011</td>\n",
       "      <td>premium unleaded (required)</td>\n",
       "      <td>335.0</td>\n",
       "      <td>6.0</td>\n",
       "      <td>MANUAL</td>\n",
       "      <td>rear wheel drive</td>\n",
       "      <td>2.0</td>\n",
       "      <td>Factory Tuner,Luxury,High-Performance</td>\n",
       "      <td>Compact</td>\n",
       "      <td>Coupe</td>\n",
       "      <td>26</td>\n",
       "      <td>19</td>\n",
       "      <td>3916</td>\n",
       "      <td>46135</td>\n",
       "    </tr>\n",
       "    <tr>\n",
       "      <th>1</th>\n",
       "      <td>BMW</td>\n",
       "      <td>1 Series</td>\n",
       "      <td>2011</td>\n",
       "      <td>premium unleaded (required)</td>\n",
       "      <td>300.0</td>\n",
       "      <td>6.0</td>\n",
       "      <td>MANUAL</td>\n",
       "      <td>rear wheel drive</td>\n",
       "      <td>2.0</td>\n",
       "      <td>Luxury,Performance</td>\n",
       "      <td>Compact</td>\n",
       "      <td>Convertible</td>\n",
       "      <td>28</td>\n",
       "      <td>19</td>\n",
       "      <td>3916</td>\n",
       "      <td>40650</td>\n",
       "    </tr>\n",
       "    <tr>\n",
       "      <th>2</th>\n",
       "      <td>BMW</td>\n",
       "      <td>1 Series</td>\n",
       "      <td>2011</td>\n",
       "      <td>premium unleaded (required)</td>\n",
       "      <td>300.0</td>\n",
       "      <td>6.0</td>\n",
       "      <td>MANUAL</td>\n",
       "      <td>rear wheel drive</td>\n",
       "      <td>2.0</td>\n",
       "      <td>Luxury,High-Performance</td>\n",
       "      <td>Compact</td>\n",
       "      <td>Coupe</td>\n",
       "      <td>28</td>\n",
       "      <td>20</td>\n",
       "      <td>3916</td>\n",
       "      <td>36350</td>\n",
       "    </tr>\n",
       "    <tr>\n",
       "      <th>3</th>\n",
       "      <td>BMW</td>\n",
       "      <td>1 Series</td>\n",
       "      <td>2011</td>\n",
       "      <td>premium unleaded (required)</td>\n",
       "      <td>230.0</td>\n",
       "      <td>6.0</td>\n",
       "      <td>MANUAL</td>\n",
       "      <td>rear wheel drive</td>\n",
       "      <td>2.0</td>\n",
       "      <td>Luxury,Performance</td>\n",
       "      <td>Compact</td>\n",
       "      <td>Coupe</td>\n",
       "      <td>28</td>\n",
       "      <td>18</td>\n",
       "      <td>3916</td>\n",
       "      <td>29450</td>\n",
       "    </tr>\n",
       "    <tr>\n",
       "      <th>4</th>\n",
       "      <td>BMW</td>\n",
       "      <td>1 Series</td>\n",
       "      <td>2011</td>\n",
       "      <td>premium unleaded (required)</td>\n",
       "      <td>230.0</td>\n",
       "      <td>6.0</td>\n",
       "      <td>MANUAL</td>\n",
       "      <td>rear wheel drive</td>\n",
       "      <td>2.0</td>\n",
       "      <td>Luxury</td>\n",
       "      <td>Compact</td>\n",
       "      <td>Convertible</td>\n",
       "      <td>28</td>\n",
       "      <td>18</td>\n",
       "      <td>3916</td>\n",
       "      <td>34500</td>\n",
       "    </tr>\n",
       "  </tbody>\n",
       "</table>\n",
       "</div>"
      ],
      "text/plain": [
       "  Make       Model  Year             Engine Fuel Type  Engine HP  \\\n",
       "0  BMW  1 Series M  2011  premium unleaded (required)      335.0   \n",
       "1  BMW    1 Series  2011  premium unleaded (required)      300.0   \n",
       "2  BMW    1 Series  2011  premium unleaded (required)      300.0   \n",
       "3  BMW    1 Series  2011  premium unleaded (required)      230.0   \n",
       "4  BMW    1 Series  2011  premium unleaded (required)      230.0   \n",
       "\n",
       "   Engine Cylinders Transmission Type     Driven_Wheels  Number of Doors  \\\n",
       "0               6.0            MANUAL  rear wheel drive              2.0   \n",
       "1               6.0            MANUAL  rear wheel drive              2.0   \n",
       "2               6.0            MANUAL  rear wheel drive              2.0   \n",
       "3               6.0            MANUAL  rear wheel drive              2.0   \n",
       "4               6.0            MANUAL  rear wheel drive              2.0   \n",
       "\n",
       "                         Market Category Vehicle Size Vehicle Style  \\\n",
       "0  Factory Tuner,Luxury,High-Performance      Compact         Coupe   \n",
       "1                     Luxury,Performance      Compact   Convertible   \n",
       "2                Luxury,High-Performance      Compact         Coupe   \n",
       "3                     Luxury,Performance      Compact         Coupe   \n",
       "4                                 Luxury      Compact   Convertible   \n",
       "\n",
       "   highway MPG  city mpg  Popularity   MSRP  \n",
       "0           26        19        3916  46135  \n",
       "1           28        19        3916  40650  \n",
       "2           28        20        3916  36350  \n",
       "3           28        18        3916  29450  \n",
       "4           28        18        3916  34500  "
      ]
     },
     "execution_count": 5,
     "metadata": {},
     "output_type": "execute_result"
    }
   ],
   "source": [
    "df.head()"
   ]
  },
  {
   "cell_type": "code",
   "execution_count": 6,
   "id": "f723a1e1",
   "metadata": {},
   "outputs": [],
   "source": [
    "df.columns = df.columns.str.lower().str.replace(' ','_')"
   ]
  },
  {
   "cell_type": "code",
   "execution_count": 7,
   "id": "1c0a54df",
   "metadata": {},
   "outputs": [
    {
     "data": {
      "text/plain": [
       "Index(['make', 'model', 'year', 'engine_fuel_type', 'engine_hp',\n",
       "       'engine_cylinders', 'transmission_type', 'driven_wheels',\n",
       "       'number_of_doors', 'market_category', 'vehicle_size', 'vehicle_style',\n",
       "       'highway_mpg', 'city_mpg', 'popularity', 'msrp'],\n",
       "      dtype='object')"
      ]
     },
     "execution_count": 7,
     "metadata": {},
     "output_type": "execute_result"
    }
   ],
   "source": [
    "df.columns"
   ]
  },
  {
   "cell_type": "code",
   "execution_count": 8,
   "id": "21918bf3",
   "metadata": {},
   "outputs": [
    {
     "data": {
      "text/plain": [
       "['make',\n",
       " 'model',\n",
       " 'engine_fuel_type',\n",
       " 'transmission_type',\n",
       " 'driven_wheels',\n",
       " 'market_category',\n",
       " 'vehicle_size',\n",
       " 'vehicle_style']"
      ]
     },
     "execution_count": 8,
     "metadata": {},
     "output_type": "execute_result"
    }
   ],
   "source": [
    "strings = list(df.dtypes[df.dtypes == 'object'].index)\n",
    "strings"
   ]
  },
  {
   "cell_type": "code",
   "execution_count": 10,
   "id": "f78a4306",
   "metadata": {},
   "outputs": [],
   "source": [
    "for col in strings:\n",
    "    df[col]=df[col].str.lower().str.replace(' ', '_')"
   ]
  },
  {
   "cell_type": "code",
   "execution_count": 11,
   "id": "a69da0ab",
   "metadata": {},
   "outputs": [],
   "source": [
    "import matplotlib.pyplot as plt\n",
    "import seaborn as sns\n",
    "\n",
    "%matplotlib inline"
   ]
  },
  {
   "cell_type": "code",
   "execution_count": 13,
   "id": "bf8d4933",
   "metadata": {},
   "outputs": [
    {
     "data": {
      "text/plain": [
       "<Axes: xlabel='msrp', ylabel='Count'>"
      ]
     },
     "execution_count": 13,
     "metadata": {},
     "output_type": "execute_result"
    },
    {
     "data": {
      "image/png": "[encoded data removed]",
      "text/plain": [
       "<Figure size 640x480 with 1 Axes>"
      ]
     },
     "metadata": {},
     "output_type": "display_data"
    }
   ],
   "source": [
    "sns.histplot(df.msrp, bins=50)"
   ]
  },
  {
   "cell_type": "code",
   "execution_count": 14,
   "id": "a9f0dd07",
   "metadata": {},
   "outputs": [
    {
     "data": {
      "text/plain": [
       "<Axes: xlabel='msrp', ylabel='Count'>"
      ]
     },
     "execution_count": 14,
     "metadata": {},
     "output_type": "execute_result"
    },
    {
     "data": {
      "image/png": "[encoded data removed]",
      "text/plain": [
       "<Figure size 640x480 with 1 Axes>"
      ]
     },
     "metadata": {},
     "output_type": "display_data"
    }
   ],
   "source": [
    "sns.histplot(df.msrp[df.msrp < 100000], bins=50)"
   ]
  },
  {
   "cell_type": "code",
   "execution_count": 15,
   "id": "4fe15a15",
   "metadata": {},
   "outputs": [],
   "source": [
    "price_logs = np.log1p(df.msrp)"
   ]
  },
  {
   "cell_type": "code",
   "execution_count": 16,
   "id": "d27755cd",
   "metadata": {},
   "outputs": [
    {
     "data": {
      "text/plain": [
       "<Axes: xlabel='msrp', ylabel='Count'>"
      ]
     },
     "execution_count": 16,
     "metadata": {},
     "output_type": "execute_result"
    },
    {
     "data": {
      "image/png": "[encoded data removed]",
      "text/plain": [
       "<Figure size 640x480 with 1 Axes>"
      ]
     },
     "metadata": {},
     "output_type": "display_data"
    }
   ],
   "source": [
    "sns.histplot(price_logs, bins=50)"
   ]
  },
  {
   "cell_type": "code",
   "execution_count": 17,
   "id": "33b690f7",
   "metadata": {},
   "outputs": [
    {
     "data": {
      "text/plain": [
       "make                    0\n",
       "model                   0\n",
       "year                    0\n",
       "engine_fuel_type        3\n",
       "engine_hp              69\n",
       "engine_cylinders       30\n",
       "transmission_type       0\n",
       "driven_wheels           0\n",
       "number_of_doors         6\n",
       "market_category      3742\n",
       "vehicle_size            0\n",
       "vehicle_style           0\n",
       "highway_mpg             0\n",
       "city_mpg                0\n",
       "popularity              0\n",
       "msrp                    0\n",
       "dtype: int64"
      ]
     },
     "execution_count": 17,
     "metadata": {},
     "output_type": "execute_result"
    }
   ],
   "source": [
    "df.isnull().sum()"
   ]
  },
  {
   "cell_type": "code",
   "execution_count": 34,
   "id": "2c22656a",
   "metadata": {},
   "outputs": [],
   "source": [
    "n=len(df)\n",
    "n_val = np.floor(n*0.2).astype(int)\n",
    "n_test =  np.floor(n*0.2).astype(int)\n",
    "n_train = n-n_test-n_val"
   ]
  },
  {
   "cell_type": "code",
   "execution_count": 38,
   "id": "1a01160e",
   "metadata": {},
   "outputs": [],
   "source": [
    "idx = np.arange(n)"
   ]
  },
  {
   "cell_type": "code",
   "execution_count": 36,
   "id": "a2d34ced",
   "metadata": {},
   "outputs": [],
   "source": [
    "np.random.seed(2)\n",
    "np.random.shuffle(idx)"
   ]
  },
  {
   "cell_type": "code",
   "execution_count": 44,
   "id": "48477ccc",
   "metadata": {},
   "outputs": [],
   "source": [
    "df_train = df.iloc[idx[:n_train]]\n",
    "df_val = df.iloc[idx[n_train:n_train+n_val]]\n",
    "df_test = df.iloc[idx[n_train+n_val:]]"
   ]
  },
  {
   "cell_type": "code",
   "execution_count": 45,
   "id": "ab55b942",
   "metadata": {},
   "outputs": [
    {
     "data": {
      "text/plain": [
       "(2382, 2382, 7150)"
      ]
     },
     "execution_count": 45,
     "metadata": {},
     "output_type": "execute_result"
    }
   ],
   "source": [
    "n_val, n_test, n_train"
   ]
  },
  {
   "cell_type": "code",
   "execution_count": 46,
   "id": "ec1896a9",
   "metadata": {},
   "outputs": [
    {
     "data": {
      "text/plain": [
       "array([    0,     1,     2, ..., 11911, 11912, 11913])"
      ]
     },
     "execution_count": 46,
     "metadata": {},
     "output_type": "execute_result"
    }
   ],
   "source": [
    "idx"
   ]
  },
  {
   "cell_type": "code",
   "execution_count": 47,
   "id": "9efa983c",
   "metadata": {},
   "outputs": [],
   "source": [
    "y_train = np.log1p(df_train.msrp.values)\n",
    "y_val = np.log1p(df_val.msrp.values)\n",
    "y_test = np.log1p(df_test.msrp.values)"
   ]
  },
  {
   "cell_type": "code",
   "execution_count": 48,
   "id": "46907474",
   "metadata": {},
   "outputs": [
    {
     "data": {
      "text/plain": [
       "7150"
      ]
     },
     "execution_count": 48,
     "metadata": {},
     "output_type": "execute_result"
    }
   ],
   "source": [
    "len(y_train)"
   ]
  },
  {
   "cell_type": "code",
   "execution_count": 50,
   "id": "6756f542",
   "metadata": {},
   "outputs": [
    {
     "data": {
      "text/plain": [
       "array([10.73934884, 10.61277871, 10.50097699, ..., 11.08300372,\n",
       "       11.11574098, 11.02648346])"
      ]
     },
     "execution_count": 50,
     "metadata": {},
     "output_type": "execute_result"
    }
   ],
   "source": [
    "y_train"
   ]
  },
  {
   "cell_type": "code",
   "execution_count": 106,
   "id": "32da15f1",
   "metadata": {},
   "outputs": [],
   "source": [
    "x0 = [453, 11, 86]\n",
    "x1 = [245, 14, 80]\n",
    "x2 = [185, 12, 60]"
   ]
  },
  {
   "cell_type": "code",
   "execution_count": 120,
   "id": "dfd31a0d",
   "metadata": {},
   "outputs": [],
   "source": [
    "w0 = 7.17\n",
    "w = [0.01, 0.04, 0.002]"
   ]
  },
  {
   "cell_type": "code",
   "execution_count": 121,
   "id": "3103349f",
   "metadata": {},
   "outputs": [],
   "source": [
    "X = [x0,x1,x2]"
   ]
  },
  {
   "cell_type": "code",
   "execution_count": 122,
   "id": "a8f279ee",
   "metadata": {},
   "outputs": [],
   "source": [
    "X = np.array(X)\n",
    "w= np.array(w)"
   ]
  },
  {
   "cell_type": "code",
   "execution_count": 123,
   "id": "83c69a2a",
   "metadata": {},
   "outputs": [
    {
     "data": {
      "text/plain": [
       "3"
      ]
     },
     "execution_count": 123,
     "metadata": {},
     "output_type": "execute_result"
    }
   ],
   "source": [
    "X.shape[0]"
   ]
  },
  {
   "cell_type": "code",
   "execution_count": 124,
   "id": "17f53884",
   "metadata": {},
   "outputs": [
    {
     "data": {
      "text/plain": [
       "3"
      ]
     },
     "execution_count": 124,
     "metadata": {},
     "output_type": "execute_result"
    }
   ],
   "source": [
    "w.shape[0]"
   ]
  },
  {
   "cell_type": "code",
   "execution_count": 125,
   "id": "6a9fdbbe",
   "metadata": {},
   "outputs": [],
   "source": [
    "def dot(Xi, w):\n",
    "    n=len(Xi)\n",
    "    res = 0.0\n",
    "    for i in range(n):\n",
    "        res = res + w[i] * Xi[i]\n",
    "    \n",
    "    return res"
   ]
  },
  {
   "cell_type": "code",
   "execution_count": 126,
   "id": "50359180",
   "metadata": {},
   "outputs": [],
   "source": [
    "def linear_regression(X,w):\n",
    "    return w0 + dot(X,w)"
   ]
  },
  {
   "cell_type": "code",
   "execution_count": 127,
   "id": "d26a271f",
   "metadata": {},
   "outputs": [
    {
     "data": {
      "text/plain": [
       "12.312000000000001"
      ]
     },
     "execution_count": 127,
     "metadata": {},
     "output_type": "execute_result"
    }
   ],
   "source": [
    "linear_regression(X[0],w)"
   ]
  },
  {
   "cell_type": "code",
   "execution_count": 156,
   "id": "de5eae77",
   "metadata": {},
   "outputs": [],
   "source": [
    "w0 = 7.17\n",
    "w = [0.01, 0.04, 0.002]\n",
    "w_new = [w0] + w"
   ]
  },
  {
   "cell_type": "code",
   "execution_count": 157,
   "id": "bb6a88ff",
   "metadata": {},
   "outputs": [
    {
     "data": {
      "text/plain": [
       "[7.17, 0.01, 0.04, 0.002]"
      ]
     },
     "execution_count": 157,
     "metadata": {},
     "output_type": "execute_result"
    }
   ],
   "source": [
    "w_new"
   ]
  },
  {
   "cell_type": "code",
   "execution_count": 162,
   "id": "42975550",
   "metadata": {},
   "outputs": [
    {
     "data": {
      "text/plain": [
       "array([[   1,  148,   24, 1385],\n",
       "       [   1,  132,   25, 2031],\n",
       "       [   1,  453,   11,   86]])"
      ]
     },
     "execution_count": 162,
     "metadata": {},
     "output_type": "execute_result"
    }
   ],
   "source": [
    "x1  = [1, 148, 24, 1385]\n",
    "x2  = [1, 132, 25, 2031]\n",
    "x10 = [1, 453, 11, 86]\n",
    "\n",
    "X = [x1, x2, x10]\n",
    "X = np.array(X)\n",
    "X"
   ]
  },
  {
   "cell_type": "code",
   "execution_count": 163,
   "id": "91bfe583",
   "metadata": {},
   "outputs": [],
   "source": [
    "def dot(xi, w):\n",
    "    n = len(xi)\n",
    "    \n",
    "    res = 0.0\n",
    "    \n",
    "    for j in range(n):\n",
    "        res = res + xi[j] * w[j]\n",
    "    \n",
    "    return res"
   ]
  },
  {
   "cell_type": "code",
   "execution_count": 164,
   "id": "158fee16",
   "metadata": {},
   "outputs": [],
   "source": [
    "def linear_regression(X):\n",
    "    return X.dot(w_new)"
   ]
  },
  {
   "cell_type": "code",
   "execution_count": 165,
   "id": "f2aed530",
   "metadata": {},
   "outputs": [
    {
     "data": {
      "text/plain": [
       "array([12.38 , 13.552, 12.312])"
      ]
     },
     "execution_count": 165,
     "metadata": {},
     "output_type": "execute_result"
    }
   ],
   "source": [
    "linear_regression(X)"
   ]
  },
  {
   "cell_type": "code",
   "execution_count": 166,
   "id": "b2da3f53",
   "metadata": {},
   "outputs": [],
   "source": [
    "X = [\n",
    "    [148, 24, 1385],\n",
    "    [132, 25, 2031],\n",
    "    [453, 11, 86],\n",
    "    [158, 24, 185],\n",
    "    [172, 25, 201],\n",
    "    [413, 11, 86],\n",
    "    [38,  54, 185],\n",
    "    [142, 25, 431],\n",
    "    [453, 31, 86],\n",
    "]\n"
   ]
  },
  {
   "cell_type": "code",
   "execution_count": 168,
   "id": "74f643c7",
   "metadata": {},
   "outputs": [],
   "source": [
    "X = np.array(X)"
   ]
  },
  {
   "cell_type": "code",
   "execution_count": 169,
   "id": "b66bc4f8",
   "metadata": {},
   "outputs": [],
   "source": [
    "ones = np.ones(X.shape[0])"
   ]
  },
  {
   "cell_type": "code",
   "execution_count": 171,
   "id": "7aa7c71c",
   "metadata": {},
   "outputs": [],
   "source": [
    "X = np.column_stack([ones,X])"
   ]
  },
  {
   "cell_type": "code",
   "execution_count": 172,
   "id": "6865832a",
   "metadata": {},
   "outputs": [
    {
     "data": {
      "text/plain": [
       "array([[1.000e+00, 1.480e+02, 2.400e+01, 1.385e+03],\n",
       "       [1.000e+00, 1.320e+02, 2.500e+01, 2.031e+03],\n",
       "       [1.000e+00, 4.530e+02, 1.100e+01, 8.600e+01],\n",
       "       [1.000e+00, 1.580e+02, 2.400e+01, 1.850e+02],\n",
       "       [1.000e+00, 1.720e+02, 2.500e+01, 2.010e+02],\n",
       "       [1.000e+00, 4.130e+02, 1.100e+01, 8.600e+01],\n",
       "       [1.000e+00, 3.800e+01, 5.400e+01, 1.850e+02],\n",
       "       [1.000e+00, 1.420e+02, 2.500e+01, 4.310e+02],\n",
       "       [1.000e+00, 4.530e+02, 3.100e+01, 8.600e+01]])"
      ]
     },
     "execution_count": 172,
     "metadata": {},
     "output_type": "execute_result"
    }
   ],
   "source": [
    "X"
   ]
  },
  {
   "cell_type": "code",
   "execution_count": 173,
   "id": "0ff6d975",
   "metadata": {},
   "outputs": [],
   "source": [
    "y = [10000, 20000, 15000, 20050, 10000, 20000, 15000, 25000, 12000]"
   ]
  },
  {
   "cell_type": "code",
   "execution_count": null,
   "id": "b6d49a0c",
   "metadata": {},
   "outputs": [],
   "source": [
    "Xw = y\n",
    "(XTX)w = XTy\n",
    "w = (XTX)INV XTy "
   ]
  },
  {
   "cell_type": "code",
   "execution_count": 176,
   "id": "cb6a5c26",
   "metadata": {},
   "outputs": [],
   "source": [
    "XTX = X.T.dot(X)\n",
    "XTX_inv = np.linalg.inv(XTX)\n",
    "w_full = XTX_inv.dot(X.T).dot(y)"
   ]
  },
  {
   "cell_type": "code",
   "execution_count": 177,
   "id": "bb87b166",
   "metadata": {},
   "outputs": [
    {
     "data": {
      "text/plain": [
       "array([ 2.58447541e+04, -1.60890647e+01, -1.99472549e+02, -1.22802883e+00])"
      ]
     },
     "execution_count": 177,
     "metadata": {},
     "output_type": "execute_result"
    }
   ],
   "source": [
    "w_full"
   ]
  },
  {
   "cell_type": "code",
   "execution_count": 178,
   "id": "7c262f31",
   "metadata": {},
   "outputs": [],
   "source": [
    "w0 = w_full[0]\n",
    "w = w_full[1:]"
   ]
  },
  {
   "cell_type": "code",
   "execution_count": 179,
   "id": "c9e48e7b",
   "metadata": {},
   "outputs": [
    {
     "data": {
      "text/plain": [
       "(25844.754055766785, array([ -16.08906468, -199.47254894,   -1.22802883]))"
      ]
     },
     "execution_count": 179,
     "metadata": {},
     "output_type": "execute_result"
    }
   ],
   "source": [
    "w0, w"
   ]
  },
  {
   "cell_type": "code",
   "execution_count": 180,
   "id": "cbfd227c",
   "metadata": {},
   "outputs": [],
   "source": [
    "def train_linear_regression(X, y):\n",
    "    ones = np.ones(X.shape[0])\n",
    "    X = np.column_stack([ones, X])\n",
    "\n",
    "    XTX = X.T.dot(X)\n",
    "    XTX_inv = np.linalg.inv(XTX)\n",
    "    w_full = XTX_inv.dot(X.T).dot(y)\n",
    "    \n",
    "    return w_full[0], w_full[1:]"
   ]
  },
  {
   "cell_type": "code",
   "execution_count": 181,
   "id": "176becb8",
   "metadata": {},
   "outputs": [
    {
     "data": {
      "text/plain": [
       "(8.127577566616782e+20,\n",
       " array([-8.12757757e+20,  2.60091371e+01,  7.02526108e+00, -4.63612378e+00]))"
      ]
     },
     "execution_count": 181,
     "metadata": {},
     "output_type": "execute_result"
    }
   ],
   "source": [
    "train_linear_regression(X, y)"
   ]
  },
  {
   "cell_type": "code",
   "execution_count": 182,
   "id": "0af7b5a4",
   "metadata": {},
   "outputs": [
    {
     "data": {
      "text/plain": [
       "Index(['make', 'model', 'year', 'engine_fuel_type', 'engine_hp',\n",
       "       'engine_cylinders', 'transmission_type', 'driven_wheels',\n",
       "       'number_of_doors', 'market_category', 'vehicle_size', 'vehicle_style',\n",
       "       'highway_mpg', 'city_mpg', 'popularity', 'msrp'],\n",
       "      dtype='object')"
      ]
     },
     "execution_count": 182,
     "metadata": {},
     "output_type": "execute_result"
    }
   ],
   "source": [
    "df_train.columns"
   ]
  },
  {
   "cell_type": "code",
   "execution_count": 183,
   "id": "abdcb5df",
   "metadata": {},
   "outputs": [],
   "source": [
    "base = ['engine_hp', 'engine_cylinders', 'highway_mpg',\n",
    "        'city_mpg', 'popularity']\n",
    "\n",
    "X_train = df_train[base].fillna(0).values\n",
    "\n",
    "w0, w = train_linear_regression(X_train, y_train)\n",
    "\n",
    "y_pred = w0 + X_train.dot(w)"
   ]
  },
  {
   "cell_type": "code",
   "execution_count": 184,
   "id": "222d950b",
   "metadata": {},
   "outputs": [
    {
     "data": {
      "text/plain": [
       "array([10.7973395 , 10.50012697, 10.51276563, ..., 10.98665713,\n",
       "       10.97145327, 11.0297035 ])"
      ]
     },
     "execution_count": 184,
     "metadata": {},
     "output_type": "execute_result"
    }
   ],
   "source": [
    "y_pred"
   ]
  },
  {
   "cell_type": "code",
   "execution_count": 185,
   "id": "44a60bb5",
   "metadata": {},
   "outputs": [
    {
     "data": {
      "text/plain": [
       "8.00516581212838"
      ]
     },
     "execution_count": 185,
     "metadata": {},
     "output_type": "execute_result"
    }
   ],
   "source": [
    "w0"
   ]
  },
  {
   "cell_type": "code",
   "execution_count": 186,
   "id": "32db1ad7",
   "metadata": {},
   "outputs": [
    {
     "data": {
      "text/plain": [
       "array([ 9.36057823e-03, -1.54663530e-01,  1.52038564e-02,  1.26386595e-02,\n",
       "       -1.30422980e-05])"
      ]
     },
     "execution_count": 186,
     "metadata": {},
     "output_type": "execute_result"
    }
   ],
   "source": [
    "w"
   ]
  },
  {
   "cell_type": "code",
   "execution_count": 187,
   "id": "8d49edd1",
   "metadata": {},
   "outputs": [],
   "source": [
    "df_train = df.iloc[idx[:n_train]]\n",
    "df_val = df.iloc[idx[n_train:n_train+n_val]]\n",
    "df_test = df.iloc[idx[n_train+n_val:]]"
   ]
  },
  {
   "cell_type": "code",
   "execution_count": 188,
   "id": "c352e54c",
   "metadata": {},
   "outputs": [
    {
     "data": {
      "text/plain": [
       "(7150, 2382, 2382)"
      ]
     },
     "execution_count": 188,
     "metadata": {},
     "output_type": "execute_result"
    }
   ],
   "source": [
    "len(df_train), len(df_val), len(df_test)"
   ]
  },
  {
   "cell_type": "code",
   "execution_count": 189,
   "id": "51941782",
   "metadata": {},
   "outputs": [],
   "source": [
    "df_train = df_train.reset_index(drop=True)\n",
    "df_val = df_val.reset_index(drop=True)\n",
    "df_test = df_test.reset_index(drop=True)"
   ]
  },
  {
   "cell_type": "code",
   "execution_count": 190,
   "id": "9a457b70",
   "metadata": {},
   "outputs": [],
   "source": [
    "y_train = np.log1p(df_train.msrp.values)\n",
    "y_val = np.log1p(df_val.msrp.values)\n",
    "y_test = np.log1p(df_test.msrp.values)"
   ]
  },
  {
   "cell_type": "code",
   "execution_count": 191,
   "id": "9a1f2c97",
   "metadata": {},
   "outputs": [],
   "source": [
    "del df_train['msrp']\n",
    "del df_val['msrp']\n",
    "del df_test['msrp']"
   ]
  },
  {
   "cell_type": "code",
   "execution_count": 192,
   "id": "5dc68fc7",
   "metadata": {},
   "outputs": [
    {
     "data": {
      "text/plain": [
       "7150"
      ]
     },
     "execution_count": 192,
     "metadata": {},
     "output_type": "execute_result"
    }
   ],
   "source": [
    "len(y_train)"
   ]
  },
  {
   "cell_type": "code",
   "execution_count": 193,
   "id": "16650010",
   "metadata": {},
   "outputs": [],
   "source": [
    "base = ['engine_hp', 'engine_cylinders', 'highway_mpg',\n",
    "        'city_mpg', 'popularity']\n",
    "\n",
    "X_train = df_train[base].fillna(0).values\n",
    "\n",
    "w0, w = train_linear_regression(X_train, y_train)\n",
    "\n",
    "y_pred = w0 + X_train.dot(w)"
   ]
  },
  {
   "cell_type": "code",
   "execution_count": 200,
   "id": "3562946d",
   "metadata": {},
   "outputs": [
    {
     "data": {
      "text/plain": [
       "array([10.98665713, 11.17011217, 11.11186195, ..., 10.62470651,\n",
       "       10.62470651, 10.60950266])"
      ]
     },
     "execution_count": 200,
     "metadata": {},
     "output_type": "execute_result"
    }
   ],
   "source": [
    "y_pred"
   ]
  },
  {
   "cell_type": "code",
   "execution_count": 195,
   "id": "b08b8c86",
   "metadata": {},
   "outputs": [
    {
     "data": {
      "text/plain": [
       "<Axes: ylabel='Count'>"
      ]
     },
     "execution_count": 195,
     "metadata": {},
     "output_type": "execute_result"
    },
    {
     "data": {
      "image/png": "[encoded data removed]",
      "text/plain": [
       "<Figure size 640x480 with 1 Axes>"
      ]
     },
     "metadata": {},
     "output_type": "display_data"
    }
   ],
   "source": [
    "sns.histplot(y_pred, color='red', alpha=0.5, bins=50)\n",
    "sns.histplot(y_train, color='blue', alpha=0.5, bins=50)"
   ]
  },
  {
   "cell_type": "code",
   "execution_count": 196,
   "id": "872803e9",
   "metadata": {},
   "outputs": [],
   "source": [
    "def rmse(y, y_pred):\n",
    "    se = (y - y_pred) ** 2\n",
    "    mse = se.mean()\n",
    "    return np.sqrt(mse)"
   ]
  },
  {
   "cell_type": "code",
   "execution_count": 197,
   "id": "7c67f2b2",
   "metadata": {},
   "outputs": [
    {
     "data": {
      "text/plain": [
       "0.7764354792432974"
      ]
     },
     "execution_count": 197,
     "metadata": {},
     "output_type": "execute_result"
    }
   ],
   "source": [
    "rmse(y_train, y_pred)"
   ]
  },
  {
   "cell_type": "code",
   "execution_count": 202,
   "id": "8f9b8069",
   "metadata": {},
   "outputs": [],
   "source": [
    "def prepare_X(df):\n",
    "    df_num = df[base]\n",
    "    print(df_num)\n",
    "    df_num = df_num.fillna(0)\n",
    "    print(df_num)\n",
    "    X = df_num.values\n",
    "    print(X)\n",
    "    return X"
   ]
  },
  {
   "cell_type": "code",
   "execution_count": 199,
   "id": "83037e6f",
   "metadata": {},
   "outputs": [
    {
     "data": {
      "text/plain": [
       "0.7769971249567783"
      ]
     },
     "execution_count": 199,
     "metadata": {},
     "output_type": "execute_result"
    }
   ],
   "source": [
    "X_train = prepare_X(df_train)\n",
    "w0, w = train_linear_regression(X_train, y_train)\n",
    "\n",
    "X_val = prepare_X(df_val)\n",
    "y_pred = w0 + X_val.dot(w)\n",
    "rmse(y_val, y_pred)"
   ]
  },
  {
   "cell_type": "code",
   "execution_count": 203,
   "id": "082198e2",
   "metadata": {},
   "outputs": [
    {
     "name": "stdout",
     "output_type": "stream",
     "text": [
      "      engine_hp  engine_cylinders  highway_mpg  city_mpg  popularity\n",
      "0         335.0               6.0           26        19        3916\n",
      "1         300.0               6.0           28        19        3916\n",
      "2         300.0               6.0           28        20        3916\n",
      "3         230.0               6.0           28        18        3916\n",
      "4         230.0               6.0           28        18        3916\n",
      "...         ...               ...          ...       ...         ...\n",
      "7145      160.0               6.0           18        14         586\n",
      "7146      160.0               6.0           18        14         586\n",
      "7147      365.0               6.0           20        15          61\n",
      "7148      365.0               6.0           19        15          61\n",
      "7149      365.0               6.0           22        16          61\n",
      "\n",
      "[7150 rows x 5 columns]\n",
      "      engine_hp  engine_cylinders  highway_mpg  city_mpg  popularity\n",
      "0         335.0               6.0           26        19        3916\n",
      "1         300.0               6.0           28        19        3916\n",
      "2         300.0               6.0           28        20        3916\n",
      "3         230.0               6.0           28        18        3916\n",
      "4         230.0               6.0           28        18        3916\n",
      "...         ...               ...          ...       ...         ...\n",
      "7145      160.0               6.0           18        14         586\n",
      "7146      160.0               6.0           18        14         586\n",
      "7147      365.0               6.0           20        15          61\n",
      "7148      365.0               6.0           19        15          61\n",
      "7149      365.0               6.0           22        16          61\n",
      "\n",
      "[7150 rows x 5 columns]\n",
      "[[ 335.    6.   26.   19. 3916.]\n",
      " [ 300.    6.   28.   19. 3916.]\n",
      " [ 300.    6.   28.   20. 3916.]\n",
      " ...\n",
      " [ 365.    6.   20.   15.   61.]\n",
      " [ 365.    6.   19.   15.   61.]\n",
      " [ 365.    6.   22.   16.   61.]]\n"
     ]
    }
   ],
   "source": [
    "X_train = prepare_X(df_train)"
   ]
  },
  {
   "cell_type": "code",
   "execution_count": null,
   "id": "47c87971",
   "metadata": {},
   "outputs": [],
   "source": []
  }
 ],
 "metadata": {
  "kernelspec": {
   "display_name": "Python 3 (ipykernel)",
   "language": "python",
   "name": "python3"
  },
  "language_info": {
   "codemirror_mode": {
    "name": "ipython",
    "version": 3
   },
   "file_extension": ".py",
   "mimetype": "text/x-python",
   "name": "python",
   "nbconvert_exporter": "python",
   "pygments_lexer": "ipython3",
   "version": "3.12.0"
  }
 },
 "nbformat": 4,
 "nbformat_minor": 5
}
