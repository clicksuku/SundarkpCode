{
 "cells": [
  {
   "cell_type": "code",
   "execution_count": 1,
   "id": "289c6a25",
   "metadata": {},
   "outputs": [],
   "source": [
    "import pickle"
   ]
  },
  {
   "cell_type": "code",
   "execution_count": 3,
   "id": "792cec8d",
   "metadata": {},
   "outputs": [],
   "source": [
    "with open('pipeline_v1.bin', 'rb') as f_in: # very important to use 'rb' here, it means read-binary \n",
    "    dict_vectorizer, model = pickle.load(f_in)"
   ]
  },
  {
   "cell_type": "code",
   "execution_count": 4,
   "id": "9d8b00e0",
   "metadata": {},
   "outputs": [
    {
     "data": {
      "text/plain": [
       "(DictVectorizer(), LogisticRegression(solver='liblinear'))"
      ]
     },
     "execution_count": 4,
     "metadata": {},
     "output_type": "execute_result"
    }
   ],
   "source": [
    "dict_vectorizer, model"
   ]
  },
  {
   "cell_type": "code",
   "execution_count": 5,
   "id": "cc9b78f8",
   "metadata": {},
   "outputs": [],
   "source": [
    "lead = {\n",
    "    \"lead_source\": \"paid_ads\",\n",
    "    \"number_of_courses_viewed\": 2,\n",
    "    \"annual_income\": 79276.0\n",
    "}"
   ]
  },
  {
   "cell_type": "code",
   "execution_count": 6,
   "id": "30467ba8",
   "metadata": {},
   "outputs": [],
   "source": [
    "x = dict_vectorizer.transform([lead])"
   ]
  },
  {
   "cell_type": "code",
   "execution_count": 7,
   "id": "98661d81",
   "metadata": {},
   "outputs": [
    {
     "data": {
      "text/plain": [
       "<Compressed Sparse Row sparse matrix of dtype 'float64'\n",
       "\twith 3 stored elements and shape (1, 8)>"
      ]
     },
     "execution_count": 7,
     "metadata": {},
     "output_type": "execute_result"
    }
   ],
   "source": [
    "x"
   ]
  },
  {
   "cell_type": "code",
   "execution_count": 8,
   "id": "323922ac",
   "metadata": {},
   "outputs": [
    {
     "name": "stdout",
     "output_type": "stream",
     "text": [
      "<Compressed Sparse Row sparse matrix of dtype 'float64'\n",
      "\twith 3 stored elements and shape (1, 8)>\n",
      "  Coords\tValues\n",
      "  (0, 0)\t79276.0\n",
      "  (0, 4)\t1.0\n",
      "  (0, 7)\t2.0\n"
     ]
    }
   ],
   "source": [
    "print(x)"
   ]
  },
  {
   "cell_type": "code",
   "execution_count": 11,
   "id": "3960dff4",
   "metadata": {},
   "outputs": [
    {
     "data": {
      "text/plain": [
       "0.5336072702798061"
      ]
     },
     "execution_count": 11,
     "metadata": {},
     "output_type": "execute_result"
    }
   ],
   "source": [
    "model.predict_proba(x)[0,1]"
   ]
  },
  {
   "cell_type": "code",
   "execution_count": null,
   "id": "a08c2c2a",
   "metadata": {},
   "outputs": [],
   "source": []
  }
 ],
 "metadata": {
  "kernelspec": {
   "display_name": "Python 3 (ipykernel)",
   "language": "python",
   "name": "python3"
  },
  "language_info": {
   "codemirror_mode": {
    "name": "ipython",
    "version": 3
   },
   "file_extension": ".py",
   "mimetype": "text/x-python",
   "name": "python",
   "nbconvert_exporter": "python",
   "pygments_lexer": "ipython3",
   "version": "3.12.0"
  }
 },
 "nbformat": 4,
 "nbformat_minor": 5
}
